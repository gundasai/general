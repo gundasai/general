{
  "nbformat": 4,
  "nbformat_minor": 0,
  "metadata": {
    "accelerator": "GPU",
    "colab": {
      "name": "14_Unet_Depth_2+Aug.ipynb",
      "provenance": [],
      "collapsed_sections": [],
      "include_colab_link": true
    },
    "kernelspec": {
      "display_name": "Python 3",
      "language": "python",
      "name": "python3"
    },
    "language_info": {
      "codemirror_mode": {
        "name": "ipython",
        "version": 3
      },
      "file_extension": ".py",
      "mimetype": "text/x-python",
      "name": "python",
      "nbconvert_exporter": "python",
      "pygments_lexer": "ipython3",
      "version": "3.5.0"
    }
  },
  "cells": [
    {
      "cell_type": "markdown",
      "metadata": {
        "id": "view-in-github",
        "colab_type": "text"
      },
      "source": [
        "<a href=\"https://colab.research.google.com/github/gundasai/general/blob/master/14_Unet_Depth_2%2BAug.ipynb\" target=\"_parent\"><img src=\"https://colab.research.google.com/assets/colab-badge.svg\" alt=\"Open In Colab\"/></a>"
      ]
    },
    {
      "cell_type": "markdown",
      "metadata": {
        "colab_type": "text",
        "deletable": true,
        "editable": true,
        "id": "mCvUJesKo3kc"
      },
      "source": [
        "## Semantic Segmentation using Covolutional Neural Network"
      ]
    },
    {
      "cell_type": "code",
      "metadata": {
        "colab_type": "code",
        "deletable": true,
        "editable": true,
        "id": "uxw4V2odbp2Z",
        "colab": {
          "base_uri": "https://localhost:8080/",
          "height": 122
        },
        "outputId": "e00cbab7-1bb4-438d-9ba0-cf6045d5d0f0"
      },
      "source": [
        "from google.colab import drive\n",
        "drive.mount('/content/drive')"
      ],
      "execution_count": null,
      "outputs": [
        {
          "output_type": "stream",
          "text": [
            "Go to this URL in a browser: https://accounts.google.com/o/oauth2/auth?client_id=947318989803-6bn6qk8qdgf4n4g3pfee6491hc0brc4i.apps.googleusercontent.com&redirect_uri=urn%3Aietf%3Awg%3Aoauth%3A2.0%3Aoob&scope=email%20https%3A%2F%2Fwww.googleapis.com%2Fauth%2Fdocs.test%20https%3A%2F%2Fwww.googleapis.com%2Fauth%2Fdrive%20https%3A%2F%2Fwww.googleapis.com%2Fauth%2Fdrive.photos.readonly%20https%3A%2F%2Fwww.googleapis.com%2Fauth%2Fpeopleapi.readonly&response_type=code\n",
            "\n",
            "Enter your authorization code:\n",
            "··········\n",
            "Mounted at /content/drive\n"
          ],
          "name": "stdout"
        }
      ]
    },
    {
      "cell_type": "code",
      "metadata": {
        "colab_type": "code",
        "deletable": true,
        "editable": true,
        "id": "-CCR1yilkval",
        "colab": {
          "base_uri": "https://localhost:8080/",
          "height": 202
        },
        "outputId": "279ee3c6-449e-4735-c207-4d045f74f8d2"
      },
      "source": [
        "import keras\n",
        "keras.backend.clear_session()"
      ],
      "execution_count": null,
      "outputs": [
        {
          "output_type": "stream",
          "text": [
            "Using TensorFlow backend.\n"
          ],
          "name": "stderr"
        },
        {
          "output_type": "display_data",
          "data": {
            "text/html": [
              "<p style=\"color: red;\">\n",
              "The default version of TensorFlow in Colab will soon switch to TensorFlow 2.x.<br>\n",
              "We recommend you <a href=\"https://www.tensorflow.org/guide/migrate\" target=\"_blank\">upgrade</a> now \n",
              "or ensure your notebook will continue to use TensorFlow 1.x via the <code>%tensorflow_version 1.x</code> magic:\n",
              "<a href=\"https://colab.research.google.com/notebooks/tensorflow_version.ipynb\" target=\"_blank\">more info</a>.</p>\n"
            ],
            "text/plain": [
              "<IPython.core.display.HTML object>"
            ]
          },
          "metadata": {
            "tags": []
          }
        },
        {
          "output_type": "stream",
          "text": [
            "WARNING:tensorflow:From /usr/local/lib/python3.6/dist-packages/keras/backend/tensorflow_backend.py:107: The name tf.reset_default_graph is deprecated. Please use tf.compat.v1.reset_default_graph instead.\n",
            "\n",
            "WARNING:tensorflow:From /usr/local/lib/python3.6/dist-packages/keras/backend/tensorflow_backend.py:111: The name tf.placeholder_with_default is deprecated. Please use tf.compat.v1.placeholder_with_default instead.\n",
            "\n",
            "WARNING:tensorflow:From /usr/local/lib/python3.6/dist-packages/keras/backend/tensorflow_backend.py:66: The name tf.get_default_graph is deprecated. Please use tf.compat.v1.get_default_graph instead.\n",
            "\n"
          ],
          "name": "stdout"
        }
      ]
    },
    {
      "cell_type": "code",
      "metadata": {
        "colab_type": "code",
        "deletable": true,
        "editable": true,
        "id": "JVd83jPNk3Iy",
        "colab": {
          "base_uri": "https://localhost:8080/",
          "height": 34
        },
        "outputId": "ec6bafd4-68a2-42ed-8548-b299cfb5eb2f"
      },
      "source": [
        "import tensorflow as tf\n",
        "if tf.test.gpu_device_name():\n",
        "    print('Default GPU Device: {}'.format(tf.test.gpu_device_name()))\n",
        "else:\n",
        "    print(\"Please install GPU version of TF\")"
      ],
      "execution_count": null,
      "outputs": [
        {
          "output_type": "stream",
          "text": [
            "Default GPU Device: /device:GPU:0\n"
          ],
          "name": "stdout"
        }
      ]
    },
    {
      "cell_type": "markdown",
      "metadata": {
        "colab_type": "text",
        "deletable": true,
        "editable": true,
        "id": "1sySsJGiYH5p"
      },
      "source": [
        "## Reproducibiity"
      ]
    },
    {
      "cell_type": "code",
      "metadata": {
        "colab_type": "code",
        "deletable": true,
        "editable": true,
        "id": "hNUt5vS_YHjn",
        "colab": {}
      },
      "source": [
        "import keras\n",
        "import numpy as np\n",
        "import random\n",
        "import tensorflow as tf\n",
        "\n",
        "keras.backend.clear_session()\n",
        "random.seed(42)\n",
        "np.random.seed(42)\n",
        "tf.set_random_seed(42)"
      ],
      "execution_count": null,
      "outputs": []
    },
    {
      "cell_type": "markdown",
      "metadata": {
        "colab_type": "text",
        "deletable": true,
        "editable": true,
        "id": "ZAfdCD53pGRj"
      },
      "source": [
        "### Importing the  Library Functions"
      ]
    },
    {
      "cell_type": "code",
      "metadata": {
        "colab_type": "code",
        "deletable": true,
        "editable": true,
        "id": "Rxrj7W0cdD7Z",
        "colab": {
          "base_uri": "https://localhost:8080/",
          "height": 292
        },
        "outputId": "bfce4aa2-7f64-451a-f952-fde9689d97c5"
      },
      "source": [
        "from keras.layers import *\n",
        "import keras\n",
        "from keras.models import Sequential,Model\n",
        "import cv2\n",
        "import os\n",
        "import matplotlib.pyplot as plt\n",
        "%matplotlib inline\n",
        "!pip install medpy\n",
        "from medpy.metric import dc, precision, recall,jc\n",
        "#!pip install -U scipy==1.2.0\n",
        "import os\n",
        "import cv2\n",
        "import numpy as np\n",
        "import seaborn as sns\n",
        "from sklearn.model_selection import train_test_split\n",
        "from sklearn.utils import shuffle"
      ],
      "execution_count": null,
      "outputs": [
        {
          "output_type": "stream",
          "text": [
            "Collecting medpy\n",
            "\u001b[?25l  Downloading https://files.pythonhosted.org/packages/3b/70/c1fd5dd60242eee81774696ea7ba4caafac2bad8f028bba94b1af83777d7/MedPy-0.4.0.tar.gz (151kB)\n",
            "\u001b[K     |████████████████████████████████| 153kB 2.8MB/s \n",
            "\u001b[?25hRequirement already satisfied: scipy>=1.1.0 in /usr/local/lib/python3.6/dist-packages (from medpy) (1.3.1)\n",
            "Requirement already satisfied: numpy>=1.11.0 in /usr/local/lib/python3.6/dist-packages (from medpy) (1.17.3)\n",
            "Collecting SimpleITK>=1.1.0\n",
            "\u001b[?25l  Downloading https://files.pythonhosted.org/packages/bb/06/f3a67ef0e108d18840fd5e83f831d5ef1710ba46f05465fc50f9a505b518/SimpleITK-1.2.3-cp36-cp36m-manylinux1_x86_64.whl (42.5MB)\n",
            "\u001b[K     |████████████████████████████████| 42.5MB 63.9MB/s \n",
            "\u001b[?25hBuilding wheels for collected packages: medpy\n",
            "  Building wheel for medpy (setup.py) ... \u001b[?25l\u001b[?25hdone\n",
            "  Created wheel for medpy: filename=MedPy-0.4.0-cp36-cp36m-linux_x86_64.whl size=753429 sha256=e03101bc7d02aeafcbda9c606f3ac31f8bb3892a1debf3d9b9c757dd4acd2a04\n",
            "  Stored in directory: /root/.cache/pip/wheels/8c/c9/9c/2c6281c7a72b9fb1570862a4f028af7ce38405008354fbf870\n",
            "Successfully built medpy\n",
            "Installing collected packages: SimpleITK, medpy\n",
            "Successfully installed SimpleITK-1.2.3 medpy-0.4.0\n"
          ],
          "name": "stdout"
        }
      ]
    },
    {
      "cell_type": "code",
      "metadata": {
        "colab_type": "code",
        "deletable": true,
        "editable": true,
        "id": "2QEzetiF-fnn",
        "colab": {}
      },
      "source": [
        "#!pip install -U scipy==1.2.0\n",
        "#from scipy.misc import imsave"
      ],
      "execution_count": null,
      "outputs": []
    },
    {
      "cell_type": "markdown",
      "metadata": {
        "colab_type": "text",
        "deletable": true,
        "editable": true,
        "id": "3AZr2mFUpQY6"
      },
      "source": [
        "### Loading Data"
      ]
    },
    {
      "cell_type": "code",
      "metadata": {
        "colab_type": "code",
        "deletable": true,
        "editable": true,
        "id": "SnpIJYJKjp4f",
        "colab": {
          "base_uri": "https://localhost:8080/",
          "height": 34
        },
        "outputId": "37153d7d-0902-4002-8c6b-79207ac2265d"
      },
      "source": [
        "#import os\n",
        "#os.getcwd()\n",
        "import os \n",
        "os.chdir('/content/drive/My Drive/Experiments/Cv_Exp/dataset')\n",
        "print(os.getcwd())"
      ],
      "execution_count": null,
      "outputs": [
        {
          "output_type": "stream",
          "text": [
            "/content/drive/My Drive/Experiments/Cv_Exp/dataset\n"
          ],
          "name": "stdout"
        }
      ]
    },
    {
      "cell_type": "code",
      "metadata": {
        "colab_type": "code",
        "deletable": true,
        "editable": true,
        "id": "Shk_5BDYdEGJ",
        "colab": {}
      },
      "source": [
        "trainx = np.load('Skin_TrainX.npy')\n",
        "trainy = np.load('Skin_TrainY.npy')\n",
        "\n",
        "validx = np.load('Skin_ValidX.npy')\n",
        "validy = np.load('Skin_ValidY.npy')\n",
        "\n",
        "testx = np.load('Skin_TestX.npy')\n",
        "testy = np.load('Skin_TestY.npy')"
      ],
      "execution_count": null,
      "outputs": []
    },
    {
      "cell_type": "code",
      "metadata": {
        "colab_type": "code",
        "deletable": true,
        "editable": true,
        "id": "1eqDi0qMRCOe",
        "colab": {
          "base_uri": "https://localhost:8080/",
          "height": 221
        },
        "outputId": "766d86d7-735c-4786-a4e4-3564131106da"
      },
      "source": [
        "print(len(trainx))\n",
        "print(len(trainy))\n",
        "print(trainx.shape)\n",
        "print(trainy.shape)\n",
        "\n",
        "print(len(validx))\n",
        "print(len(validy))\n",
        "print(validx.shape)\n",
        "print(validy.shape)\n",
        "\n",
        "print(len(testx))\n",
        "print(len(testy))\n",
        "print(testx.shape)\n",
        "print(testy.shape)"
      ],
      "execution_count": null,
      "outputs": [
        {
          "output_type": "stream",
          "text": [
            "2000\n",
            "2000\n",
            "(2000, 192, 256, 3)\n",
            "(2000, 192, 256)\n",
            "150\n",
            "150\n",
            "(150, 192, 256, 3)\n",
            "(150, 192, 256)\n",
            "600\n",
            "600\n",
            "(600, 192, 256, 3)\n",
            "(600, 192, 256)\n"
          ],
          "name": "stdout"
        }
      ]
    },
    {
      "cell_type": "code",
      "metadata": {
        "colab_type": "code",
        "deletable": true,
        "editable": true,
        "id": "j9EM9P3zr4Na",
        "colab": {
          "base_uri": "https://localhost:8080/",
          "height": 85
        },
        "outputId": "893b600c-85a8-45cc-d4c6-73b861664ec2"
      },
      "source": [
        "print(np.max(trainx[0]))\n",
        "print(np.min(trainx[0]))\n",
        "\n",
        "print(np.max(trainy[0]))\n",
        "print(np.min(trainy[0]))"
      ],
      "execution_count": null,
      "outputs": [
        {
          "output_type": "stream",
          "text": [
            "255\n",
            "20\n",
            "255\n",
            "0\n"
          ],
          "name": "stdout"
        }
      ]
    },
    {
      "cell_type": "code",
      "metadata": {
        "colab_type": "code",
        "deletable": true,
        "editable": true,
        "id": "aFkp4ofiri_b",
        "colab": {}
      },
      "source": [
        "trainy = trainy/255\n",
        "validy = validy/255\n",
        "testy  = testy/255"
      ],
      "execution_count": null,
      "outputs": []
    },
    {
      "cell_type": "code",
      "metadata": {
        "colab_type": "code",
        "deletable": true,
        "editable": true,
        "id": "YekXmy0RnqiK",
        "colab": {
          "base_uri": "https://localhost:8080/",
          "height": 85
        },
        "outputId": "0f0e4fd6-7397-440f-960e-ff2229bec353"
      },
      "source": [
        "print(np.max(trainx[0]))\n",
        "print(np.min(trainx[0]))\n",
        "\n",
        "print(np.max(trainy[0]))\n",
        "print(np.min(trainy[0]))"
      ],
      "execution_count": null,
      "outputs": [
        {
          "output_type": "stream",
          "text": [
            "255\n",
            "20\n",
            "1.0\n",
            "0.0\n"
          ],
          "name": "stdout"
        }
      ]
    },
    {
      "cell_type": "code",
      "metadata": {
        "colab_type": "code",
        "deletable": true,
        "editable": true,
        "id": "Sha_Q7V0UPTE",
        "colab": {
          "base_uri": "https://localhost:8080/",
          "height": 85
        },
        "outputId": "2a5bf3c6-226d-49a4-c6f8-3051e2726c74"
      },
      "source": [
        "print(np.max(trainx[0]),np.max(validx[0]),np.max(testx[0]))\n",
        "print(np.min(trainx[0]),np.min(validx[0]),np.min(testx[0]))\n",
        "\n",
        "\n",
        "print(np.min(trainy[0]),np.min(validy[0]),np.min(testy[0]))\n",
        "print(np.max(trainy[0]),np.max(validy[0]),np.max(testy[0]))"
      ],
      "execution_count": null,
      "outputs": [
        {
          "output_type": "stream",
          "text": [
            "255 216 255\n",
            "20 0 1\n",
            "0.0 0.0 0.0\n",
            "1.0 1.0 1.0\n"
          ],
          "name": "stdout"
        }
      ]
    },
    {
      "cell_type": "markdown",
      "metadata": {
        "colab_type": "text",
        "deletable": true,
        "editable": true,
        "id": "eiF_zt7ypUp1"
      },
      "source": [
        "### Visualizing Data"
      ]
    },
    {
      "cell_type": "code",
      "metadata": {
        "colab_type": "code",
        "deletable": true,
        "editable": true,
        "id": "vYg9kp4xdEIo",
        "colab": {
          "base_uri": "https://localhost:8080/",
          "height": 259
        },
        "outputId": "86284bfb-196b-4f29-fe6b-9799575d06a7"
      },
      "source": [
        "plt.figure(figsize=(10,10))\n",
        "plt.subplot(121).imshow(trainx [0])\n",
        "plt.subplot(122).imshow(trainy [0])"
      ],
      "execution_count": null,
      "outputs": [
        {
          "output_type": "execute_result",
          "data": {
            "text/plain": [
              "<matplotlib.image.AxesImage at 0x7f82b4c360b8>"
            ]
          },
          "metadata": {
            "tags": []
          },
          "execution_count": 13
        },
        {
          "output_type": "display_data",
          "data": {
            "image/png": "[encoded data removed]",
            "text/plain": [
              "<Figure size 720x720 with 2 Axes>"
            ]
          },
          "metadata": {
            "tags": []
          }
        }
      ]
    },
    {
      "cell_type": "markdown",
      "metadata": {
        "colab_type": "text",
        "deletable": true,
        "editable": true,
        "id": "-_Nkl_O1pbTI"
      },
      "source": [
        "### Data Pre-Processing"
      ]
    },
    {
      "cell_type": "markdown",
      "metadata": {
        "colab_type": "text",
        "deletable": true,
        "editable": true,
        "id": "1V1LJd2Xpk8k"
      },
      "source": [
        "#### 1. Reshape"
      ]
    },
    {
      "cell_type": "code",
      "metadata": {
        "colab_type": "code",
        "deletable": true,
        "editable": true,
        "id": "-1DiOV0akHwB",
        "colab": {}
      },
      "source": [
        "trainx = np.reshape(trainx,(-1,192,256,3))\n",
        "trainy = np.reshape(trainy,(-1,192,256,1))\n",
        "\n",
        "validx = np.reshape(validx,(-1,192,256,3))\n",
        "validy = np.reshape(validy,(-1,192,256,1))\n",
        "\n",
        "testx = np.reshape(testx,(-1,192,256,3))\n",
        "testy = np.reshape(testy,(-1,192,256,1))"
      ],
      "execution_count": null,
      "outputs": []
    },
    {
      "cell_type": "code",
      "metadata": {
        "colab_type": "code",
        "deletable": true,
        "editable": true,
        "id": "NWjV0OtBkHzI",
        "colab": {
          "base_uri": "https://localhost:8080/",
          "height": 119
        },
        "outputId": "154c924d-991e-4588-cab9-6b7faf35a23c"
      },
      "source": [
        "print(trainx.shape)\n",
        "print(trainy.shape)\n",
        "\n",
        "print(validx.shape)\n",
        "print(validy.shape)\n",
        "\n",
        "print(testx.shape)\n",
        "print(testy.shape)"
      ],
      "execution_count": null,
      "outputs": [
        {
          "output_type": "stream",
          "text": [
            "(2000, 192, 256, 3)\n",
            "(2000, 192, 256, 1)\n",
            "(150, 192, 256, 3)\n",
            "(150, 192, 256, 1)\n",
            "(600, 192, 256, 3)\n",
            "(600, 192, 256, 1)\n"
          ],
          "name": "stdout"
        }
      ]
    },
    {
      "cell_type": "markdown",
      "metadata": {
        "colab_type": "text",
        "deletable": true,
        "editable": true,
        "id": "N9EgDvNRpy_5"
      },
      "source": [
        "#### 2. Normalization"
      ]
    },
    {
      "cell_type": "code",
      "metadata": {
        "colab_type": "code",
        "deletable": true,
        "editable": true,
        "id": "yaz_bIMOkH2N",
        "colab": {
          "base_uri": "https://localhost:8080/",
          "height": 51
        },
        "outputId": "33e87fa0-3055-422f-84ef-320b90b000f0"
      },
      "source": [
        "mean = np.mean(trainx)\n",
        "std  = np.std(trainx)\n",
        "\n",
        "print(mean)\n",
        "print(std)\n",
        "\n",
        "trainx = trainx-mean\n",
        "trainx = trainx/std\n",
        "\n",
        "testx = testx-mean\n",
        "testx = testx/std\n",
        "\n",
        "validx = validx-mean\n",
        "validx = validx/std"
      ],
      "execution_count": null,
      "outputs": [
        {
          "output_type": "stream",
          "text": [
            "156.9496048956977\n",
            "45.17879540315421\n"
          ],
          "name": "stdout"
        }
      ]
    },
    {
      "cell_type": "markdown",
      "metadata": {
        "colab_type": "text",
        "deletable": true,
        "editable": true,
        "id": "Jve_L1xGp4bk"
      },
      "source": [
        "### Model"
      ]
    },
    {
      "cell_type": "code",
      "metadata": {
        "colab_type": "code",
        "deletable": true,
        "editable": true,
        "id": "8d7T_CQPkH8P",
        "colab": {
          "base_uri": "https://localhost:8080/",
          "height": 1000
        },
        "outputId": "9feaa69c-0b74-4214-d279-6d2d18aa9a0f"
      },
      "source": [
        "def unet_depth2(input_height=192, input_width=256):\n",
        "\n",
        "    img_input = Input(shape=(input_height,input_width,3))\n",
        "\n",
        "    conv1 = Conv2D(32, (3, 3), activation='relu', padding='same')(img_input)\n",
        "    conv1 = Conv2D(32, (3, 3), activation='relu', padding='same')(conv1)\n",
        "    pool1 = MaxPooling2D((2, 2))(conv1)\n",
        "    \n",
        "    conv2 = Conv2D(64, (3, 3), activation='relu', padding='same')(pool1)\n",
        "    conv2 = Conv2D(64, (3, 3), activation='relu', padding='same')(conv2)\n",
        "    pool2 = MaxPooling2D((2, 2))(conv2)\n",
        "\n",
        "    conv3 = Conv2D(128, (3, 3), activation='relu', padding='same')(pool2)\n",
        "    conv3 = Conv2D(128, (3, 3), activation='relu', padding='same')(conv3)\n",
        "    up1 = UpSampling2D((2, 2))(conv3)\n",
        "    \n",
        "    skip1  = concatenate([up1,conv2])\n",
        "    \n",
        "    conv4 = Conv2D(64, (3, 3), activation='relu', padding='same')(skip1)\n",
        "    conv4 = Conv2D(64, (3, 3), activation='relu', padding='same')(conv4)\n",
        "    up2 = UpSampling2D((2, 2))(conv4)\n",
        "    \n",
        "    skip2  = concatenate([up2,conv1])\n",
        "    \n",
        "    conv5 = Conv2D(32, (3, 3), activation='relu', padding='same')(skip2)\n",
        "    conv5 = Conv2D(32, (3, 3), activation='relu', padding='same')(conv5)\n",
        "    \n",
        "    drop1 = Dropout(0.5)(conv5)\n",
        "   \n",
        "    o = Conv2D( 1, (1, 1),activation = 'sigmoid' ,padding='same')(drop1)\n",
        "    \n",
        "    model = Model(inputs=[img_input], outputs=[ o ])\n",
        "    \n",
        "    return model\n",
        "\n",
        "model=unet_depth2()\n",
        "model.summary()"
      ],
      "execution_count": null,
      "outputs": [
        {
          "output_type": "stream",
          "text": [
            "WARNING:tensorflow:From /usr/local/lib/python3.6/dist-packages/keras/backend/tensorflow_backend.py:541: The name tf.placeholder is deprecated. Please use tf.compat.v1.placeholder instead.\n",
            "\n",
            "WARNING:tensorflow:From /usr/local/lib/python3.6/dist-packages/keras/backend/tensorflow_backend.py:4432: The name tf.random_uniform is deprecated. Please use tf.random.uniform instead.\n",
            "\n",
            "WARNING:tensorflow:From /usr/local/lib/python3.6/dist-packages/keras/backend/tensorflow_backend.py:4267: The name tf.nn.max_pool is deprecated. Please use tf.nn.max_pool2d instead.\n",
            "\n",
            "WARNING:tensorflow:From /usr/local/lib/python3.6/dist-packages/keras/backend/tensorflow_backend.py:2239: The name tf.image.resize_nearest_neighbor is deprecated. Please use tf.compat.v1.image.resize_nearest_neighbor instead.\n",
            "\n",
            "WARNING:tensorflow:From /usr/local/lib/python3.6/dist-packages/keras/backend/tensorflow_backend.py:3733: calling dropout (from tensorflow.python.ops.nn_ops) with keep_prob is deprecated and will be removed in a future version.\n",
            "Instructions for updating:\n",
            "Please use `rate` instead of `keep_prob`. Rate should be set to `rate = 1 - keep_prob`.\n",
            "Model: \"model_1\"\n",
            "__________________________________________________________________________________________________\n",
            "Layer (type)                    Output Shape         Param #     Connected to                     \n",
            "==================================================================================================\n",
            "input_1 (InputLayer)            (None, 192, 256, 3)  0                                            \n",
            "__________________________________________________________________________________________________\n",
            "conv2d_1 (Conv2D)               (None, 192, 256, 32) 896         input_1[0][0]                    \n",
            "__________________________________________________________________________________________________\n",
            "conv2d_2 (Conv2D)               (None, 192, 256, 32) 9248        conv2d_1[0][0]                   \n",
            "__________________________________________________________________________________________________\n",
            "max_pooling2d_1 (MaxPooling2D)  (None, 96, 128, 32)  0           conv2d_2[0][0]                   \n",
            "__________________________________________________________________________________________________\n",
            "conv2d_3 (Conv2D)               (None, 96, 128, 64)  18496       max_pooling2d_1[0][0]            \n",
            "__________________________________________________________________________________________________\n",
            "conv2d_4 (Conv2D)               (None, 96, 128, 64)  36928       conv2d_3[0][0]                   \n",
            "__________________________________________________________________________________________________\n",
            "max_pooling2d_2 (MaxPooling2D)  (None, 48, 64, 64)   0           conv2d_4[0][0]                   \n",
            "__________________________________________________________________________________________________\n",
            "conv2d_5 (Conv2D)               (None, 48, 64, 128)  73856       max_pooling2d_2[0][0]            \n",
            "__________________________________________________________________________________________________\n",
            "conv2d_6 (Conv2D)               (None, 48, 64, 128)  147584      conv2d_5[0][0]                   \n",
            "__________________________________________________________________________________________________\n",
            "up_sampling2d_1 (UpSampling2D)  (None, 96, 128, 128) 0           conv2d_6[0][0]                   \n",
            "__________________________________________________________________________________________________\n",
            "concatenate_1 (Concatenate)     (None, 96, 128, 192) 0           up_sampling2d_1[0][0]            \n",
            "                                                                 conv2d_4[0][0]                   \n",
            "__________________________________________________________________________________________________\n",
            "conv2d_7 (Conv2D)               (None, 96, 128, 64)  110656      concatenate_1[0][0]              \n",
            "__________________________________________________________________________________________________\n",
            "conv2d_8 (Conv2D)               (None, 96, 128, 64)  36928       conv2d_7[0][0]                   \n",
            "__________________________________________________________________________________________________\n",
            "up_sampling2d_2 (UpSampling2D)  (None, 192, 256, 64) 0           conv2d_8[0][0]                   \n",
            "__________________________________________________________________________________________________\n",
            "concatenate_2 (Concatenate)     (None, 192, 256, 96) 0           up_sampling2d_2[0][0]            \n",
            "                                                                 conv2d_2[0][0]                   \n",
            "__________________________________________________________________________________________________\n",
            "conv2d_9 (Conv2D)               (None, 192, 256, 32) 27680       concatenate_2[0][0]              \n",
            "__________________________________________________________________________________________________\n",
            "conv2d_10 (Conv2D)              (None, 192, 256, 32) 9248        conv2d_9[0][0]                   \n",
            "__________________________________________________________________________________________________\n",
            "dropout_1 (Dropout)             (None, 192, 256, 32) 0           conv2d_10[0][0]                  \n",
            "__________________________________________________________________________________________________\n",
            "conv2d_11 (Conv2D)              (None, 192, 256, 1)  33          dropout_1[0][0]                  \n",
            "==================================================================================================\n",
            "Total params: 471,553\n",
            "Trainable params: 471,553\n",
            "Non-trainable params: 0\n",
            "__________________________________________________________________________________________________\n"
          ],
          "name": "stdout"
        }
      ]
    },
    {
      "cell_type": "markdown",
      "metadata": {
        "colab_type": "text",
        "deletable": true,
        "editable": true,
        "id": "BMt9hKk9qADH"
      },
      "source": [
        "### Model Visualization"
      ]
    },
    {
      "cell_type": "code",
      "metadata": {
        "colab_type": "code",
        "deletable": true,
        "editable": true,
        "id": "GfGB1vgxkH_V",
        "colab": {}
      },
      "source": [
        "os.chdir('/content/drive/My Drive/Experiments/Cv_Exp/Results/W_L_F/1Unet_Depth2+Aug')\n",
        "#from keras.utils import plot_model\n",
        "#plot_model(model11, to_file='unet_up2.png',show_shapes=True)"
      ],
      "execution_count": null,
      "outputs": []
    },
    {
      "cell_type": "code",
      "metadata": {
        "colab_type": "code",
        "deletable": true,
        "editable": true,
        "id": "p2IOsAXyhG80",
        "colab": {}
      },
      "source": [
        "from keras_preprocessing.image import ImageDataGenerator\n",
        "data_gen_args = ImageDataGenerator(featurewise_center=False,\n",
        "                                 featurewise_std_normalization=False, \n",
        "                                 samplewise_center=False,\n",
        "                                 samplewise_std_normalization=False,\n",
        "                                 horizontal_flip=True,\n",
        "                                 zoom_range=[0.8,0.9],\n",
        "                                 rotation_range=30) "
      ],
      "execution_count": null,
      "outputs": []
    },
    {
      "cell_type": "code",
      "metadata": {
        "colab_type": "code",
        "deletable": true,
        "editable": true,
        "id": "y4OTFtBahZoB",
        "colab": {}
      },
      "source": [
        "image_datagen = ImageDataGenerator(data_gen_args)\n",
        "mask_datagen = ImageDataGenerator(data_gen_args)\n",
        "\n",
        "seed = 2018\n",
        "bs = 32"
      ],
      "execution_count": null,
      "outputs": []
    },
    {
      "cell_type": "code",
      "metadata": {
        "colab_type": "code",
        "deletable": true,
        "editable": true,
        "id": "dskL-r2RhraW",
        "colab": {}
      },
      "source": [
        "image_generator = image_datagen.flow(trainx, seed=seed, batch_size=bs, shuffle=True)\n",
        "mask_generator = mask_datagen.flow(trainy, seed=seed, batch_size=bs, shuffle=True)\n",
        "\n",
        "# Just zip the two generators to get a generator that provides augmented images and masks at the same time\n",
        "train_generator = zip(image_generator, mask_generator)"
      ],
      "execution_count": null,
      "outputs": []
    },
    {
      "cell_type": "markdown",
      "metadata": {
        "colab_type": "text",
        "deletable": true,
        "editable": true,
        "id": "CIjXR8ZgqFu7"
      },
      "source": [
        "### Fine-tuning Tricks (callbacks)"
      ]
    },
    {
      "cell_type": "code",
      "metadata": {
        "colab_type": "code",
        "deletable": true,
        "editable": true,
        "id": "t-FmwHnth2Tx",
        "colab": {}
      },
      "source": [
        "import math\n",
        "from keras.callbacks import EarlyStopping,ModelCheckpoint\n",
        "os.chdir('/content/drive/My Drive/Experiments/Cv_Exp/Results/W_L_F/1Unet_Depth2+Aug')\n",
        "es = EarlyStopping(monitor='val_loss', mode='min', verbose=1, patience=10)\n",
        "mc = ModelCheckpoint('unet_up2_Aug.h5', monitor='val_loss', mode='min', verbose=1, save_best_only=True)\n",
        "cv = keras.callbacks.CSVLogger('unet_up2_Aug.csv', separator=',', append=False)"
      ],
      "execution_count": null,
      "outputs": []
    },
    {
      "cell_type": "markdown",
      "metadata": {
        "colab_type": "text",
        "deletable": true,
        "editable": true,
        "id": "SOtzUdZNscbg"
      },
      "source": [
        "### Metrics"
      ]
    },
    {
      "cell_type": "code",
      "metadata": {
        "colab_type": "code",
        "deletable": true,
        "editable": true,
        "id": "Qn9Hit4Uh4yh",
        "colab": {}
      },
      "source": [
        "from keras import backend as K\n",
        "smooth=1\n",
        "\n",
        "def dice_coef(y_true, y_pred):\n",
        "    y_true_f = K.flatten(y_true)\n",
        "    y_pred_f = K.flatten(y_pred)\n",
        "    intersection = K.sum(y_true_f * y_pred_f)\n",
        "    return (2. * intersection + smooth) / (K.sum(y_true_f) + K.sum(y_pred_f) + smooth)\n",
        "\n",
        "\n",
        "def dice_coef_loss(y_true, y_pred):\n",
        "    return -dice_coef(y_true, y_pred)"
      ],
      "execution_count": null,
      "outputs": []
    },
    {
      "cell_type": "markdown",
      "metadata": {
        "colab_type": "text",
        "deletable": true,
        "editable": true,
        "id": "a-AD-2VwqRfg"
      },
      "source": [
        "### Optimizer"
      ]
    },
    {
      "cell_type": "code",
      "metadata": {
        "colab_type": "code",
        "deletable": true,
        "editable": true,
        "id": "goq8YrrFk5dA",
        "colab": {}
      },
      "source": [
        "optimizer=keras.optimizers.Adam(lr=0.001, beta_1=0.9, beta_2=0.999, epsilon=None, decay=0.0, amsgrad=True)"
      ],
      "execution_count": null,
      "outputs": []
    },
    {
      "cell_type": "markdown",
      "metadata": {
        "colab_type": "text",
        "deletable": true,
        "editable": true,
        "id": "2BNR0e0SqYwm"
      },
      "source": [
        "### Compile and Train the Model"
      ]
    },
    {
      "cell_type": "code",
      "metadata": {
        "colab_type": "code",
        "deletable": true,
        "editable": true,
        "id": "wpsE1JwSmE1G",
        "colab": {
          "base_uri": "https://localhost:8080/",
          "height": 71
        },
        "outputId": "b7f89ef3-679a-440b-fc51-dbdee286beb4"
      },
      "source": [
        "from keras import backend as K\n",
        "model.compile(loss=dice_coef_loss, optimizer=optimizer, metrics=[dice_coef,'accuracy'])"
      ],
      "execution_count": null,
      "outputs": [
        {
          "output_type": "stream",
          "text": [
            "WARNING:tensorflow:From /usr/local/lib/python3.6/dist-packages/keras/optimizers.py:793: The name tf.train.Optimizer is deprecated. Please use tf.compat.v1.train.Optimizer instead.\n",
            "\n"
          ],
          "name": "stdout"
        }
      ]
    },
    {
      "cell_type": "code",
      "metadata": {
        "colab_type": "code",
        "deletable": true,
        "editable": true,
        "id": "MJz83Z3Yu3ea",
        "colab": {
          "base_uri": "https://localhost:8080/",
          "height": 1000
        },
        "outputId": "4a7e6445-b71d-447f-de2a-400de7535296"
      },
      "source": [
        "history = model.fit_generator(train_generator, steps_per_epoch=(len(trainx) // bs), epochs=100, callbacks=[es,mc,cv],\n",
        "                              validation_data=(validx, validy))"
      ],
      "execution_count": null,
      "outputs": [
        {
          "output_type": "stream",
          "text": [
            "Epoch 1/100\n"
          ],
          "name": "stdout"
        },
        {
          "output_type": "stream",
          "text": [
            "/usr/local/lib/python3.6/dist-packages/keras_preprocessing/image/image_data_generator.py:716: UserWarning: This ImageDataGenerator specifies `featurewise_center`, but it hasn't been fit on any training data. Fit it first by calling `.fit(numpy_data)`.\n",
            "  warnings.warn('This ImageDataGenerator specifies '\n"
          ],
          "name": "stderr"
        },
        {
          "output_type": "stream",
          "text": [
            "62/62 [==============================] - 46s 745ms/step - loss: -0.8349 - dice_coef: 0.8349 - acc: 0.9396 - val_loss: -0.6734 - val_dice_coef: 0.6734 - val_acc: 0.8918\n",
            "\n",
            "Epoch 00001: val_loss did not improve from -0.69334\n",
            "Epoch 2/100\n",
            "62/62 [==============================] - 46s 741ms/step - loss: -0.8290 - dice_coef: 0.8290 - acc: 0.9360 - val_loss: -0.6941 - val_dice_coef: 0.6941 - val_acc: 0.9092\n",
            "\n",
            "Epoch 00002: val_loss improved from -0.69334 to -0.69414, saving model to unet_up2_Aug.h5\n",
            "Epoch 3/100\n",
            "62/62 [==============================] - 46s 737ms/step - loss: -0.8286 - dice_coef: 0.8286 - acc: 0.9347 - val_loss: -0.6819 - val_dice_coef: 0.6819 - val_acc: 0.9083\n",
            "\n",
            "Epoch 00003: val_loss did not improve from -0.69414\n",
            "Epoch 4/100\n",
            "62/62 [==============================] - 46s 738ms/step - loss: -0.8279 - dice_coef: 0.8279 - acc: 0.9352 - val_loss: -0.6988 - val_dice_coef: 0.6988 - val_acc: 0.9123\n",
            "\n",
            "Epoch 00004: val_loss improved from -0.69414 to -0.69884, saving model to unet_up2_Aug.h5\n",
            "Epoch 5/100\n",
            "62/62 [==============================] - 46s 737ms/step - loss: -0.8323 - dice_coef: 0.8323 - acc: 0.9363 - val_loss: -0.6947 - val_dice_coef: 0.6947 - val_acc: 0.9119\n",
            "\n",
            "Epoch 00005: val_loss did not improve from -0.69884\n",
            "Epoch 6/100\n",
            "62/62 [==============================] - 46s 737ms/step - loss: -0.8335 - dice_coef: 0.8335 - acc: 0.9383 - val_loss: -0.6989 - val_dice_coef: 0.6989 - val_acc: 0.9146\n",
            "\n",
            "Epoch 00006: val_loss improved from -0.69884 to -0.69894, saving model to unet_up2_Aug.h5\n",
            "Epoch 7/100\n",
            "62/62 [==============================] - 46s 741ms/step - loss: -0.8385 - dice_coef: 0.8385 - acc: 0.9392 - val_loss: -0.6860 - val_dice_coef: 0.6860 - val_acc: 0.8972\n",
            "\n",
            "Epoch 00007: val_loss did not improve from -0.69894\n",
            "Epoch 8/100\n",
            "62/62 [==============================] - 46s 743ms/step - loss: -0.8316 - dice_coef: 0.8316 - acc: 0.9360 - val_loss: -0.6913 - val_dice_coef: 0.6913 - val_acc: 0.9077\n",
            "\n",
            "Epoch 00008: val_loss did not improve from -0.69894\n",
            "Epoch 9/100\n",
            "62/62 [==============================] - 46s 743ms/step - loss: -0.8385 - dice_coef: 0.8385 - acc: 0.9399 - val_loss: -0.7026 - val_dice_coef: 0.7026 - val_acc: 0.9094\n",
            "\n",
            "Epoch 00009: val_loss improved from -0.69894 to -0.70261, saving model to unet_up2_Aug.h5\n",
            "Epoch 10/100\n",
            "62/62 [==============================] - 46s 742ms/step - loss: -0.8371 - dice_coef: 0.8371 - acc: 0.9386 - val_loss: -0.6578 - val_dice_coef: 0.6578 - val_acc: 0.9085\n",
            "\n",
            "Epoch 00010: val_loss did not improve from -0.70261\n",
            "Epoch 11/100\n",
            "62/62 [==============================] - 46s 744ms/step - loss: -0.8363 - dice_coef: 0.8363 - acc: 0.9380 - val_loss: -0.6985 - val_dice_coef: 0.6985 - val_acc: 0.9124\n",
            "\n",
            "Epoch 00011: val_loss did not improve from -0.70261\n",
            "Epoch 12/100\n",
            "62/62 [==============================] - 46s 745ms/step - loss: -0.8392 - dice_coef: 0.8392 - acc: 0.9403 - val_loss: -0.7006 - val_dice_coef: 0.7006 - val_acc: 0.9120\n",
            "\n",
            "Epoch 00012: val_loss did not improve from -0.70261\n",
            "Epoch 13/100\n",
            "62/62 [==============================] - 46s 745ms/step - loss: -0.8370 - dice_coef: 0.8370 - acc: 0.9384 - val_loss: -0.6987 - val_dice_coef: 0.6987 - val_acc: 0.9055\n",
            "\n",
            "Epoch 00013: val_loss did not improve from -0.70261\n",
            "Epoch 14/100\n",
            "62/62 [==============================] - 46s 745ms/step - loss: -0.8446 - dice_coef: 0.8446 - acc: 0.9413 - val_loss: -0.6965 - val_dice_coef: 0.6965 - val_acc: 0.9114\n",
            "\n",
            "Epoch 00014: val_loss did not improve from -0.70261\n",
            "Epoch 15/100\n",
            "62/62 [==============================] - 46s 745ms/step - loss: -0.8375 - dice_coef: 0.8375 - acc: 0.9382 - val_loss: -0.6997 - val_dice_coef: 0.6997 - val_acc: 0.9090\n",
            "\n",
            "Epoch 00015: val_loss did not improve from -0.70261\n",
            "Epoch 16/100\n",
            "62/62 [==============================] - 46s 745ms/step - loss: -0.8333 - dice_coef: 0.8333 - acc: 0.9368 - val_loss: -0.6966 - val_dice_coef: 0.6966 - val_acc: 0.9067\n",
            "\n",
            "Epoch 00016: val_loss did not improve from -0.70261\n",
            "Epoch 17/100\n",
            "62/62 [==============================] - 46s 744ms/step - loss: -0.8456 - dice_coef: 0.8456 - acc: 0.9425 - val_loss: -0.6871 - val_dice_coef: 0.6871 - val_acc: 0.9118\n",
            "\n",
            "Epoch 00017: val_loss did not improve from -0.70261\n",
            "Epoch 18/100\n",
            "62/62 [==============================] - 46s 744ms/step - loss: -0.8419 - dice_coef: 0.8419 - acc: 0.9401 - val_loss: -0.6993 - val_dice_coef: 0.6993 - val_acc: 0.9117\n",
            "\n",
            "Epoch 00018: val_loss did not improve from -0.70261\n",
            "Epoch 19/100\n",
            "62/62 [==============================] - 46s 745ms/step - loss: -0.8427 - dice_coef: 0.8427 - acc: 0.9412 - val_loss: -0.6963 - val_dice_coef: 0.6963 - val_acc: 0.9111\n",
            "\n",
            "Epoch 00019: val_loss did not improve from -0.70261\n",
            "Epoch 00019: early stopping\n"
          ],
          "name": "stdout"
        }
      ]
    },
    {
      "cell_type": "markdown",
      "metadata": {
        "colab_type": "text",
        "deletable": true,
        "editable": true,
        "id": "KajlhYyUqfCd"
      },
      "source": [
        "### Evaluating the Model Performance"
      ]
    },
    {
      "cell_type": "code",
      "metadata": {
        "colab_type": "code",
        "deletable": true,
        "editable": true,
        "id": "Aq7v5IFHmE61",
        "colab": {
          "base_uri": "https://localhost:8080/",
          "height": 51
        },
        "outputId": "b8408319-ba37-4c70-f115-35ac869c9d81"
      },
      "source": [
        "#model.evaluate(testx,testy)"
      ],
      "execution_count": null,
      "outputs": [
        {
          "output_type": "stream",
          "text": [
            "600/600 [==============================] - 7s 11ms/step\n"
          ],
          "name": "stdout"
        },
        {
          "output_type": "execute_result",
          "data": {
            "text/plain": [
              "[-0.6892060999075572, 0.6892060999075572, 0.8898822021484375]"
            ]
          },
          "metadata": {
            "tags": []
          },
          "execution_count": 28
        }
      ]
    },
    {
      "cell_type": "code",
      "metadata": {
        "colab_type": "code",
        "deletable": true,
        "editable": true,
        "id": "xJK_uJv_Q_GB",
        "colab": {}
      },
      "source": [
        "#model.save(\"unet_up2_aug_temp.h5\")"
      ],
      "execution_count": null,
      "outputs": []
    },
    {
      "cell_type": "markdown",
      "metadata": {
        "colab_type": "text",
        "deletable": true,
        "editable": true,
        "id": "Nm5QA2GkFcvK"
      },
      "source": [
        "### Load_Model"
      ]
    },
    {
      "cell_type": "code",
      "metadata": {
        "colab_type": "code",
        "deletable": true,
        "editable": true,
        "id": "IxWkVOS_Fc9-",
        "colab": {}
      },
      "source": [
        "import os\n",
        "os.getcwd()\n",
        "os.chdir('/content/drive/My Drive/Experiments/Cv_Exp/Results/W_L_F/1Unet_Depth2+Aug')"
      ],
      "execution_count": null,
      "outputs": []
    },
    {
      "cell_type": "code",
      "metadata": {
        "colab_type": "code",
        "deletable": true,
        "editable": true,
        "id": "s-_9Qjc4SEiH",
        "colab": {
          "base_uri": "https://localhost:8080/",
          "height": 377
        },
        "outputId": "f5e37b40-37e1-4d67-a9e4-4c20f95ec1d7"
      },
      "source": [
        "from keras.models import load_model\n",
        "model2 = load_model(\"unet_up2_Aug.h5\", custom_objects={'dice_coef_loss': dice_coef_loss, 'dice_coef': dice_coef})\n",
        "model2.evaluate(testx,testy)"
      ],
      "execution_count": null,
      "outputs": [
        {
          "output_type": "stream",
          "text": [
            "WARNING:tensorflow:From /usr/local/lib/python3.6/dist-packages/keras/backend/tensorflow_backend.py:190: The name tf.get_default_session is deprecated. Please use tf.compat.v1.get_default_session instead.\n",
            "\n",
            "WARNING:tensorflow:From /usr/local/lib/python3.6/dist-packages/keras/backend/tensorflow_backend.py:197: The name tf.ConfigProto is deprecated. Please use tf.compat.v1.ConfigProto instead.\n",
            "\n",
            "WARNING:tensorflow:From /usr/local/lib/python3.6/dist-packages/keras/backend/tensorflow_backend.py:203: The name tf.Session is deprecated. Please use tf.compat.v1.Session instead.\n",
            "\n",
            "WARNING:tensorflow:From /usr/local/lib/python3.6/dist-packages/keras/backend/tensorflow_backend.py:207: The name tf.global_variables is deprecated. Please use tf.compat.v1.global_variables instead.\n",
            "\n",
            "WARNING:tensorflow:From /usr/local/lib/python3.6/dist-packages/keras/backend/tensorflow_backend.py:216: The name tf.is_variable_initialized is deprecated. Please use tf.compat.v1.is_variable_initialized instead.\n",
            "\n",
            "WARNING:tensorflow:From /usr/local/lib/python3.6/dist-packages/keras/backend/tensorflow_backend.py:223: The name tf.variables_initializer is deprecated. Please use tf.compat.v1.variables_initializer instead.\n",
            "\n",
            "WARNING:tensorflow:From /usr/local/lib/python3.6/dist-packages/keras/optimizers.py:793: The name tf.train.Optimizer is deprecated. Please use tf.compat.v1.train.Optimizer instead.\n",
            "\n",
            "WARNING:tensorflow:From /usr/local/lib/python3.6/dist-packages/keras/backend/tensorflow_backend.py:1033: The name tf.assign_add is deprecated. Please use tf.compat.v1.assign_add instead.\n",
            "\n",
            "WARNING:tensorflow:From /usr/local/lib/python3.6/dist-packages/keras/backend/tensorflow_backend.py:1020: The name tf.assign is deprecated. Please use tf.compat.v1.assign instead.\n",
            "\n",
            "600/600 [==============================] - 11s 18ms/step\n"
          ],
          "name": "stdout"
        },
        {
          "output_type": "execute_result",
          "data": {
            "text/plain": [
              "[-0.6980644611517588, 0.6980644599596659, 0.8896201189359029]"
            ]
          },
          "metadata": {
            "tags": []
          },
          "execution_count": 20
        }
      ]
    },
    {
      "cell_type": "code",
      "metadata": {
        "colab_type": "code",
        "deletable": true,
        "editable": true,
        "id": "fANpgkXO5o-I",
        "colab": {
          "base_uri": "https://localhost:8080/",
          "height": 34
        },
        "outputId": "cd25cf24-d2e9-4e87-9554-651c92e72e7b"
      },
      "source": [
        "preds = model2.predict(testx, verbose = 1)\n",
        "preds.shape\n",
        "preds = np.around(preds)"
      ],
      "execution_count": null,
      "outputs": [
        {
          "output_type": "stream",
          "text": [
            "600/600 [==============================] - 5s 8ms/step\n"
          ],
          "name": "stdout"
        }
      ]
    },
    {
      "cell_type": "code",
      "metadata": {
        "colab_type": "code",
        "deletable": true,
        "editable": true,
        "id": "EevsMCuS6cXP",
        "colab": {}
      },
      "source": [
        "def dice(true, preds):  \n",
        "    scores  = []\n",
        "    for i in range(len(true)):\n",
        "        im1 = true[i]\n",
        "        im2 = preds[i]\n",
        "        intersection = np.logical_and(im1, im2)\n",
        "        score = 2. * intersection.sum() / (im1.sum() + im2.sum())\n",
        "        scores.append(score)\n",
        "    return np.array(scores).mean(), scores"
      ],
      "execution_count": null,
      "outputs": []
    },
    {
      "cell_type": "code",
      "metadata": {
        "colab_type": "code",
        "deletable": true,
        "editable": true,
        "id": "rWM7i5dg507b",
        "colab": {
          "base_uri": "https://localhost:8080/",
          "height": 34
        },
        "outputId": "57857ee5-724d-4d3a-b1d5-a084901c8e4b"
      },
      "source": [
        "avg_d_score, d_scores = dice(testy, np.around(preds))\n",
        "print(avg_d_score)"
      ],
      "execution_count": null,
      "outputs": [
        {
          "output_type": "stream",
          "text": [
            "0.7258183627340814\n"
          ],
          "name": "stdout"
        }
      ]
    },
    {
      "cell_type": "code",
      "metadata": {
        "colab_type": "code",
        "deletable": true,
        "editable": true,
        "id": "rlRy8Do351De",
        "colab": {
          "base_uri": "https://localhost:8080/",
          "height": 34
        },
        "outputId": "d60aae81-927b-4694-96aa-b4dd630b8da4"
      },
      "source": [
        "np.mean(d_scores)"
      ],
      "execution_count": null,
      "outputs": [
        {
          "output_type": "execute_result",
          "data": {
            "text/plain": [
              "0.7258183627340814"
            ]
          },
          "metadata": {
            "tags": []
          },
          "execution_count": 36
        }
      ]
    },
    {
      "cell_type": "code",
      "metadata": {
        "colab_type": "code",
        "deletable": true,
        "editable": true,
        "id": "bwBXyIEL8N83",
        "colab": {
          "base_uri": "https://localhost:8080/",
          "height": 253
        },
        "outputId": "8d8e98fa-fc72-40ba-d7c3-387389adf632"
      },
      "source": [
        "idxx=1 #1\n",
        "plt.figure(figsize=(15,15))\n",
        "plt.subplot(131).imshow(testx[idxx][:,:,0])\n",
        "plt.subplot(132).imshow(testy[idxx][:,:,0])\n",
        "plt.subplot(133).imshow(preds[idxx][:,:,0])"
      ],
      "execution_count": null,
      "outputs": [
        {
          "output_type": "execute_result",
          "data": {
            "text/plain": [
              "<matplotlib.image.AxesImage at 0x7f82b18aeda0>"
            ]
          },
          "metadata": {
            "tags": []
          },
          "execution_count": 23
        },
        {
          "output_type": "display_data",
          "data": {
            "image/png": "[encoded data removed]",
            "text/plain": [
              "<Figure size 1080x1080 with 3 Axes>"
            ]
          },
          "metadata": {
            "tags": []
          }
        }
      ]
    },
    {
      "cell_type": "markdown",
      "metadata": {
        "colab_type": "text",
        "deletable": true,
        "editable": true,
        "id": "5Ub4VafPqmd_"
      },
      "source": [
        "### Plot Loss and Accuracy"
      ]
    },
    {
      "cell_type": "code",
      "metadata": {
        "colab_type": "code",
        "deletable": true,
        "editable": true,
        "id": "j84XbFN6mbUq",
        "colab": {}
      },
      "source": [
        "train_loss = history.history['loss']\n",
        "train_acc = history.history['acc']\n",
        "val_loss = history.history['val_loss']\n",
        "val_acc = history.history['val_acc']\n",
        "xc=range(len(train_loss))"
      ],
      "execution_count": null,
      "outputs": []
    },
    {
      "cell_type": "code",
      "metadata": {
        "colab_type": "code",
        "deletable": true,
        "editable": true,
        "id": "Xk_dZo5RmbXq",
        "colab": {
          "base_uri": "https://localhost:8080/",
          "height": 300
        },
        "outputId": "39e2ce68-1ae9-41ed-c86c-ac9338323752"
      },
      "source": [
        "import matplotlib.pyplot as plt\n",
        "%matplotlib inline\n",
        "plt.plot(xc, train_loss)\n",
        "plt.plot(xc, val_loss)\n",
        "plt.xlabel(\"Epoch\")\n",
        "plt.ylabel(\"Loss\")\n",
        "plt.legend(['train'])"
      ],
      "execution_count": null,
      "outputs": [
        {
          "output_type": "execute_result",
          "data": {
            "text/plain": [
              "<matplotlib.legend.Legend at 0x7f152cc10668>"
            ]
          },
          "metadata": {
            "tags": []
          },
          "execution_count": 39
        },
        {
          "output_type": "display_data",
          "data": {
            "image/png": "[encoded data removed]",
            "text/plain": [
              "<Figure size 432x288 with 1 Axes>"
            ]
          },
          "metadata": {
            "tags": []
          }
        }
      ]
    },
    {
      "cell_type": "code",
      "metadata": {
        "colab_type": "code",
        "deletable": true,
        "editable": true,
        "id": "Q93wB3uymbaY",
        "colab": {
          "base_uri": "https://localhost:8080/",
          "height": 300
        },
        "outputId": "abaed1f7-60b3-4f8c-9e2c-b42c36036340"
      },
      "source": [
        "import matplotlib.pyplot as plt\n",
        "%matplotlib inline\n",
        "plt.plot(xc, train_acc)\n",
        "plt.plot(xc, val_acc)\n",
        "plt.xlabel(\"Epoch\")\n",
        "plt.ylabel(\"Acc\")\n",
        "plt.legend(['train'])"
      ],
      "execution_count": null,
      "outputs": [
        {
          "output_type": "execute_result",
          "data": {
            "text/plain": [
              "<matplotlib.legend.Legend at 0x7f1530f84940>"
            ]
          },
          "metadata": {
            "tags": []
          },
          "execution_count": 40
        },
        {
          "output_type": "display_data",
          "data": {
            "image/png": "[encoded data removed]",
            "text/plain": [
              "<Figure size 432x288 with 1 Axes>"
            ]
          },
          "metadata": {
            "tags": []
          }
        }
      ]
    },
    {
      "cell_type": "markdown",
      "metadata": {
        "colab_type": "text",
        "deletable": true,
        "editable": true,
        "id": "YOWqF3T1qzOY"
      },
      "source": [
        "### Dice Coefficient"
      ]
    },
    {
      "cell_type": "code",
      "metadata": {
        "colab_type": "code",
        "deletable": true,
        "editable": true,
        "id": "CvecqGe2m1GR",
        "colab": {
          "base_uri": "https://localhost:8080/",
          "height": 68
        },
        "outputId": "9bd71e8f-6a03-4383-f07a-5870f25b2081"
      },
      "source": [
        "test_pred = model.predict(testx, batch_size=32)\n",
        "test_result = np.zeros(test_pred.shape)\n",
        "test_result[test_pred>0.5] = 1\n",
        "test_result[test_pred<=0.5] = 0\n",
        "dice = dc(test_result, testy)\n",
        "pre  = precision(test_result,testy)\n",
        "re   = recall(test_result,testy)\n",
        "print('Test dc: '  + str(dice))\n",
        "print('Test pre: ' + str(pre))\n",
        "print('Test re: '  + str(re))"
      ],
      "execution_count": null,
      "outputs": [
        {
          "output_type": "stream",
          "text": [
            "Test dc: 0.7419899856547492\n",
            "Test pre: 0.8300488328952261\n",
            "Test re: 0.6708231887589017\n"
          ],
          "name": "stdout"
        }
      ]
    }
  ]
}