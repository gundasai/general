{
  "nbformat": 4,
  "nbformat_minor": 0,
  "metadata": {
    "accelerator": "GPU",
    "colab": {
      "name": "14_Unet_Depth_2+Aug.ipynb",
      "provenance": [],
      "collapsed_sections": [],
      "include_colab_link": true
    },
    "kernelspec": {
      "display_name": "Python 3",
      "language": "python",
      "name": "python3"
    },
    "language_info": {
      "codemirror_mode": {
        "name": "ipython",
        "version": 3
      },
      "file_extension": ".py",
      "mimetype": "text/x-python",
      "name": "python",
      "nbconvert_exporter": "python",
      "pygments_lexer": "ipython3",
      "version": "3.5.0"
    }
  },
  "cells": [
    {
      "cell_type": "markdown",
      "metadata": {
        "id": "view-in-github",
        "colab_type": "text"
      },
      "source": [
        "<a href=\"https://colab.research.google.com/github/gundasai/general/blob/master/14_Unet_Depth_2%2BAug.ipynb\" target=\"_parent\"><img src=\"https://colab.research.google.com/assets/colab-badge.svg\" alt=\"Open In Colab\"/></a>"
      ]
    },
    {
      "cell_type": "markdown",
      "metadata": {
        "colab_type": "text",
        "deletable": true,
        "editable": true,
        "id": "mCvUJesKo3kc"
      },
      "source": [
        "## Semantic Segmentation using Covolutional Neural Network"
      ]
    },
    {
      "cell_type": "code",
      "metadata": {
        "colab_type": "code",
        "deletable": true,
        "editable": true,
        "id": "uxw4V2odbp2Z",
        "colab": {
          "base_uri": "https://localhost:8080/",
          "height": 34
        },
        "outputId": "3004d96c-f2c8-4fd6-f704-bd724194169a"
      },
      "source": [
        "from google.colab import drive\n",
        "drive.mount('/content/drive')"
      ],
      "execution_count": 121,
      "outputs": [
        {
          "output_type": "stream",
          "text": [
            "Drive already mounted at /content/drive; to attempt to forcibly remount, call drive.mount(\"/content/drive\", force_remount=True).\n"
          ],
          "name": "stdout"
        }
      ]
    },
    {
      "cell_type": "code",
      "metadata": {
        "colab_type": "code",
        "deletable": true,
        "editable": true,
        "id": "-CCR1yilkval",
        "colab": {}
      },
      "source": [
        "import keras\n",
        "keras.backend.clear_session()"
      ],
      "execution_count": 122,
      "outputs": []
    },
    {
      "cell_type": "code",
      "metadata": {
        "colab_type": "code",
        "deletable": true,
        "editable": true,
        "id": "JVd83jPNk3Iy",
        "colab": {
          "base_uri": "https://localhost:8080/",
          "height": 34
        },
        "outputId": "668e5754-a1a9-46ef-89d4-cb840adfbde2"
      },
      "source": [
        "import tensorflow as tf\n",
        "if tf.test.gpu_device_name():\n",
        "    print('Default GPU Device: {}'.format(tf.test.gpu_device_name()))\n",
        "else:\n",
        "    print(\"Please install GPU version of TF\")"
      ],
      "execution_count": 123,
      "outputs": [
        {
          "output_type": "stream",
          "text": [
            "Default GPU Device: /device:GPU:0\n"
          ],
          "name": "stdout"
        }
      ]
    },
    {
      "cell_type": "markdown",
      "metadata": {
        "colab_type": "text",
        "deletable": true,
        "editable": true,
        "id": "1sySsJGiYH5p"
      },
      "source": [
        "## Reproducibiity"
      ]
    },
    {
      "cell_type": "code",
      "metadata": {
        "colab_type": "code",
        "deletable": true,
        "editable": true,
        "id": "hNUt5vS_YHjn",
        "colab": {}
      },
      "source": [
        "import keras\n",
        "import numpy as np\n",
        "import random\n",
        "import tensorflow as tf\n",
        "\n",
        "keras.backend.clear_session()\n",
        "random.seed(42)\n",
        "np.random.seed(42)\n",
        "#tf.set_random_seed(42)"
      ],
      "execution_count": 124,
      "outputs": []
    },
    {
      "cell_type": "markdown",
      "metadata": {
        "colab_type": "text",
        "deletable": true,
        "editable": true,
        "id": "ZAfdCD53pGRj"
      },
      "source": [
        "### Importing the  Library Functions"
      ]
    },
    {
      "cell_type": "code",
      "metadata": {
        "colab_type": "code",
        "deletable": true,
        "editable": true,
        "id": "Rxrj7W0cdD7Z",
        "colab": {
          "base_uri": "https://localhost:8080/",
          "height": 86
        },
        "outputId": "e23c8996-920e-42e3-91d9-f9c720dc4196"
      },
      "source": [
        "from keras.layers import *\n",
        "import keras\n",
        "from keras.models import Sequential,Model\n",
        "import cv2\n",
        "import os\n",
        "import matplotlib.pyplot as plt\n",
        "%matplotlib inline\n",
        "!pip install medpy\n",
        "from medpy.metric import dc, precision, recall,jc\n",
        "#!pip install -U scipy==1.2.0\n",
        "import os\n",
        "import cv2\n",
        "import numpy as np\n",
        "import seaborn as sns\n",
        "from sklearn.model_selection import train_test_split\n",
        "from sklearn.utils import shuffle"
      ],
      "execution_count": 125,
      "outputs": [
        {
          "output_type": "stream",
          "text": [
            "Requirement already satisfied: medpy in /usr/local/lib/python3.6/dist-packages (0.4.0)\n",
            "Requirement already satisfied: SimpleITK>=1.1.0 in /usr/local/lib/python3.6/dist-packages (from medpy) (1.2.4)\n",
            "Requirement already satisfied: scipy>=1.1.0 in /usr/local/lib/python3.6/dist-packages (from medpy) (1.4.1)\n",
            "Requirement already satisfied: numpy>=1.11.0 in /usr/local/lib/python3.6/dist-packages (from medpy) (1.18.5)\n"
          ],
          "name": "stdout"
        }
      ]
    },
    {
      "cell_type": "code",
      "metadata": {
        "colab_type": "code",
        "deletable": true,
        "editable": true,
        "id": "2QEzetiF-fnn",
        "colab": {}
      },
      "source": [
        "#!pip install -U scipy==1.2.0\n",
        "#from scipy.misc import imsave"
      ],
      "execution_count": 126,
      "outputs": []
    },
    {
      "cell_type": "markdown",
      "metadata": {
        "colab_type": "text",
        "deletable": true,
        "editable": true,
        "id": "3AZr2mFUpQY6"
      },
      "source": [
        "### Loading Data"
      ]
    },
    {
      "cell_type": "code",
      "metadata": {
        "colab_type": "code",
        "deletable": true,
        "editable": true,
        "id": "SnpIJYJKjp4f",
        "colab": {
          "base_uri": "https://localhost:8080/",
          "height": 34
        },
        "outputId": "3200d6ef-a77e-4a5a-89c7-1d24c0d76c7d"
      },
      "source": [
        "#import os\n",
        "#os.getcwd()\n",
        "import os \n",
        "os.chdir('/content/drive/My Drive//datasets/dataset')\n",
        "print(os.getcwd())"
      ],
      "execution_count": 127,
      "outputs": [
        {
          "output_type": "stream",
          "text": [
            "/content/drive/.shortcut-targets-by-id/1UdaOejRhEeeMQGXLjtSw0puIg-j1BFAP/dataset\n"
          ],
          "name": "stdout"
        }
      ]
    },
    {
      "cell_type": "code",
      "metadata": {
        "colab_type": "code",
        "deletable": true,
        "editable": true,
        "id": "Shk_5BDYdEGJ",
        "colab": {}
      },
      "source": [
        "trainx = np.load('Skin_ValidX.npy')\n",
        "trainy = np.load('Skin_ValidY.npy')\n",
        "\n",
        "validx = np.load('Skin_ValidX.npy')\n",
        "validy = np.load('Skin_ValidY.npy')\n",
        "\n",
        "testx = np.load('Skin_TestX.npy')\n",
        "testy = np.load('Skin_TestY.npy')"
      ],
      "execution_count": 128,
      "outputs": []
    },
    {
      "cell_type": "code",
      "metadata": {
        "colab_type": "code",
        "deletable": true,
        "editable": true,
        "id": "1eqDi0qMRCOe",
        "colab": {
          "base_uri": "https://localhost:8080/",
          "height": 224
        },
        "outputId": "5e3dd7ef-05de-47a5-d5dd-0417783061eb"
      },
      "source": [
        "print(len(trainx))\n",
        "print(len(trainy))\n",
        "print(trainx.shape)\n",
        "print(trainy.shape)\n",
        "\n",
        "print(len(validx))\n",
        "print(len(validy))\n",
        "print(validx.shape)\n",
        "print(validy.shape)\n",
        "\n",
        "print(len(testx))\n",
        "print(len(testy))\n",
        "print(testx.shape)\n",
        "print(testy.shape)"
      ],
      "execution_count": 129,
      "outputs": [
        {
          "output_type": "stream",
          "text": [
            "150\n",
            "150\n",
            "(150, 192, 256, 3)\n",
            "(150, 192, 256)\n",
            "150\n",
            "150\n",
            "(150, 192, 256, 3)\n",
            "(150, 192, 256)\n",
            "600\n",
            "600\n",
            "(600, 192, 256, 3)\n",
            "(600, 192, 256)\n"
          ],
          "name": "stdout"
        }
      ]
    },
    {
      "cell_type": "code",
      "metadata": {
        "colab_type": "code",
        "deletable": true,
        "editable": true,
        "id": "j9EM9P3zr4Na",
        "colab": {
          "base_uri": "https://localhost:8080/",
          "height": 86
        },
        "outputId": "80a7835d-34d2-4093-aa81-54096fb01338"
      },
      "source": [
        "print(np.max(trainx[0]))\n",
        "print(np.min(trainx[0]))\n",
        "\n",
        "print(np.max(trainy[0]))\n",
        "print(np.min(trainy[0]))"
      ],
      "execution_count": 130,
      "outputs": [
        {
          "output_type": "stream",
          "text": [
            "216\n",
            "0\n",
            "255\n",
            "0\n"
          ],
          "name": "stdout"
        }
      ]
    },
    {
      "cell_type": "code",
      "metadata": {
        "colab_type": "code",
        "deletable": true,
        "editable": true,
        "id": "aFkp4ofiri_b",
        "colab": {}
      },
      "source": [
        "trainy = trainy/255\n",
        "validy = validy/255\n",
        "testy  = testy/255"
      ],
      "execution_count": 131,
      "outputs": []
    },
    {
      "cell_type": "code",
      "metadata": {
        "colab_type": "code",
        "deletable": true,
        "editable": true,
        "id": "YekXmy0RnqiK",
        "colab": {
          "base_uri": "https://localhost:8080/",
          "height": 86
        },
        "outputId": "de87ae69-027f-4a74-c651-4eb97ad12ed4"
      },
      "source": [
        "print(np.max(trainx[0]))\n",
        "print(np.min(trainx[0]))\n",
        "\n",
        "print(np.max(trainy[0]))\n",
        "print(np.min(trainy[0]))"
      ],
      "execution_count": 132,
      "outputs": [
        {
          "output_type": "stream",
          "text": [
            "216\n",
            "0\n",
            "1.0\n",
            "0.0\n"
          ],
          "name": "stdout"
        }
      ]
    },
    {
      "cell_type": "code",
      "metadata": {
        "colab_type": "code",
        "deletable": true,
        "editable": true,
        "id": "Sha_Q7V0UPTE",
        "colab": {
          "base_uri": "https://localhost:8080/",
          "height": 86
        },
        "outputId": "8ef9d52f-96d4-4636-9352-da20378f3256"
      },
      "source": [
        "print(np.max(trainx[0]),np.max(validx[0]),np.max(testx[0]))\n",
        "print(np.min(trainx[0]),np.min(validx[0]),np.min(testx[0]))\n",
        "\n",
        "\n",
        "print(np.min(trainy[0]),np.min(validy[0]),np.min(testy[0]))\n",
        "print(np.max(trainy[0]),np.max(validy[0]),np.max(testy[0]))"
      ],
      "execution_count": 133,
      "outputs": [
        {
          "output_type": "stream",
          "text": [
            "216 216 255\n",
            "0 0 1\n",
            "0.0 0.0 0.0\n",
            "1.0 1.0 1.0\n"
          ],
          "name": "stdout"
        }
      ]
    },
    {
      "cell_type": "markdown",
      "metadata": {
        "colab_type": "text",
        "deletable": true,
        "editable": true,
        "id": "eiF_zt7ypUp1"
      },
      "source": [
        "### Visualizing Data"
      ]
    },
    {
      "cell_type": "code",
      "metadata": {
        "colab_type": "code",
        "deletable": true,
        "editable": true,
        "id": "vYg9kp4xdEIo",
        "colab": {
          "base_uri": "https://localhost:8080/",
          "height": 259
        },
        "outputId": "612c2d82-f818-46b0-d861-71a577f4ee48"
      },
      "source": [
        "plt.figure(figsize=(10,10))\n",
        "plt.subplot(121).imshow(trainx [0])\n",
        "plt.subplot(122).imshow(trainy [0])"
      ],
      "execution_count": 134,
      "outputs": [
        {
          "output_type": "execute_result",
          "data": {
            "text/plain": [
              "<matplotlib.image.AxesImage at 0x7fd0a56cd3c8>"
            ]
          },
          "metadata": {
            "tags": []
          },
          "execution_count": 134
        },
        {
          "output_type": "display_data",
          "data": {
            "image/png": "[encoded data removed]",
            "text/plain": [
              "<Figure size 720x720 with 2 Axes>"
            ]
          },
          "metadata": {
            "tags": [],
            "needs_background": "light"
          }
        }
      ]
    },
    {
      "cell_type": "markdown",
      "metadata": {
        "colab_type": "text",
        "deletable": true,
        "editable": true,
        "id": "-_Nkl_O1pbTI"
      },
      "source": [
        "### Data Pre-Processing"
      ]
    },
    {
      "cell_type": "markdown",
      "metadata": {
        "colab_type": "text",
        "deletable": true,
        "editable": true,
        "id": "1V1LJd2Xpk8k"
      },
      "source": [
        "#### 1. Reshape"
      ]
    },
    {
      "cell_type": "code",
      "metadata": {
        "colab_type": "code",
        "deletable": true,
        "editable": true,
        "id": "-1DiOV0akHwB",
        "colab": {}
      },
      "source": [
        "trainx = np.reshape(trainx,(-1,192,256,3))\n",
        "trainy = np.reshape(trainy,(-1,192,256,1))\n",
        "\n",
        "validx = np.reshape(validx,(-1,192,256,3))\n",
        "validy = np.reshape(validy,(-1,192,256,1))\n",
        "\n",
        "testx = np.reshape(testx,(-1,192,256,3))\n",
        "testy = np.reshape(testy,(-1,192,256,1))"
      ],
      "execution_count": 135,
      "outputs": []
    },
    {
      "cell_type": "code",
      "metadata": {
        "colab_type": "code",
        "deletable": true,
        "editable": true,
        "id": "NWjV0OtBkHzI",
        "colab": {
          "base_uri": "https://localhost:8080/",
          "height": 121
        },
        "outputId": "1215c2af-bd3d-4e87-a81a-31e1251aecdb"
      },
      "source": [
        "print(trainx.shape)\n",
        "print(trainy.shape)\n",
        "\n",
        "print(validx.shape)\n",
        "print(validy.shape)\n",
        "\n",
        "print(testx.shape)\n",
        "print(testy.shape)"
      ],
      "execution_count": 136,
      "outputs": [
        {
          "output_type": "stream",
          "text": [
            "(150, 192, 256, 3)\n",
            "(150, 192, 256, 1)\n",
            "(150, 192, 256, 3)\n",
            "(150, 192, 256, 1)\n",
            "(600, 192, 256, 3)\n",
            "(600, 192, 256, 1)\n"
          ],
          "name": "stdout"
        }
      ]
    },
    {
      "cell_type": "markdown",
      "metadata": {
        "colab_type": "text",
        "deletable": true,
        "editable": true,
        "id": "N9EgDvNRpy_5"
      },
      "source": [
        "#### 2. Normalization"
      ]
    },
    {
      "cell_type": "code",
      "metadata": {
        "colab_type": "code",
        "deletable": true,
        "editable": true,
        "id": "yaz_bIMOkH2N",
        "colab": {
          "base_uri": "https://localhost:8080/",
          "height": 52
        },
        "outputId": "a837fffe-43d2-41b0-84ab-1dbaf46dbc4b"
      },
      "source": [
        "mean = np.mean(trainx)\n",
        "std  = np.std(trainx)\n",
        "\n",
        "print(mean)\n",
        "print(std)\n",
        "\n",
        "trainx = trainx-mean\n",
        "trainx = trainx/std\n",
        "\n",
        "testx = testx-mean\n",
        "testx = testx/std\n",
        "\n",
        "validx = validx-mean\n",
        "validx = validx/std"
      ],
      "execution_count": 137,
      "outputs": [
        {
          "output_type": "stream",
          "text": [
            "149.91443788881656\n",
            "42.02971034402147\n"
          ],
          "name": "stdout"
        }
      ]
    },
    {
      "cell_type": "markdown",
      "metadata": {
        "colab_type": "text",
        "deletable": true,
        "editable": true,
        "id": "Jve_L1xGp4bk"
      },
      "source": [
        "### Model"
      ]
    },
    {
      "cell_type": "code",
      "metadata": {
        "colab_type": "code",
        "deletable": true,
        "editable": true,
        "id": "8d7T_CQPkH8P",
        "colab": {
          "base_uri": "https://localhost:8080/",
          "height": 847
        },
        "outputId": "beccb73c-63cc-45c8-deb2-829ffb3b5cbd"
      },
      "source": [
        "def unet_depth2(input_height=192, input_width=256):\n",
        "\n",
        "    img_input = Input(shape=(input_height,input_width,3))\n",
        "\n",
        "    conv1 = Conv2D(32, (3, 3), activation='relu', padding='same')(img_input)\n",
        "    conv1 = Conv2D(32, (3, 3), activation='relu', padding='same')(conv1)\n",
        "    pool1 = MaxPooling2D((2, 2))(conv1)\n",
        "    \n",
        "    conv2 = Conv2D(64, (3, 3), activation='relu', padding='same')(pool1)\n",
        "    conv2 = Conv2D(64, (3, 3), activation='relu', padding='same')(conv2)\n",
        "    pool2 = MaxPooling2D((2, 2))(conv2)\n",
        "\n",
        "    conv3 = Conv2D(128, (3, 3), activation='relu', padding='same')(pool2)\n",
        "    conv3 = Conv2D(128, (3, 3), activation='relu', padding='same')(conv3)\n",
        "    up1 = UpSampling2D((2, 2))(conv3)\n",
        "    \n",
        "    skip1  = concatenate([up1,conv2])\n",
        "    \n",
        "    conv4 = Conv2D(64, (3, 3), activation='relu', padding='same')(skip1)\n",
        "    conv4 = Conv2D(64, (3, 3), activation='relu', padding='same')(conv4)\n",
        "    up2 = UpSampling2D((2, 2))(conv4)\n",
        "    \n",
        "    skip2  = concatenate([up2,conv1])\n",
        "    \n",
        "    conv5 = Conv2D(32, (3, 3), activation='relu', padding='same')(skip2)\n",
        "    conv5 = Conv2D(32, (3, 3), activation='relu', padding='same')(conv5)\n",
        "    \n",
        "    drop1 = Dropout(0.5)(conv5)\n",
        "   \n",
        "    o = Conv2D( 1, (1, 1),activation = 'sigmoid' ,padding='same')(drop1)\n",
        "    \n",
        "    model = Model(inputs=[img_input], outputs=[ o ])\n",
        "    \n",
        "    return model\n",
        "\n",
        "model=unet_depth2()\n",
        "model.summary()"
      ],
      "execution_count": 138,
      "outputs": [
        {
          "output_type": "stream",
          "text": [
            "Model: \"functional_1\"\n",
            "__________________________________________________________________________________________________\n",
            "Layer (type)                    Output Shape         Param #     Connected to                     \n",
            "==================================================================================================\n",
            "input_1 (InputLayer)            [(None, 192, 256, 3) 0                                            \n",
            "__________________________________________________________________________________________________\n",
            "conv2d (Conv2D)                 (None, 192, 256, 32) 896         input_1[0][0]                    \n",
            "__________________________________________________________________________________________________\n",
            "conv2d_1 (Conv2D)               (None, 192, 256, 32) 9248        conv2d[0][0]                     \n",
            "__________________________________________________________________________________________________\n",
            "max_pooling2d (MaxPooling2D)    (None, 96, 128, 32)  0           conv2d_1[0][0]                   \n",
            "__________________________________________________________________________________________________\n",
            "conv2d_2 (Conv2D)               (None, 96, 128, 64)  18496       max_pooling2d[0][0]              \n",
            "__________________________________________________________________________________________________\n",
            "conv2d_3 (Conv2D)               (None, 96, 128, 64)  36928       conv2d_2[0][0]                   \n",
            "__________________________________________________________________________________________________\n",
            "max_pooling2d_1 (MaxPooling2D)  (None, 48, 64, 64)   0           conv2d_3[0][0]                   \n",
            "__________________________________________________________________________________________________\n",
            "conv2d_4 (Conv2D)               (None, 48, 64, 128)  73856       max_pooling2d_1[0][0]            \n",
            "__________________________________________________________________________________________________\n",
            "conv2d_5 (Conv2D)               (None, 48, 64, 128)  147584      conv2d_4[0][0]                   \n",
            "__________________________________________________________________________________________________\n",
            "up_sampling2d (UpSampling2D)    (None, 96, 128, 128) 0           conv2d_5[0][0]                   \n",
            "__________________________________________________________________________________________________\n",
            "concatenate (Concatenate)       (None, 96, 128, 192) 0           up_sampling2d[0][0]              \n",
            "                                                                 conv2d_3[0][0]                   \n",
            "__________________________________________________________________________________________________\n",
            "conv2d_6 (Conv2D)               (None, 96, 128, 64)  110656      concatenate[0][0]                \n",
            "__________________________________________________________________________________________________\n",
            "conv2d_7 (Conv2D)               (None, 96, 128, 64)  36928       conv2d_6[0][0]                   \n",
            "__________________________________________________________________________________________________\n",
            "up_sampling2d_1 (UpSampling2D)  (None, 192, 256, 64) 0           conv2d_7[0][0]                   \n",
            "__________________________________________________________________________________________________\n",
            "concatenate_1 (Concatenate)     (None, 192, 256, 96) 0           up_sampling2d_1[0][0]            \n",
            "                                                                 conv2d_1[0][0]                   \n",
            "__________________________________________________________________________________________________\n",
            "conv2d_8 (Conv2D)               (None, 192, 256, 32) 27680       concatenate_1[0][0]              \n",
            "__________________________________________________________________________________________________\n",
            "conv2d_9 (Conv2D)               (None, 192, 256, 32) 9248        conv2d_8[0][0]                   \n",
            "__________________________________________________________________________________________________\n",
            "dropout (Dropout)               (None, 192, 256, 32) 0           conv2d_9[0][0]                   \n",
            "__________________________________________________________________________________________________\n",
            "conv2d_10 (Conv2D)              (None, 192, 256, 1)  33          dropout[0][0]                    \n",
            "==================================================================================================\n",
            "Total params: 471,553\n",
            "Trainable params: 471,553\n",
            "Non-trainable params: 0\n",
            "__________________________________________________________________________________________________\n"
          ],
          "name": "stdout"
        }
      ]
    },
    {
      "cell_type": "markdown",
      "metadata": {
        "colab_type": "text",
        "deletable": true,
        "editable": true,
        "id": "BMt9hKk9qADH"
      },
      "source": [
        "### Model Visualization"
      ]
    },
    {
      "cell_type": "code",
      "metadata": {
        "colab_type": "code",
        "deletable": true,
        "editable": true,
        "id": "p2IOsAXyhG80",
        "colab": {}
      },
      "source": [
        "from keras_preprocessing.image import ImageDataGenerator\n",
        "data_gen_args = ImageDataGenerator(featurewise_center=False,\n",
        "                                 featurewise_std_normalization=False, \n",
        "                                 samplewise_center=False,\n",
        "                                 samplewise_std_normalization=False,\n",
        "                                 horizontal_flip=True,\n",
        "                                 zoom_range=[0.8,0.9],\n",
        "                                 rotation_range=30) "
      ],
      "execution_count": 139,
      "outputs": []
    },
    {
      "cell_type": "code",
      "metadata": {
        "colab_type": "code",
        "deletable": true,
        "editable": true,
        "id": "y4OTFtBahZoB",
        "colab": {}
      },
      "source": [
        "image_datagen = ImageDataGenerator(data_gen_args)\n",
        "mask_datagen = ImageDataGenerator(data_gen_args)\n",
        "\n",
        "seed = 2018\n",
        "bs = 32"
      ],
      "execution_count": 140,
      "outputs": []
    },
    {
      "cell_type": "code",
      "metadata": {
        "colab_type": "code",
        "deletable": true,
        "editable": true,
        "id": "dskL-r2RhraW",
        "colab": {}
      },
      "source": [
        "image_generator = image_datagen.flow(trainx, seed=seed, batch_size=bs, shuffle=True)\n",
        "mask_generator = mask_datagen.flow(trainy, seed=seed, batch_size=bs, shuffle=True)\n",
        "\n",
        "# Just zip the two generators to get a generator that provides augmented images and masks at the same time\n",
        "train_generator = zip(image_generator, mask_generator)"
      ],
      "execution_count": 141,
      "outputs": []
    },
    {
      "cell_type": "markdown",
      "metadata": {
        "colab_type": "text",
        "deletable": true,
        "editable": true,
        "id": "CIjXR8ZgqFu7"
      },
      "source": [
        "### Fine-tuning Tricks (callbacks)"
      ]
    },
    {
      "cell_type": "code",
      "metadata": {
        "colab_type": "code",
        "deletable": true,
        "editable": true,
        "id": "t-FmwHnth2Tx",
        "colab": {}
      },
      "source": [
        "import math\n",
        "from keras.callbacks import EarlyStopping,ModelCheckpoint\n",
        "os.chdir('/content/drive/My Drive/results')\n",
        "es = EarlyStopping(monitor='val_loss', mode='min', verbose=1, patience=10)\n",
        "mc = ModelCheckpoint('unet_up2_Aug.h5', monitor='val_loss', mode='min', verbose=1, save_best_only=True)\n",
        "cv = keras.callbacks.CSVLogger('unet_up2_Aug.csv', separator=',', append=False)"
      ],
      "execution_count": 142,
      "outputs": []
    },
    {
      "cell_type": "markdown",
      "metadata": {
        "colab_type": "text",
        "deletable": true,
        "editable": true,
        "id": "SOtzUdZNscbg"
      },
      "source": [
        "### Metrics"
      ]
    },
    {
      "cell_type": "code",
      "metadata": {
        "colab_type": "code",
        "deletable": true,
        "editable": true,
        "id": "Qn9Hit4Uh4yh",
        "colab": {}
      },
      "source": [
        "from keras import backend as K\n",
        "smooth=1\n",
        "\n",
        "def dice_coef(y_true, y_pred):\n",
        "    y_true_f = K.flatten(y_true)\n",
        "    y_pred_f = K.flatten(y_pred)\n",
        "    intersection = K.sum(y_true_f * y_pred_f)\n",
        "    return (2. * intersection + smooth) / (K.sum(y_true_f) + K.sum(y_pred_f) + smooth)\n",
        "\n",
        "\n",
        "def dice_coef_loss(y_true, y_pred):\n",
        "    return -dice_coef(y_true, y_pred)"
      ],
      "execution_count": 143,
      "outputs": []
    },
    {
      "cell_type": "markdown",
      "metadata": {
        "colab_type": "text",
        "deletable": true,
        "editable": true,
        "id": "a-AD-2VwqRfg"
      },
      "source": [
        "### Optimizer"
      ]
    },
    {
      "cell_type": "code",
      "metadata": {
        "colab_type": "code",
        "deletable": true,
        "editable": true,
        "id": "goq8YrrFk5dA",
        "colab": {}
      },
      "source": [
        "optimizer=keras.optimizers.Adam(lr=0.001, beta_1=0.9, beta_2=0.999, epsilon=None, decay=0.0, amsgrad=True)"
      ],
      "execution_count": 144,
      "outputs": []
    },
    {
      "cell_type": "markdown",
      "metadata": {
        "colab_type": "text",
        "deletable": true,
        "editable": true,
        "id": "2BNR0e0SqYwm"
      },
      "source": [
        "### Compile and Train the Model"
      ]
    },
    {
      "cell_type": "code",
      "metadata": {
        "colab_type": "code",
        "deletable": true,
        "editable": true,
        "id": "wpsE1JwSmE1G",
        "colab": {}
      },
      "source": [
        "from keras import backend as K\n",
        "model.compile(loss=dice_coef_loss, optimizer=optimizer, metrics=[dice_coef,'accuracy'])"
      ],
      "execution_count": 145,
      "outputs": []
    },
    {
      "cell_type": "code",
      "metadata": {
        "colab_type": "code",
        "deletable": true,
        "editable": true,
        "id": "MJz83Z3Yu3ea",
        "colab": {
          "base_uri": "https://localhost:8080/",
          "height": 1000
        },
        "outputId": "0f50e046-bb3a-4861-8f36-38755e4e49e7"
      },
      "source": [
        "history = model.fit_generator(train_generator, steps_per_epoch=(len(trainx) // 64),callbacks=[es,mc,cv], epochs=200,\n",
        "                              validation_data=(validx, validy))"
      ],
      "execution_count": 160,
      "outputs": [
        {
          "output_type": "stream",
          "text": [
            "/usr/local/lib/python3.6/dist-packages/keras_preprocessing/image/image_data_generator.py:720: UserWarning: This ImageDataGenerator specifies `featurewise_center`, but it hasn't been fit on any training data. Fit it first by calling `.fit(numpy_data)`.\n",
            "  warnings.warn('This ImageDataGenerator specifies '\n"
          ],
          "name": "stderr"
        },
        {
          "output_type": "stream",
          "text": [
            "Epoch 1/200\n",
            "2/2 [==============================] - ETA: 0s - loss: -0.6704 - dice_coef: 0.6704 - accuracy: 0.8936\n",
            "Epoch 00001: val_loss did not improve from -0.69463\n",
            "2/2 [==============================] - 2s 852ms/step - loss: -0.6704 - dice_coef: 0.6704 - accuracy: 0.8936 - val_loss: -0.6894 - val_dice_coef: 0.6770 - val_accuracy: 0.9107\n",
            "Epoch 2/200\n",
            "2/2 [==============================] - ETA: 0s - loss: -0.7535 - dice_coef: 0.7471 - accuracy: 0.9141\n",
            "Epoch 00002: val_loss did not improve from -0.69463\n",
            "2/2 [==============================] - 1s 709ms/step - loss: -0.7535 - dice_coef: 0.7471 - accuracy: 0.9141 - val_loss: -0.6931 - val_dice_coef: 0.6813 - val_accuracy: 0.9061\n",
            "Epoch 3/200\n",
            "2/2 [==============================] - ETA: 0s - loss: -0.6699 - dice_coef: 0.6699 - accuracy: 0.9064\n",
            "Epoch 00003: val_loss did not improve from -0.69463\n",
            "2/2 [==============================] - 2s 804ms/step - loss: -0.6699 - dice_coef: 0.6699 - accuracy: 0.9064 - val_loss: -0.6874 - val_dice_coef: 0.6761 - val_accuracy: 0.9006\n",
            "Epoch 4/200\n",
            "2/2 [==============================] - ETA: 0s - loss: -0.7508 - dice_coef: 0.7508 - accuracy: 0.8930\n",
            "Epoch 00004: val_loss improved from -0.69463 to -0.69719, saving model to unet_up2_Aug.h5\n",
            "2/2 [==============================] - 2s 874ms/step - loss: -0.7508 - dice_coef: 0.7508 - accuracy: 0.8930 - val_loss: -0.6972 - val_dice_coef: 0.6853 - val_accuracy: 0.9053\n",
            "Epoch 5/200\n",
            "2/2 [==============================] - ETA: 0s - loss: -0.7561 - dice_coef: 0.7570 - accuracy: 0.9056\n",
            "Epoch 00005: val_loss did not improve from -0.69719\n",
            "2/2 [==============================] - 2s 800ms/step - loss: -0.7561 - dice_coef: 0.7570 - accuracy: 0.9056 - val_loss: -0.6940 - val_dice_coef: 0.6810 - val_accuracy: 0.9102\n",
            "Epoch 6/200\n",
            "2/2 [==============================] - ETA: 0s - loss: -0.7064 - dice_coef: 0.7064 - accuracy: 0.9118\n",
            "Epoch 00006: val_loss did not improve from -0.69719\n",
            "2/2 [==============================] - 2s 796ms/step - loss: -0.7064 - dice_coef: 0.7064 - accuracy: 0.9118 - val_loss: -0.6868 - val_dice_coef: 0.6741 - val_accuracy: 0.9078\n",
            "Epoch 7/200\n",
            "2/2 [==============================] - ETA: 0s - loss: -0.7232 - dice_coef: 0.7138 - accuracy: 0.9048\n",
            "Epoch 00007: val_loss did not improve from -0.69719\n",
            "2/2 [==============================] - 1s 717ms/step - loss: -0.7232 - dice_coef: 0.7138 - accuracy: 0.9048 - val_loss: -0.6737 - val_dice_coef: 0.6625 - val_accuracy: 0.8921\n",
            "Epoch 8/200\n",
            "2/2 [==============================] - ETA: 0s - loss: -0.7452 - dice_coef: 0.7452 - accuracy: 0.8832\n",
            "Epoch 00008: val_loss did not improve from -0.69719\n",
            "2/2 [==============================] - 2s 800ms/step - loss: -0.7452 - dice_coef: 0.7452 - accuracy: 0.8832 - val_loss: -0.6416 - val_dice_coef: 0.6321 - val_accuracy: 0.8681\n",
            "Epoch 9/200\n",
            "2/2 [==============================] - ETA: 0s - loss: -0.6389 - dice_coef: 0.6389 - accuracy: 0.8611\n",
            "Epoch 00009: val_loss did not improve from -0.69719\n",
            "2/2 [==============================] - 2s 804ms/step - loss: -0.6389 - dice_coef: 0.6389 - accuracy: 0.8611 - val_loss: -0.6723 - val_dice_coef: 0.6622 - val_accuracy: 0.8888\n",
            "Epoch 10/200\n",
            "2/2 [==============================] - ETA: 0s - loss: -0.6645 - dice_coef: 0.6584 - accuracy: 0.9079\n",
            "Epoch 00010: val_loss improved from -0.69719 to -0.69823, saving model to unet_up2_Aug.h5\n",
            "2/2 [==============================] - 2s 1s/step - loss: -0.6645 - dice_coef: 0.6584 - accuracy: 0.9079 - val_loss: -0.6982 - val_dice_coef: 0.6869 - val_accuracy: 0.9115\n",
            "Epoch 11/200\n",
            "2/2 [==============================] - ETA: 0s - loss: -0.7373 - dice_coef: 0.7373 - accuracy: 0.9061\n",
            "Epoch 00011: val_loss did not improve from -0.69823\n",
            "2/2 [==============================] - 2s 806ms/step - loss: -0.7373 - dice_coef: 0.7373 - accuracy: 0.9061 - val_loss: -0.6859 - val_dice_coef: 0.6740 - val_accuracy: 0.9088\n",
            "Epoch 12/200\n",
            "2/2 [==============================] - ETA: 0s - loss: -0.7039 - dice_coef: 0.7023 - accuracy: 0.9039\n",
            "Epoch 00012: val_loss did not improve from -0.69823\n",
            "2/2 [==============================] - 1s 719ms/step - loss: -0.7039 - dice_coef: 0.7023 - accuracy: 0.9039 - val_loss: -0.6814 - val_dice_coef: 0.6696 - val_accuracy: 0.9030\n",
            "Epoch 13/200\n",
            "2/2 [==============================] - ETA: 0s - loss: -0.6853 - dice_coef: 0.6853 - accuracy: 0.8826\n",
            "Epoch 00013: val_loss did not improve from -0.69823\n",
            "2/2 [==============================] - 2s 803ms/step - loss: -0.6853 - dice_coef: 0.6853 - accuracy: 0.8826 - val_loss: -0.6702 - val_dice_coef: 0.6585 - val_accuracy: 0.8925\n",
            "Epoch 14/200\n",
            "2/2 [==============================] - ETA: 0s - loss: -0.7008 - dice_coef: 0.7008 - accuracy: 0.8971\n",
            "Epoch 00014: val_loss did not improve from -0.69823\n",
            "2/2 [==============================] - 2s 808ms/step - loss: -0.7008 - dice_coef: 0.7008 - accuracy: 0.8971 - val_loss: -0.6776 - val_dice_coef: 0.6671 - val_accuracy: 0.8940\n",
            "Epoch 15/200\n",
            "2/2 [==============================] - ETA: 0s - loss: -0.7545 - dice_coef: 0.7572 - accuracy: 0.9080\n",
            "Epoch 00015: val_loss did not improve from -0.69823\n",
            "2/2 [==============================] - 2s 815ms/step - loss: -0.7545 - dice_coef: 0.7572 - accuracy: 0.9080 - val_loss: -0.6881 - val_dice_coef: 0.6765 - val_accuracy: 0.9020\n",
            "Epoch 16/200\n",
            "2/2 [==============================] - ETA: 0s - loss: -0.7076 - dice_coef: 0.7076 - accuracy: 0.8970\n",
            "Epoch 00016: val_loss did not improve from -0.69823\n",
            "2/2 [==============================] - 2s 811ms/step - loss: -0.7076 - dice_coef: 0.7076 - accuracy: 0.8970 - val_loss: -0.6893 - val_dice_coef: 0.6776 - val_accuracy: 0.9065\n",
            "Epoch 17/200\n",
            "2/2 [==============================] - ETA: 0s - loss: -0.7390 - dice_coef: 0.7422 - accuracy: 0.9184\n",
            "Epoch 00017: val_loss did not improve from -0.69823\n",
            "2/2 [==============================] - 1s 718ms/step - loss: -0.7390 - dice_coef: 0.7422 - accuracy: 0.9184 - val_loss: -0.6852 - val_dice_coef: 0.6718 - val_accuracy: 0.9076\n",
            "Epoch 18/200\n",
            "2/2 [==============================] - ETA: 0s - loss: -0.7562 - dice_coef: 0.7562 - accuracy: 0.9063\n",
            "Epoch 00018: val_loss did not improve from -0.69823\n",
            "2/2 [==============================] - 2s 810ms/step - loss: -0.7562 - dice_coef: 0.7562 - accuracy: 0.9063 - val_loss: -0.6901 - val_dice_coef: 0.6765 - val_accuracy: 0.9070\n",
            "Epoch 19/200\n",
            "2/2 [==============================] - ETA: 0s - loss: -0.6766 - dice_coef: 0.6766 - accuracy: 0.8997\n",
            "Epoch 00019: val_loss did not improve from -0.69823\n",
            "2/2 [==============================] - 2s 807ms/step - loss: -0.6766 - dice_coef: 0.6766 - accuracy: 0.8997 - val_loss: -0.6947 - val_dice_coef: 0.6824 - val_accuracy: 0.9030\n",
            "Epoch 20/200\n",
            "2/2 [==============================] - ETA: 0s - loss: -0.6517 - dice_coef: 0.6676 - accuracy: 0.8933\n",
            "Epoch 00020: val_loss improved from -0.69823 to -0.69915, saving model to unet_up2_Aug.h5\n",
            "2/2 [==============================] - 2s 1s/step - loss: -0.6517 - dice_coef: 0.6676 - accuracy: 0.8933 - val_loss: -0.6991 - val_dice_coef: 0.6878 - val_accuracy: 0.9040\n",
            "Epoch 21/200\n",
            "2/2 [==============================] - ETA: 0s - loss: -0.7660 - dice_coef: 0.7660 - accuracy: 0.9163\n",
            "Epoch 00021: val_loss improved from -0.69915 to -0.70173, saving model to unet_up2_Aug.h5\n",
            "2/2 [==============================] - 2s 891ms/step - loss: -0.7660 - dice_coef: 0.7660 - accuracy: 0.9163 - val_loss: -0.7017 - val_dice_coef: 0.6907 - val_accuracy: 0.9064\n",
            "Epoch 22/200\n",
            "2/2 [==============================] - ETA: 0s - loss: -0.7530 - dice_coef: 0.7580 - accuracy: 0.9026\n",
            "Epoch 00022: val_loss improved from -0.70173 to -0.70461, saving model to unet_up2_Aug.h5\n",
            "2/2 [==============================] - 2s 799ms/step - loss: -0.7530 - dice_coef: 0.7580 - accuracy: 0.9026 - val_loss: -0.7046 - val_dice_coef: 0.6935 - val_accuracy: 0.9101\n",
            "Epoch 23/200\n",
            "2/2 [==============================] - ETA: 0s - loss: -0.7117 - dice_coef: 0.7117 - accuracy: 0.8938\n",
            "Epoch 00023: val_loss did not improve from -0.70461\n",
            "2/2 [==============================] - 2s 804ms/step - loss: -0.7117 - dice_coef: 0.7117 - accuracy: 0.8938 - val_loss: -0.6834 - val_dice_coef: 0.6724 - val_accuracy: 0.8926\n",
            "Epoch 24/200\n",
            "2/2 [==============================] - ETA: 0s - loss: -0.7397 - dice_coef: 0.7397 - accuracy: 0.8866\n",
            "Epoch 00024: val_loss did not improve from -0.70461\n",
            "2/2 [==============================] - 2s 808ms/step - loss: -0.7397 - dice_coef: 0.7397 - accuracy: 0.8866 - val_loss: -0.6968 - val_dice_coef: 0.6846 - val_accuracy: 0.9025\n",
            "Epoch 25/200\n",
            "2/2 [==============================] - ETA: 0s - loss: -0.7762 - dice_coef: 0.7687 - accuracy: 0.9221\n",
            "Epoch 00025: val_loss did not improve from -0.70461\n",
            "2/2 [==============================] - 2s 805ms/step - loss: -0.7762 - dice_coef: 0.7687 - accuracy: 0.9221 - val_loss: -0.6982 - val_dice_coef: 0.6851 - val_accuracy: 0.9113\n",
            "Epoch 26/200\n",
            "2/2 [==============================] - ETA: 0s - loss: -0.7265 - dice_coef: 0.7265 - accuracy: 0.9102\n",
            "Epoch 00026: val_loss did not improve from -0.70461\n",
            "2/2 [==============================] - 2s 801ms/step - loss: -0.7265 - dice_coef: 0.7265 - accuracy: 0.9102 - val_loss: -0.6989 - val_dice_coef: 0.6865 - val_accuracy: 0.9130\n",
            "Epoch 27/200\n",
            "2/2 [==============================] - ETA: 0s - loss: -0.6719 - dice_coef: 0.6900 - accuracy: 0.9123\n",
            "Epoch 00027: val_loss did not improve from -0.70461\n",
            "2/2 [==============================] - 1s 718ms/step - loss: -0.6719 - dice_coef: 0.6900 - accuracy: 0.9123 - val_loss: -0.6861 - val_dice_coef: 0.6761 - val_accuracy: 0.8961\n",
            "Epoch 28/200\n",
            "2/2 [==============================] - ETA: 0s - loss: -0.6915 - dice_coef: 0.6915 - accuracy: 0.8931\n",
            "Epoch 00028: val_loss did not improve from -0.70461\n",
            "2/2 [==============================] - 2s 808ms/step - loss: -0.6915 - dice_coef: 0.6915 - accuracy: 0.8931 - val_loss: -0.6920 - val_dice_coef: 0.6808 - val_accuracy: 0.9024\n",
            "Epoch 29/200\n",
            "2/2 [==============================] - ETA: 0s - loss: -0.7448 - dice_coef: 0.7448 - accuracy: 0.9185\n",
            "Epoch 00029: val_loss did not improve from -0.70461\n",
            "2/2 [==============================] - 2s 803ms/step - loss: -0.7448 - dice_coef: 0.7448 - accuracy: 0.9185 - val_loss: -0.6982 - val_dice_coef: 0.6865 - val_accuracy: 0.9093\n",
            "Epoch 30/200\n",
            "2/2 [==============================] - ETA: 0s - loss: -0.7271 - dice_coef: 0.7290 - accuracy: 0.8835\n",
            "Epoch 00030: val_loss did not improve from -0.70461\n",
            "2/2 [==============================] - 2s 806ms/step - loss: -0.7271 - dice_coef: 0.7290 - accuracy: 0.8835 - val_loss: -0.6985 - val_dice_coef: 0.6867 - val_accuracy: 0.9084\n",
            "Epoch 31/200\n",
            "2/2 [==============================] - ETA: 0s - loss: -0.7340 - dice_coef: 0.7340 - accuracy: 0.9065\n",
            "Epoch 00031: val_loss did not improve from -0.70461\n",
            "2/2 [==============================] - 2s 807ms/step - loss: -0.7340 - dice_coef: 0.7340 - accuracy: 0.9065 - val_loss: -0.6805 - val_dice_coef: 0.6695 - val_accuracy: 0.8947\n",
            "Epoch 32/200\n",
            "2/2 [==============================] - ETA: 0s - loss: -0.6849 - dice_coef: 0.6880 - accuracy: 0.8873\n",
            "Epoch 00032: val_loss did not improve from -0.70461\n",
            "2/2 [==============================] - 1s 715ms/step - loss: -0.6849 - dice_coef: 0.6880 - accuracy: 0.8873 - val_loss: -0.7010 - val_dice_coef: 0.6890 - val_accuracy: 0.9078\n",
            "Epoch 00032: early stopping\n"
          ],
          "name": "stdout"
        }
      ]
    },
    {
      "cell_type": "markdown",
      "metadata": {
        "colab_type": "text",
        "deletable": true,
        "editable": true,
        "id": "KajlhYyUqfCd"
      },
      "source": [
        "### Evaluating the Model Performance"
      ]
    },
    {
      "cell_type": "code",
      "metadata": {
        "colab_type": "code",
        "deletable": true,
        "editable": true,
        "id": "Aq7v5IFHmE61",
        "colab": {
          "base_uri": "https://localhost:8080/",
          "height": 52
        },
        "outputId": "afdca205-bc07-476c-85b5-44e93346c8ec"
      },
      "source": [
        "model.evaluate(testx,testy)"
      ],
      "execution_count": 161,
      "outputs": [
        {
          "output_type": "stream",
          "text": [
            "19/19 [==============================] - 4s 189ms/step - loss: -0.6517 - dice_coef: 0.6478 - accuracy: 0.8675\n"
          ],
          "name": "stdout"
        },
        {
          "output_type": "execute_result",
          "data": {
            "text/plain": [
              "[-0.6517102122306824, 0.6477707028388977, 0.8674972653388977]"
            ]
          },
          "metadata": {
            "tags": []
          },
          "execution_count": 161
        }
      ]
    },
    {
      "cell_type": "code",
      "metadata": {
        "colab_type": "code",
        "deletable": true,
        "editable": true,
        "id": "xJK_uJv_Q_GB",
        "colab": {}
      },
      "source": [
        "model.save(\"unet_up2_aug_temp.h5\")"
      ],
      "execution_count": 162,
      "outputs": []
    },
    {
      "cell_type": "markdown",
      "metadata": {
        "colab_type": "text",
        "deletable": true,
        "editable": true,
        "id": "Nm5QA2GkFcvK"
      },
      "source": [
        "### Load_Model"
      ]
    },
    {
      "cell_type": "code",
      "metadata": {
        "colab_type": "code",
        "deletable": true,
        "editable": true,
        "id": "IxWkVOS_Fc9-",
        "colab": {}
      },
      "source": [
        "import os\n",
        "os.getcwd()\n",
        "os.chdir('/content/drive/My Drive/results')"
      ],
      "execution_count": 163,
      "outputs": []
    },
    {
      "cell_type": "code",
      "metadata": {
        "colab_type": "code",
        "deletable": true,
        "editable": true,
        "id": "s-_9Qjc4SEiH",
        "colab": {
          "base_uri": "https://localhost:8080/",
          "height": 52
        },
        "outputId": "c3244729-ce83-421b-ef38-87443e4edcd9"
      },
      "source": [
        "from keras.models import load_model\n",
        "model2 = load_model(\"unet_up2_Aug.h5\", custom_objects={'dice_coef_loss': dice_coef_loss, 'dice_coef': dice_coef})\n",
        "model2.evaluate(testx,testy)"
      ],
      "execution_count": 164,
      "outputs": [
        {
          "output_type": "stream",
          "text": [
            "19/19 [==============================] - 4s 194ms/step - loss: -0.6520 - dice_coef: 0.6480 - accuracy: 0.8699\n"
          ],
          "name": "stdout"
        },
        {
          "output_type": "execute_result",
          "data": {
            "text/plain": [
              "[-0.6520002484321594, 0.6479546427726746, 0.8698926568031311]"
            ]
          },
          "metadata": {
            "tags": []
          },
          "execution_count": 164
        }
      ]
    },
    {
      "cell_type": "code",
      "metadata": {
        "colab_type": "code",
        "deletable": true,
        "editable": true,
        "id": "fANpgkXO5o-I",
        "colab": {
          "base_uri": "https://localhost:8080/",
          "height": 89
        },
        "outputId": "b48b0a50-08cf-4fd9-ba18-3abd1d82a69f"
      },
      "source": [
        "preds = model2.predict(testx, verbose = 1)\n",
        "preds.shape\n",
        "preds = np.around(preds)"
      ],
      "execution_count": 165,
      "outputs": [
        {
          "output_type": "stream",
          "text": [
            " 2/19 [==>...........................] - ETA: 1sWARNING:tensorflow:Callbacks method `on_predict_batch_end` is slow compared to the batch time (batch time: 0.0104s vs `on_predict_batch_end` time: 0.1809s). Check your callbacks.\n"
          ],
          "name": "stdout"
        },
        {
          "output_type": "stream",
          "text": [
            "WARNING:tensorflow:Callbacks method `on_predict_batch_end` is slow compared to the batch time (batch time: 0.0104s vs `on_predict_batch_end` time: 0.1809s). Check your callbacks.\n"
          ],
          "name": "stderr"
        },
        {
          "output_type": "stream",
          "text": [
            "19/19 [==============================] - 4s 193ms/step\n"
          ],
          "name": "stdout"
        }
      ]
    },
    {
      "cell_type": "code",
      "metadata": {
        "colab_type": "code",
        "deletable": true,
        "editable": true,
        "id": "EevsMCuS6cXP",
        "colab": {}
      },
      "source": [
        "def dice(true, preds):  \n",
        "    scores  = []\n",
        "    for i in range(len(true)):\n",
        "        im1 = true[i]\n",
        "        im2 = preds[i]\n",
        "        intersection = np.logical_and(im1, im2)\n",
        "        score = 2. * intersection.sum() / (im1.sum() + im2.sum())\n",
        "        scores.append(score)\n",
        "    return np.array(scores).mean(), scores"
      ],
      "execution_count": 166,
      "outputs": []
    },
    {
      "cell_type": "code",
      "metadata": {
        "colab_type": "code",
        "deletable": true,
        "editable": true,
        "id": "rWM7i5dg507b",
        "colab": {
          "base_uri": "https://localhost:8080/",
          "height": 34
        },
        "outputId": "cba66590-c115-46c0-935e-76bcc047e159"
      },
      "source": [
        "avg_d_score, d_scores = dice(testy, np.around(preds))\n",
        "print(avg_d_score)"
      ],
      "execution_count": 167,
      "outputs": [
        {
          "output_type": "stream",
          "text": [
            "0.6576032915086627\n"
          ],
          "name": "stdout"
        }
      ]
    },
    {
      "cell_type": "code",
      "metadata": {
        "colab_type": "code",
        "deletable": true,
        "editable": true,
        "id": "rlRy8Do351De",
        "colab": {
          "base_uri": "https://localhost:8080/",
          "height": 34
        },
        "outputId": "f01e4947-d830-4bdb-80d8-3104e435d016"
      },
      "source": [
        "np.mean(d_scores)"
      ],
      "execution_count": 168,
      "outputs": [
        {
          "output_type": "execute_result",
          "data": {
            "text/plain": [
              "0.6576032915086627"
            ]
          },
          "metadata": {
            "tags": []
          },
          "execution_count": 168
        }
      ]
    },
    {
      "cell_type": "code",
      "metadata": {
        "colab_type": "code",
        "deletable": true,
        "editable": true,
        "id": "bwBXyIEL8N83",
        "colab": {
          "base_uri": "https://localhost:8080/",
          "height": 253
        },
        "outputId": "ae8d4120-75bf-48bc-d2a8-688f5fe4a6ab"
      },
      "source": [
        "idxx=45 #1\n",
        "plt.figure(figsize=(15,15))\n",
        "plt.subplot(131).imshow(testx[idxx][:,:,0])\n",
        "plt.subplot(132).imshow(testy[idxx][:,:,0])\n",
        "plt.subplot(133).imshow(preds[idxx][:,:,0])"
      ],
      "execution_count": 178,
      "outputs": [
        {
          "output_type": "execute_result",
          "data": {
            "text/plain": [
              "<matplotlib.image.AxesImage at 0x7fd0a8b71ac8>"
            ]
          },
          "metadata": {
            "tags": []
          },
          "execution_count": 178
        },
        {
          "output_type": "display_data",
          "data": {
            "image/png": "[encoded data removed]",
            "text/plain": [
              "<Figure size 1080x1080 with 3 Axes>"
            ]
          },
          "metadata": {
            "tags": [],
            "needs_background": "light"
          }
        }
      ]
    },
    {
      "cell_type": "markdown",
      "metadata": {
        "colab_type": "text",
        "deletable": true,
        "editable": true,
        "id": "5Ub4VafPqmd_"
      },
      "source": [
        "### Plot Loss and Accuracy"
      ]
    },
    {
      "cell_type": "code",
      "metadata": {
        "colab_type": "code",
        "deletable": true,
        "editable": true,
        "id": "j84XbFN6mbUq",
        "colab": {}
      },
      "source": [
        "train_loss = history.history['loss']\n",
        "train_acc = history.history['accuracy']\n",
        "val_loss = history.history['val_loss']\n",
        "val_acc = history.history['val_accuracy']\n",
        "xc=range(len(train_loss))"
      ],
      "execution_count": 170,
      "outputs": []
    },
    {
      "cell_type": "code",
      "metadata": {
        "colab_type": "code",
        "deletable": true,
        "editable": true,
        "id": "Xk_dZo5RmbXq",
        "colab": {
          "base_uri": "https://localhost:8080/",
          "height": 296
        },
        "outputId": "a3e5c8b1-fa43-4429-deed-018a869d7e7b"
      },
      "source": [
        "import matplotlib.pyplot as plt\n",
        "%matplotlib inline\n",
        "plt.plot(xc, train_loss)\n",
        "plt.plot(xc, val_loss)\n",
        "plt.xlabel(\"Epoch\")\n",
        "plt.ylabel(\"Loss\")\n",
        "plt.legend(['train'])"
      ],
      "execution_count": 171,
      "outputs": [
        {
          "output_type": "execute_result",
          "data": {
            "text/plain": [
              "<matplotlib.legend.Legend at 0x7fd0a983c860>"
            ]
          },
          "metadata": {
            "tags": []
          },
          "execution_count": 171
        },
        {
          "output_type": "display_data",
          "data": {
            "image/png": "[encoded data removed]",
            "text/plain": [
              "<Figure size 432x288 with 1 Axes>"
            ]
          },
          "metadata": {
            "tags": [],
            "needs_background": "light"
          }
        }
      ]
    },
    {
      "cell_type": "code",
      "metadata": {
        "colab_type": "code",
        "deletable": true,
        "editable": true,
        "id": "Q93wB3uymbaY",
        "colab": {
          "base_uri": "https://localhost:8080/",
          "height": 296
        },
        "outputId": "cc509ef7-f0b6-4f7d-8948-8bb2c20041a2"
      },
      "source": [
        "import matplotlib.pyplot as plt\n",
        "%matplotlib inline\n",
        "plt.plot(xc, train_acc)\n",
        "plt.plot(xc, val_acc)\n",
        "plt.xlabel(\"Epoch\")\n",
        "plt.ylabel(\"Acc\")\n",
        "plt.legend(['train'])"
      ],
      "execution_count": 172,
      "outputs": [
        {
          "output_type": "execute_result",
          "data": {
            "text/plain": [
              "<matplotlib.legend.Legend at 0x7fd0a9498710>"
            ]
          },
          "metadata": {
            "tags": []
          },
          "execution_count": 172
        },
        {
          "output_type": "display_data",
          "data": {
            "image/png": "[encoded data removed]",
            "text/plain": [
              "<Figure size 432x288 with 1 Axes>"
            ]
          },
          "metadata": {
            "tags": [],
            "needs_background": "light"
          }
        }
      ]
    },
    {
      "cell_type": "markdown",
      "metadata": {
        "colab_type": "text",
        "deletable": true,
        "editable": true,
        "id": "YOWqF3T1qzOY"
      },
      "source": [
        "### Dice Coefficient"
      ]
    },
    {
      "cell_type": "code",
      "metadata": {
        "colab_type": "code",
        "deletable": true,
        "editable": true,
        "id": "CvecqGe2m1GR",
        "colab": {
          "base_uri": "https://localhost:8080/",
          "height": 69
        },
        "outputId": "f0306a5b-0c20-4a5a-c1d1-7c8055d053cf"
      },
      "source": [
        "test_pred = model.predict(testx, batch_size=32)\n",
        "test_result = np.zeros(test_pred.shape)\n",
        "test_result[test_pred>0.5] = 1\n",
        "test_result[test_pred<=0.5] = 0\n",
        "dice = dc(test_result, testy)\n",
        "pre  = precision(test_result,testy)\n",
        "re   = recall(test_result,testy)\n",
        "print('Test dc: '  + str(dice))\n",
        "print('Test pre: ' + str(pre))\n",
        "print('Test re: '  + str(re))"
      ],
      "execution_count": 173,
      "outputs": [
        {
          "output_type": "stream",
          "text": [
            "Test dc: 0.7174774839127942\n",
            "Test pre: 0.7222146615033831\n",
            "Test re: 0.7128020459047141\n"
          ],
          "name": "stdout"
        }
      ]
    }
  ]
}