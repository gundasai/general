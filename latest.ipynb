{
  "nbformat": 4,
  "nbformat_minor": 0,
  "metadata": {
    "accelerator": "GPU",
    "colab": {
      "name": "Copy of 14_Unet_Depth_2+Aug.ipynb",
      "provenance": [],
      "collapsed_sections": [],
      "include_colab_link": true
    },
    "kernelspec": {
      "display_name": "Python 3",
      "language": "python",
      "name": "python3"
    },
    "language_info": {
      "codemirror_mode": {
        "name": "ipython",
        "version": 3
      },
      "file_extension": ".py",
      "mimetype": "text/x-python",
      "name": "python",
      "nbconvert_exporter": "python",
      "pygments_lexer": "ipython3",
      "version": "3.5.0"
    }
  },
  "cells": [
    {
      "cell_type": "markdown",
      "metadata": {
        "id": "view-in-github",
        "colab_type": "text"
      },
      "source": [
        "<a href=\"https://colab.research.google.com/github/gundasai/general/blob/master/latest.ipynb\" target=\"_parent\"><img src=\"https://colab.research.google.com/assets/colab-badge.svg\" alt=\"Open In Colab\"/></a>"
      ]
    },
    {
      "cell_type": "markdown",
      "metadata": {
        "colab_type": "text",
        "deletable": true,
        "editable": true,
        "id": "mCvUJesKo3kc"
      },
      "source": [
        "## Semantic Segmentation using Covolutional Neural Network"
      ]
    },
    {
      "cell_type": "code",
      "metadata": {
        "colab_type": "code",
        "deletable": true,
        "editable": true,
        "id": "uxw4V2odbp2Z",
        "colab": {
          "base_uri": "https://localhost:8080/",
          "height": 34
        },
        "outputId": "ddd14f43-3528-4189-8035-87b885960f3f"
      },
      "source": [
        "from google.colab import drive\n",
        "drive.mount('/content/drive')"
      ],
      "execution_count": 84,
      "outputs": [
        {
          "output_type": "stream",
          "text": [
            "Drive already mounted at /content/drive; to attempt to forcibly remount, call drive.mount(\"/content/drive\", force_remount=True).\n"
          ],
          "name": "stdout"
        }
      ]
    },
    {
      "cell_type": "code",
      "metadata": {
        "colab_type": "code",
        "deletable": true,
        "editable": true,
        "id": "-CCR1yilkval",
        "colab": {}
      },
      "source": [
        "import keras\n",
        "keras.backend.clear_session()"
      ],
      "execution_count": 85,
      "outputs": []
    },
    {
      "cell_type": "code",
      "metadata": {
        "colab_type": "code",
        "deletable": true,
        "editable": true,
        "id": "JVd83jPNk3Iy",
        "colab": {
          "base_uri": "https://localhost:8080/",
          "height": 34
        },
        "outputId": "237b810b-4128-480d-8671-5a5a637acd95"
      },
      "source": [
        "import tensorflow as tf\n",
        "if tf.test.gpu_device_name():\n",
        "    print('Default GPU Device: {}'.format(tf.test.gpu_device_name()))\n",
        "else:\n",
        "    print(\"Please install GPU version of TF\")"
      ],
      "execution_count": 86,
      "outputs": [
        {
          "output_type": "stream",
          "text": [
            "Default GPU Device: /device:GPU:0\n"
          ],
          "name": "stdout"
        }
      ]
    },
    {
      "cell_type": "markdown",
      "metadata": {
        "colab_type": "text",
        "deletable": true,
        "editable": true,
        "id": "1sySsJGiYH5p"
      },
      "source": [
        "## Reproducibiity"
      ]
    },
    {
      "cell_type": "code",
      "metadata": {
        "colab_type": "code",
        "deletable": true,
        "editable": true,
        "id": "hNUt5vS_YHjn",
        "colab": {}
      },
      "source": [
        "import keras\n",
        "import numpy as np\n",
        "import random\n",
        "import tensorflow as tf\n",
        "\n",
        "keras.backend.clear_session()\n",
        "random.seed(42)\n",
        "np.random.seed(42)\n",
        "#tf.set_random_seed(42)"
      ],
      "execution_count": 87,
      "outputs": []
    },
    {
      "cell_type": "markdown",
      "metadata": {
        "colab_type": "text",
        "deletable": true,
        "editable": true,
        "id": "ZAfdCD53pGRj"
      },
      "source": [
        "### Importing the  Library Functions"
      ]
    },
    {
      "cell_type": "code",
      "metadata": {
        "colab_type": "code",
        "deletable": true,
        "editable": true,
        "id": "Rxrj7W0cdD7Z",
        "colab": {
          "base_uri": "https://localhost:8080/",
          "height": 86
        },
        "outputId": "8c057747-e5da-4b14-a851-374b77e14959"
      },
      "source": [
        "from keras.layers import *\n",
        "import keras\n",
        "from keras.models import Sequential,Model\n",
        "import cv2\n",
        "import os\n",
        "import matplotlib.pyplot as plt\n",
        "%matplotlib inline\n",
        "!pip install medpy\n",
        "from medpy.metric import dc, precision, recall,jc\n",
        "#!pip install -U scipy==1.2.0\n",
        "import os\n",
        "import cv2\n",
        "import numpy as np\n",
        "import seaborn as sns\n",
        "from sklearn.model_selection import train_test_split\n",
        "from sklearn.utils import shuffle"
      ],
      "execution_count": 88,
      "outputs": [
        {
          "output_type": "stream",
          "text": [
            "Requirement already satisfied: medpy in /usr/local/lib/python3.6/dist-packages (0.4.0)\n",
            "Requirement already satisfied: scipy>=1.1.0 in /usr/local/lib/python3.6/dist-packages (from medpy) (1.4.1)\n",
            "Requirement already satisfied: numpy>=1.11.0 in /usr/local/lib/python3.6/dist-packages (from medpy) (1.18.5)\n",
            "Requirement already satisfied: SimpleITK>=1.1.0 in /usr/local/lib/python3.6/dist-packages (from medpy) (2.0.0)\n"
          ],
          "name": "stdout"
        }
      ]
    },
    {
      "cell_type": "code",
      "metadata": {
        "colab_type": "code",
        "deletable": true,
        "editable": true,
        "id": "2QEzetiF-fnn",
        "colab": {}
      },
      "source": [
        "#!pip install -U scipy==1.2.0\n",
        "#from scipy.misc import imsave"
      ],
      "execution_count": 89,
      "outputs": []
    },
    {
      "cell_type": "markdown",
      "metadata": {
        "colab_type": "text",
        "deletable": true,
        "editable": true,
        "id": "3AZr2mFUpQY6"
      },
      "source": [
        "### Loading Data"
      ]
    },
    {
      "cell_type": "code",
      "metadata": {
        "colab_type": "code",
        "deletable": true,
        "editable": true,
        "id": "SnpIJYJKjp4f",
        "colab": {
          "base_uri": "https://localhost:8080/",
          "height": 34
        },
        "outputId": "d8d0a9e0-4929-48ff-ea24-4ab0bb00ac77"
      },
      "source": [
        "#import os\n",
        "#os.getcwd()\n",
        "import os \n",
        "os.chdir('/content/drive/My Drive//datasets/dataset')\n",
        "print(os.getcwd())"
      ],
      "execution_count": 90,
      "outputs": [
        {
          "output_type": "stream",
          "text": [
            "/content/drive/.shortcut-targets-by-id/1UdaOejRhEeeMQGXLjtSw0puIg-j1BFAP/dataset\n"
          ],
          "name": "stdout"
        }
      ]
    },
    {
      "cell_type": "code",
      "metadata": {
        "id": "c1DJuU8Xmvir",
        "colab_type": "code",
        "colab": {}
      },
      "source": [
        "!pip install --quiet nibabel\n",
        "import nibabel as nib\n",
        "import matplotlib.pylab as plt\n",
        "import numpy as np\n",
        "import os"
      ],
      "execution_count": 91,
      "outputs": []
    },
    {
      "cell_type": "code",
      "metadata": {
        "colab_type": "code",
        "deletable": true,
        "editable": true,
        "id": "Shk_5BDYdEGJ",
        "colab": {
          "base_uri": "https://localhost:8080/",
          "height": 296
        },
        "outputId": "085b0908-fb6a-4627-d2cd-e18e962d099d"
      },
      "source": [
        "trainx=[]\n",
        "trainy=[]\n",
        "for i in range(1,8):\n",
        "  img=nib.load(os.path.join('/content/drive/My Drive/imagesTr/','iseg_' + str(i) + '_0000.nii.gz')).get_data()\n",
        "  trainx.append(img)\n",
        "  img=nib.load(os.path.join('/content/drive/My Drive/imagesTr/','iseg_' + str(i) + '_0001.nii.gz')).get_data()\n",
        "  trainx.append(img)\n",
        "  img=nib.load(os.path.join('/content/drive/My Drive/labelsTr/','iseg_' + str(i) + '.nii.gz')).get_data()\n",
        "  trainy.append(img)\n",
        "  trainy.append(img)\n",
        "trainX=[]\n",
        "trainY=[]\n",
        "for i in range(0,14):\n",
        " for j in range(144,182):\n",
        "  trainX.append(np.take(trainx[i],j,2))\n",
        "  trainY.append(np.take(trainy[i],j,2))\n",
        "import numpy as np\n",
        "trainx=np.array(trainX)\n",
        "trainy=np.array(trainY)\n",
        "validx=trainx\n",
        "validy=trainy\n",
        "testx=trainx\n",
        "testy=trainy"
      ],
      "execution_count": 92,
      "outputs": [
        {
          "output_type": "stream",
          "text": [
            "/usr/local/lib/python3.6/dist-packages/ipykernel_launcher.py:4: DeprecationWarning: get_data() is deprecated in favor of get_fdata(), which has a more predictable return type. To obtain get_data() behavior going forward, use numpy.asanyarray(img.dataobj).\n",
            "\n",
            "* deprecated from version: 3.0\n",
            "* Will raise <class 'nibabel.deprecator.ExpiredDeprecationError'> as of version: 5.0\n",
            "  after removing the cwd from sys.path.\n",
            "/usr/local/lib/python3.6/dist-packages/ipykernel_launcher.py:6: DeprecationWarning: get_data() is deprecated in favor of get_fdata(), which has a more predictable return type. To obtain get_data() behavior going forward, use numpy.asanyarray(img.dataobj).\n",
            "\n",
            "* deprecated from version: 3.0\n",
            "* Will raise <class 'nibabel.deprecator.ExpiredDeprecationError'> as of version: 5.0\n",
            "  \n",
            "/usr/local/lib/python3.6/dist-packages/ipykernel_launcher.py:8: DeprecationWarning: get_data() is deprecated in favor of get_fdata(), which has a more predictable return type. To obtain get_data() behavior going forward, use numpy.asanyarray(img.dataobj).\n",
            "\n",
            "* deprecated from version: 3.0\n",
            "* Will raise <class 'nibabel.deprecator.ExpiredDeprecationError'> as of version: 5.0\n",
            "  \n"
          ],
          "name": "stderr"
        }
      ]
    },
    {
      "cell_type": "code",
      "metadata": {
        "colab_type": "code",
        "deletable": true,
        "editable": true,
        "id": "1eqDi0qMRCOe",
        "colab": {
          "base_uri": "https://localhost:8080/",
          "height": 224
        },
        "outputId": "beebc65c-0ca3-4bde-ca2c-c1a14f10fd51"
      },
      "source": [
        "print(len(trainx))\n",
        "print(len(trainy))\n",
        "print(trainx.shape)\n",
        "print(trainy.shape)\n",
        "\n",
        "print(len(validx))\n",
        "print(len(validy))\n",
        "print(validx.shape)\n",
        "print(validy.shape)\n",
        "\n",
        "print(len(testx))\n",
        "print(len(testy))\n",
        "print(testx.shape)\n",
        "print(testy.shape)"
      ],
      "execution_count": 93,
      "outputs": [
        {
          "output_type": "stream",
          "text": [
            "532\n",
            "532\n",
            "(532, 144, 192)\n",
            "(532, 144, 192)\n",
            "532\n",
            "532\n",
            "(532, 144, 192)\n",
            "(532, 144, 192)\n",
            "532\n",
            "532\n",
            "(532, 144, 192)\n",
            "(532, 144, 192)\n"
          ],
          "name": "stdout"
        }
      ]
    },
    {
      "cell_type": "code",
      "metadata": {
        "colab_type": "code",
        "deletable": true,
        "editable": true,
        "id": "j9EM9P3zr4Na",
        "colab": {
          "base_uri": "https://localhost:8080/",
          "height": 86
        },
        "outputId": "e16f97f2-667b-4857-d29d-17e11ce1ecdb"
      },
      "source": [
        "print(np.max(trainx[0]))\n",
        "print(np.min(trainx[0]))\n",
        "\n",
        "print(np.max(trainy[0]))\n",
        "print(np.min(trainy[0]))"
      ],
      "execution_count": 94,
      "outputs": [
        {
          "output_type": "stream",
          "text": [
            "487\n",
            "0\n",
            "3\n",
            "0\n"
          ],
          "name": "stdout"
        }
      ]
    },
    {
      "cell_type": "code",
      "metadata": {
        "colab_type": "code",
        "deletable": true,
        "editable": true,
        "id": "aFkp4ofiri_b",
        "colab": {}
      },
      "source": [
        "trainy = trainy/255\n",
        "validy = validy/255\n",
        "testy  = testy/255"
      ],
      "execution_count": 95,
      "outputs": []
    },
    {
      "cell_type": "code",
      "metadata": {
        "colab_type": "code",
        "deletable": true,
        "editable": true,
        "id": "YekXmy0RnqiK",
        "colab": {
          "base_uri": "https://localhost:8080/",
          "height": 86
        },
        "outputId": "a479e3eb-4f0e-45a8-beb8-e2256514f1a4"
      },
      "source": [
        "print(np.max(trainx[0]))\n",
        "print(np.min(trainx[0]))\n",
        "\n",
        "print(np.max(trainy[0]))\n",
        "print(np.min(trainy[0]))"
      ],
      "execution_count": 96,
      "outputs": [
        {
          "output_type": "stream",
          "text": [
            "487\n",
            "0\n",
            "0.011764705882352941\n",
            "0.0\n"
          ],
          "name": "stdout"
        }
      ]
    },
    {
      "cell_type": "code",
      "metadata": {
        "colab_type": "code",
        "deletable": true,
        "editable": true,
        "id": "Sha_Q7V0UPTE",
        "colab": {
          "base_uri": "https://localhost:8080/",
          "height": 86
        },
        "outputId": "2896a2ee-42d7-4826-9034-2ded10604297"
      },
      "source": [
        "print(np.max(trainx[0]),np.max(validx[0]),np.max(testx[0]))\n",
        "print(np.min(trainx[0]),np.min(validx[0]),np.min(testx[0]))\n",
        "\n",
        "\n",
        "print(np.min(trainy[0]),np.min(validy[0]),np.min(testy[0]))\n",
        "print(np.max(trainy[0]),np.max(validy[0]),np.max(testy[0]))"
      ],
      "execution_count": 97,
      "outputs": [
        {
          "output_type": "stream",
          "text": [
            "487 487 487\n",
            "0 0 0\n",
            "0.0 0.0 0.0\n",
            "0.011764705882352941 0.011764705882352941 0.011764705882352941\n"
          ],
          "name": "stdout"
        }
      ]
    },
    {
      "cell_type": "markdown",
      "metadata": {
        "colab_type": "text",
        "deletable": true,
        "editable": true,
        "id": "eiF_zt7ypUp1"
      },
      "source": [
        "### Visualizing Data"
      ]
    },
    {
      "cell_type": "code",
      "metadata": {
        "colab_type": "code",
        "deletable": true,
        "editable": true,
        "id": "vYg9kp4xdEIo",
        "colab": {
          "base_uri": "https://localhost:8080/",
          "height": 959
        },
        "outputId": "9661a2f9-8645-4699-851c-172a0500b339"
      },
      "source": [
        "plt.figure(figsize=(10,10))\n",
        "plt.subplot(121).imshow(np.take(trainx[0], 161, 2))\n",
        "plt.subplot(122).imshow(np.take(trainy[0],161,2))"
      ],
      "execution_count": 98,
      "outputs": [
        {
          "output_type": "error",
          "ename": "AxisError",
          "evalue": "ignored",
          "traceback": [
            "\u001b[0;31m---------------------------------------------------------------------------\u001b[0m",
            "\u001b[0;31mAxisError\u001b[0m                                 Traceback (most recent call last)",
            "\u001b[0;32m<ipython-input-98-dab861df0a85>\u001b[0m in \u001b[0;36m<module>\u001b[0;34m()\u001b[0m\n\u001b[1;32m      1\u001b[0m \u001b[0mplt\u001b[0m\u001b[0;34m.\u001b[0m\u001b[0mfigure\u001b[0m\u001b[0;34m(\u001b[0m\u001b[0mfigsize\u001b[0m\u001b[0;34m=\u001b[0m\u001b[0;34m(\u001b[0m\u001b[0;36m10\u001b[0m\u001b[0;34m,\u001b[0m\u001b[0;36m10\u001b[0m\u001b[0;34m)\u001b[0m\u001b[0;34m)\u001b[0m\u001b[0;34m\u001b[0m\u001b[0;34m\u001b[0m\u001b[0m\n\u001b[0;32m----> 2\u001b[0;31m \u001b[0mplt\u001b[0m\u001b[0;34m.\u001b[0m\u001b[0msubplot\u001b[0m\u001b[0;34m(\u001b[0m\u001b[0;36m121\u001b[0m\u001b[0;34m)\u001b[0m\u001b[0;34m.\u001b[0m\u001b[0mimshow\u001b[0m\u001b[0;34m(\u001b[0m\u001b[0mnp\u001b[0m\u001b[0;34m.\u001b[0m\u001b[0mtake\u001b[0m\u001b[0;34m(\u001b[0m\u001b[0mtrainx\u001b[0m\u001b[0;34m[\u001b[0m\u001b[0;36m0\u001b[0m\u001b[0;34m]\u001b[0m\u001b[0;34m,\u001b[0m \u001b[0;36m161\u001b[0m\u001b[0;34m,\u001b[0m \u001b[0;36m2\u001b[0m\u001b[0;34m)\u001b[0m\u001b[0;34m)\u001b[0m\u001b[0;34m\u001b[0m\u001b[0;34m\u001b[0m\u001b[0m\n\u001b[0m\u001b[1;32m      3\u001b[0m \u001b[0mplt\u001b[0m\u001b[0;34m.\u001b[0m\u001b[0msubplot\u001b[0m\u001b[0;34m(\u001b[0m\u001b[0;36m122\u001b[0m\u001b[0;34m)\u001b[0m\u001b[0;34m.\u001b[0m\u001b[0mimshow\u001b[0m\u001b[0;34m(\u001b[0m\u001b[0mnp\u001b[0m\u001b[0;34m.\u001b[0m\u001b[0mtake\u001b[0m\u001b[0;34m(\u001b[0m\u001b[0mtrainy\u001b[0m\u001b[0;34m[\u001b[0m\u001b[0;36m0\u001b[0m\u001b[0;34m]\u001b[0m\u001b[0;34m,\u001b[0m\u001b[0;36m161\u001b[0m\u001b[0;34m,\u001b[0m\u001b[0;36m2\u001b[0m\u001b[0;34m)\u001b[0m\u001b[0;34m)\u001b[0m\u001b[0;34m\u001b[0m\u001b[0;34m\u001b[0m\u001b[0m\n",
            "\u001b[0;32m<__array_function__ internals>\u001b[0m in \u001b[0;36mtake\u001b[0;34m(*args, **kwargs)\u001b[0m\n",
            "\u001b[0;32m/usr/local/lib/python3.6/dist-packages/numpy/core/fromnumeric.py\u001b[0m in \u001b[0;36mtake\u001b[0;34m(a, indices, axis, out, mode)\u001b[0m\n\u001b[1;32m    192\u001b[0m            [5, 7]])\n\u001b[1;32m    193\u001b[0m     \"\"\"\n\u001b[0;32m--> 194\u001b[0;31m     \u001b[0;32mreturn\u001b[0m \u001b[0m_wrapfunc\u001b[0m\u001b[0;34m(\u001b[0m\u001b[0ma\u001b[0m\u001b[0;34m,\u001b[0m \u001b[0;34m'take'\u001b[0m\u001b[0;34m,\u001b[0m \u001b[0mindices\u001b[0m\u001b[0;34m,\u001b[0m \u001b[0maxis\u001b[0m\u001b[0;34m=\u001b[0m\u001b[0maxis\u001b[0m\u001b[0;34m,\u001b[0m \u001b[0mout\u001b[0m\u001b[0;34m=\u001b[0m\u001b[0mout\u001b[0m\u001b[0;34m,\u001b[0m \u001b[0mmode\u001b[0m\u001b[0;34m=\u001b[0m\u001b[0mmode\u001b[0m\u001b[0;34m)\u001b[0m\u001b[0;34m\u001b[0m\u001b[0;34m\u001b[0m\u001b[0m\n\u001b[0m\u001b[1;32m    195\u001b[0m \u001b[0;34m\u001b[0m\u001b[0m\n\u001b[1;32m    196\u001b[0m \u001b[0;34m\u001b[0m\u001b[0m\n",
            "\u001b[0;32m/usr/local/lib/python3.6/dist-packages/numpy/core/fromnumeric.py\u001b[0m in \u001b[0;36m_wrapfunc\u001b[0;34m(obj, method, *args, **kwds)\u001b[0m\n\u001b[1;32m     59\u001b[0m \u001b[0;34m\u001b[0m\u001b[0m\n\u001b[1;32m     60\u001b[0m     \u001b[0;32mtry\u001b[0m\u001b[0;34m:\u001b[0m\u001b[0;34m\u001b[0m\u001b[0;34m\u001b[0m\u001b[0m\n\u001b[0;32m---> 61\u001b[0;31m         \u001b[0;32mreturn\u001b[0m \u001b[0mbound\u001b[0m\u001b[0;34m(\u001b[0m\u001b[0;34m*\u001b[0m\u001b[0margs\u001b[0m\u001b[0;34m,\u001b[0m \u001b[0;34m**\u001b[0m\u001b[0mkwds\u001b[0m\u001b[0;34m)\u001b[0m\u001b[0;34m\u001b[0m\u001b[0;34m\u001b[0m\u001b[0m\n\u001b[0m\u001b[1;32m     62\u001b[0m     \u001b[0;32mexcept\u001b[0m \u001b[0mTypeError\u001b[0m\u001b[0;34m:\u001b[0m\u001b[0;34m\u001b[0m\u001b[0;34m\u001b[0m\u001b[0m\n\u001b[1;32m     63\u001b[0m         \u001b[0;31m# A TypeError occurs if the object does have such a method in its\u001b[0m\u001b[0;34m\u001b[0m\u001b[0;34m\u001b[0m\u001b[0;34m\u001b[0m\u001b[0m\n",
            "\u001b[0;31mAxisError\u001b[0m: axis 2 is out of bounds for array of dimension 2"
          ]
        },
        {
          "output_type": "display_data",
          "data": {
            "image/png": "[encoded data removed]",
            "text/plain": [
              "<Figure size 720x720 with 1 Axes>"
            ]
          },
          "metadata": {
            "tags": [],
            "needs_background": "light"
          }
        }
      ]
    },
    {
      "cell_type": "code",
      "metadata": {
        "id": "_A855nllkUp5",
        "colab_type": "code",
        "colab": {}
      },
      "source": [
        "plt.figure(figsize=(10,10))\n",
        "plt.subplot(121).imshow(trainx[39])\n",
        "plt.subplot(122).imshow(trainy[39])"
      ],
      "execution_count": null,
      "outputs": []
    },
    {
      "cell_type": "markdown",
      "metadata": {
        "colab_type": "text",
        "deletable": true,
        "editable": true,
        "id": "-_Nkl_O1pbTI"
      },
      "source": [
        "### Data Pre-Processing"
      ]
    },
    {
      "cell_type": "markdown",
      "metadata": {
        "colab_type": "text",
        "deletable": true,
        "editable": true,
        "id": "1V1LJd2Xpk8k"
      },
      "source": [
        "#### 1. Reshape"
      ]
    },
    {
      "cell_type": "code",
      "metadata": {
        "colab_type": "code",
        "deletable": true,
        "editable": true,
        "id": "-1DiOV0akHwB",
        "colab": {}
      },
      "source": [
        "trainx = np.reshape(trainx,(-1,144,192,1))\n",
        "trainy = np.reshape(trainy,(-1,144,192,1))\n",
        "\n",
        "validx = np.reshape(validx,(-1,144,192,1))\n",
        "validy = np.reshape(validy,(-1,144,192,1))\n",
        "\n",
        "testx = np.reshape(testx,(-1,144,192,1))\n",
        "testy = np.reshape(testy,(-1,144,192,1))"
      ],
      "execution_count": 99,
      "outputs": []
    },
    {
      "cell_type": "code",
      "metadata": {
        "colab_type": "code",
        "deletable": true,
        "editable": true,
        "id": "NWjV0OtBkHzI",
        "colab": {
          "base_uri": "https://localhost:8080/",
          "height": 121
        },
        "outputId": "3a46e34f-32cf-466f-fca5-1a4b560e4db4"
      },
      "source": [
        "print(trainx.shape)\n",
        "print(trainy.shape)\n",
        "\n",
        "print(validx.shape)\n",
        "print(validy.shape)\n",
        "\n",
        "print(testx.shape)\n",
        "print(testy.shape)"
      ],
      "execution_count": 100,
      "outputs": [
        {
          "output_type": "stream",
          "text": [
            "(532, 144, 192, 1)\n",
            "(532, 144, 192, 1)\n",
            "(532, 144, 192, 1)\n",
            "(532, 144, 192, 1)\n",
            "(532, 144, 192, 1)\n",
            "(532, 144, 192, 1)\n"
          ],
          "name": "stdout"
        }
      ]
    },
    {
      "cell_type": "code",
      "metadata": {
        "id": "5uP31dq3zGjZ",
        "colab_type": "code",
        "colab": {
          "base_uri": "https://localhost:8080/",
          "height": 258
        },
        "outputId": "44bc6ab9-3d32-42a4-c249-85f3adaeb929"
      },
      "source": [
        "plt.figure(figsize=(10,10))\n",
        "plt.subplot(121).imshow(np.take(trainx[500], 0, 2))\n",
        "plt.subplot(122).imshow(np.take(trainy[500],0,2))"
      ],
      "execution_count": 101,
      "outputs": [
        {
          "output_type": "execute_result",
          "data": {
            "text/plain": [
              "<matplotlib.image.AxesImage at 0x7f3fca0e85f8>"
            ]
          },
          "metadata": {
            "tags": []
          },
          "execution_count": 101
        },
        {
          "output_type": "display_data",
          "data": {
            "image/png": "[encoded data removed]",
            "text/plain": [
              "<Figure size 720x720 with 2 Axes>"
            ]
          },
          "metadata": {
            "tags": [],
            "needs_background": "light"
          }
        }
      ]
    },
    {
      "cell_type": "markdown",
      "metadata": {
        "colab_type": "text",
        "deletable": true,
        "editable": true,
        "id": "N9EgDvNRpy_5"
      },
      "source": [
        "#### 2. Normalization"
      ]
    },
    {
      "cell_type": "code",
      "metadata": {
        "colab_type": "code",
        "deletable": true,
        "editable": true,
        "id": "yaz_bIMOkH2N",
        "colab": {
          "base_uri": "https://localhost:8080/",
          "height": 52
        },
        "outputId": "728034d6-77ae-4841-afd6-feea74b55061"
      },
      "source": [
        "mean = np.mean(trainx)\n",
        "std  = np.std(trainx)\n",
        "\n",
        "print(mean)\n",
        "print(std)\n",
        "\n",
        "trainx = trainx-mean\n",
        "trainx = trainx/std\n",
        "\n",
        "testx = testx-mean\n",
        "testx = testx/std\n",
        "\n",
        "validx = validx-mean\n",
        "validx = validx/std"
      ],
      "execution_count": 102,
      "outputs": [
        {
          "output_type": "stream",
          "text": [
            "107.04886592566486\n",
            "163.01425871352882\n"
          ],
          "name": "stdout"
        }
      ]
    },
    {
      "cell_type": "markdown",
      "metadata": {
        "colab_type": "text",
        "deletable": true,
        "editable": true,
        "id": "Jve_L1xGp4bk"
      },
      "source": [
        "### Model"
      ]
    },
    {
      "cell_type": "code",
      "metadata": {
        "colab_type": "code",
        "deletable": true,
        "editable": true,
        "id": "8d7T_CQPkH8P",
        "colab": {
          "base_uri": "https://localhost:8080/",
          "height": 847
        },
        "outputId": "b5ac74ca-d44e-4da0-ccdc-04c5789264b7"
      },
      "source": [
        "def unet_depth2(input_height=192, input_width=256):\n",
        "\n",
        "    img_input = Input(shape=(input_height,input_width,1))\n",
        "\n",
        "    conv1 = Conv2D(32, (3, 3), activation='relu', padding='same')(img_input)\n",
        "    conv1 = Conv2D(32, (3, 3), activation='relu', padding='same')(conv1)\n",
        "    pool1 = MaxPooling2D((2, 2))(conv1)\n",
        "    \n",
        "    conv2 = Conv2D(64, (3, 3), activation='relu', padding='same')(pool1)\n",
        "    conv2 = Conv2D(64, (3, 3), activation='relu', padding='same')(conv2)\n",
        "    pool2 = MaxPooling2D((2, 2))(conv2)\n",
        "\n",
        "    conv3 = Conv2D(128, (3, 3), activation='relu', padding='same')(pool2)\n",
        "    conv3 = Conv2D(128, (3, 3), activation='relu', padding='same')(conv3)\n",
        "    up1 = UpSampling2D((2, 2))(conv3)\n",
        "    \n",
        "    skip1  = concatenate([up1,conv2])\n",
        "    \n",
        "    conv4 = Conv2D(64, (3, 3), activation='relu', padding='same')(skip1)\n",
        "    conv4 = Conv2D(64, (3, 3), activation='relu', padding='same')(conv4)\n",
        "    up2 = UpSampling2D((2, 2))(conv4)\n",
        "    \n",
        "    skip2  = concatenate([up2,conv1])\n",
        "    \n",
        "    conv5 = Conv2D(32, (3, 3), activation='relu', padding='same')(skip2)\n",
        "    conv5 = Conv2D(32, (3, 3), activation='relu', padding='same')(conv5)\n",
        "    \n",
        "    drop1 = Dropout(0.5)(conv5)\n",
        "   \n",
        "    o = Conv2D( 1, (1, 1),activation = 'sigmoid' ,padding='same')(drop1)\n",
        "    \n",
        "    model = Model(inputs=[img_input], outputs=[ o ])\n",
        "    \n",
        "    return model\n",
        "\n",
        "model=unet_depth2()\n",
        "model.summary()"
      ],
      "execution_count": 103,
      "outputs": [
        {
          "output_type": "stream",
          "text": [
            "Model: \"functional_1\"\n",
            "__________________________________________________________________________________________________\n",
            "Layer (type)                    Output Shape         Param #     Connected to                     \n",
            "==================================================================================================\n",
            "input_1 (InputLayer)            [(None, 192, 256, 1) 0                                            \n",
            "__________________________________________________________________________________________________\n",
            "conv2d (Conv2D)                 (None, 192, 256, 32) 320         input_1[0][0]                    \n",
            "__________________________________________________________________________________________________\n",
            "conv2d_1 (Conv2D)               (None, 192, 256, 32) 9248        conv2d[0][0]                     \n",
            "__________________________________________________________________________________________________\n",
            "max_pooling2d (MaxPooling2D)    (None, 96, 128, 32)  0           conv2d_1[0][0]                   \n",
            "__________________________________________________________________________________________________\n",
            "conv2d_2 (Conv2D)               (None, 96, 128, 64)  18496       max_pooling2d[0][0]              \n",
            "__________________________________________________________________________________________________\n",
            "conv2d_3 (Conv2D)               (None, 96, 128, 64)  36928       conv2d_2[0][0]                   \n",
            "__________________________________________________________________________________________________\n",
            "max_pooling2d_1 (MaxPooling2D)  (None, 48, 64, 64)   0           conv2d_3[0][0]                   \n",
            "__________________________________________________________________________________________________\n",
            "conv2d_4 (Conv2D)               (None, 48, 64, 128)  73856       max_pooling2d_1[0][0]            \n",
            "__________________________________________________________________________________________________\n",
            "conv2d_5 (Conv2D)               (None, 48, 64, 128)  147584      conv2d_4[0][0]                   \n",
            "__________________________________________________________________________________________________\n",
            "up_sampling2d (UpSampling2D)    (None, 96, 128, 128) 0           conv2d_5[0][0]                   \n",
            "__________________________________________________________________________________________________\n",
            "concatenate (Concatenate)       (None, 96, 128, 192) 0           up_sampling2d[0][0]              \n",
            "                                                                 conv2d_3[0][0]                   \n",
            "__________________________________________________________________________________________________\n",
            "conv2d_6 (Conv2D)               (None, 96, 128, 64)  110656      concatenate[0][0]                \n",
            "__________________________________________________________________________________________________\n",
            "conv2d_7 (Conv2D)               (None, 96, 128, 64)  36928       conv2d_6[0][0]                   \n",
            "__________________________________________________________________________________________________\n",
            "up_sampling2d_1 (UpSampling2D)  (None, 192, 256, 64) 0           conv2d_7[0][0]                   \n",
            "__________________________________________________________________________________________________\n",
            "concatenate_1 (Concatenate)     (None, 192, 256, 96) 0           up_sampling2d_1[0][0]            \n",
            "                                                                 conv2d_1[0][0]                   \n",
            "__________________________________________________________________________________________________\n",
            "conv2d_8 (Conv2D)               (None, 192, 256, 32) 27680       concatenate_1[0][0]              \n",
            "__________________________________________________________________________________________________\n",
            "conv2d_9 (Conv2D)               (None, 192, 256, 32) 9248        conv2d_8[0][0]                   \n",
            "__________________________________________________________________________________________________\n",
            "dropout (Dropout)               (None, 192, 256, 32) 0           conv2d_9[0][0]                   \n",
            "__________________________________________________________________________________________________\n",
            "conv2d_10 (Conv2D)              (None, 192, 256, 1)  33          dropout[0][0]                    \n",
            "==================================================================================================\n",
            "Total params: 470,977\n",
            "Trainable params: 470,977\n",
            "Non-trainable params: 0\n",
            "__________________________________________________________________________________________________\n"
          ],
          "name": "stdout"
        }
      ]
    },
    {
      "cell_type": "markdown",
      "metadata": {
        "colab_type": "text",
        "deletable": true,
        "editable": true,
        "id": "BMt9hKk9qADH"
      },
      "source": [
        "### Model Visualization"
      ]
    },
    {
      "cell_type": "code",
      "metadata": {
        "colab_type": "code",
        "deletable": true,
        "editable": true,
        "id": "p2IOsAXyhG80",
        "colab": {}
      },
      "source": [
        "from keras_preprocessing.image import ImageDataGenerator\n",
        "data_gen_args = ImageDataGenerator(featurewise_center=False,\n",
        "                                 featurewise_std_normalization=False, \n",
        "                                 samplewise_center=False,\n",
        "                                 samplewise_std_normalization=False,\n",
        "                                 horizontal_flip=True,\n",
        "                                 zoom_range=[0.8,0.9],\n",
        "                                 rotation_range=30) "
      ],
      "execution_count": 104,
      "outputs": []
    },
    {
      "cell_type": "code",
      "metadata": {
        "colab_type": "code",
        "deletable": true,
        "editable": true,
        "id": "y4OTFtBahZoB",
        "colab": {}
      },
      "source": [
        "image_datagen = ImageDataGenerator(data_gen_args)\n",
        "mask_datagen = ImageDataGenerator(data_gen_args)\n",
        "\n",
        "seed = 2018\n",
        "bs = 16"
      ],
      "execution_count": 105,
      "outputs": []
    },
    {
      "cell_type": "code",
      "metadata": {
        "colab_type": "code",
        "deletable": true,
        "editable": true,
        "id": "dskL-r2RhraW",
        "colab": {}
      },
      "source": [
        "image_generator = image_datagen.flow(trainx, seed=seed, batch_size=bs, shuffle=True)\n",
        "mask_generator = mask_datagen.flow(trainy, seed=seed, batch_size=bs, shuffle=True)\n",
        "\n",
        "# Just zip the two generators to get a generator that provides augmented images and masks at the same time\n",
        "train_generator = zip(image_generator, mask_generator)"
      ],
      "execution_count": 106,
      "outputs": []
    },
    {
      "cell_type": "markdown",
      "metadata": {
        "colab_type": "text",
        "deletable": true,
        "editable": true,
        "id": "CIjXR8ZgqFu7"
      },
      "source": [
        "### Fine-tuning Tricks (callbacks)"
      ]
    },
    {
      "cell_type": "code",
      "metadata": {
        "colab_type": "code",
        "deletable": true,
        "editable": true,
        "id": "t-FmwHnth2Tx",
        "colab": {}
      },
      "source": [
        "import math\n",
        "from keras.callbacks import EarlyStopping,ModelCheckpoint\n",
        "os.chdir('/content/drive/My Drive/results')\n",
        "es = EarlyStopping(monitor='val_loss', mode='min', verbose=1, patience=10)\n",
        "mc = ModelCheckpoint('unet_up2_Aug.h5', monitor='val_loss', mode='min', verbose=1, save_best_only=True)\n",
        "cv = keras.callbacks.CSVLogger('unet_up2_Aug.csv', separator=',', append=False)"
      ],
      "execution_count": 107,
      "outputs": []
    },
    {
      "cell_type": "markdown",
      "metadata": {
        "colab_type": "text",
        "deletable": true,
        "editable": true,
        "id": "SOtzUdZNscbg"
      },
      "source": [
        "### Metrics"
      ]
    },
    {
      "cell_type": "code",
      "metadata": {
        "colab_type": "code",
        "deletable": true,
        "editable": true,
        "id": "Qn9Hit4Uh4yh",
        "colab": {}
      },
      "source": [
        "from keras import backend as K\n",
        "smooth=1\n",
        "\n",
        "def dice_coef(y_true, y_pred):\n",
        "    y_true_f = K.flatten(y_true)\n",
        "    y_pred_f = K.flatten(y_pred)\n",
        "    intersection = K.sum(y_true_f * y_pred_f)\n",
        "    return (2. * intersection + smooth) / (K.sum(y_true_f) + K.sum(y_pred_f) + smooth)\n",
        "\n",
        "\n",
        "def dice_coef_loss(y_true, y_pred):\n",
        "    return -dice_coef(y_true, y_pred)"
      ],
      "execution_count": 108,
      "outputs": []
    },
    {
      "cell_type": "markdown",
      "metadata": {
        "colab_type": "text",
        "deletable": true,
        "editable": true,
        "id": "a-AD-2VwqRfg"
      },
      "source": [
        "### Optimizer"
      ]
    },
    {
      "cell_type": "code",
      "metadata": {
        "colab_type": "code",
        "deletable": true,
        "editable": true,
        "id": "goq8YrrFk5dA",
        "colab": {}
      },
      "source": [
        "optimizer=keras.optimizers.Adam(lr=0.001, beta_1=0.9, beta_2=0.999, epsilon=None, decay=0.0, amsgrad=True)"
      ],
      "execution_count": 109,
      "outputs": []
    },
    {
      "cell_type": "markdown",
      "metadata": {
        "colab_type": "text",
        "deletable": true,
        "editable": true,
        "id": "2BNR0e0SqYwm"
      },
      "source": [
        "### Compile and Train the Model"
      ]
    },
    {
      "cell_type": "code",
      "metadata": {
        "colab_type": "code",
        "deletable": true,
        "editable": true,
        "id": "wpsE1JwSmE1G",
        "colab": {}
      },
      "source": [
        "from keras import backend as K\n",
        "model.compile(loss=dice_coef_loss, optimizer=\"sgd\", metrics=[dice_coef,'accuracy'])"
      ],
      "execution_count": 110,
      "outputs": []
    },
    {
      "cell_type": "code",
      "metadata": {
        "colab_type": "code",
        "deletable": true,
        "editable": true,
        "id": "MJz83Z3Yu3ea",
        "colab": {
          "base_uri": "https://localhost:8080/",
          "height": 1000
        },
        "outputId": "6a032b2f-ba38-4662-9640-cdcb428c0960"
      },
      "source": [
        "history = model.fit(trainx,trainy, steps_per_epoch=(len(trainx) // bs),callbacks=[es,mc,cv], epochs=200,\n",
        "                              validation_data=(validx, validy))"
      ],
      "execution_count": 113,
      "outputs": [
        {
          "output_type": "stream",
          "text": [
            "Epoch 1/200\n",
            "WARNING:tensorflow:Model was constructed with shape (None, 192, 256, 1) for input Tensor(\"input_1:0\", shape=(None, 192, 256, 1), dtype=float32), but it was called on an input with incompatible shape (None, 144, 192, 1).\n",
            " 2/33 [>.............................] - ETA: 3s - loss: -0.0065 - dice_coef: 0.0065 - accuracy: 0.1075WARNING:tensorflow:Callbacks method `on_train_batch_end` is slow compared to the batch time (batch time: 0.0801s vs `on_train_batch_end` time: 0.1356s). Check your callbacks.\n",
            "33/33 [==============================] - ETA: 0s - loss: -0.0061 - dice_coef: 0.0061 - accuracy: 0.1118WARNING:tensorflow:Model was constructed with shape (None, 192, 256, 1) for input Tensor(\"input_1:0\", shape=(None, 192, 256, 1), dtype=float32), but it was called on an input with incompatible shape (None, 144, 192, 1).\n",
            "\n",
            "Epoch 00001: val_loss improved from inf to -0.00616, saving model to unet_up2_Aug.h5\n",
            "33/33 [==============================] - 12s 369ms/step - loss: -0.0061 - dice_coef: 0.0061 - accuracy: 0.1118 - val_loss: -0.0062 - val_dice_coef: 0.0061 - val_accuracy: 0.0053\n",
            "Epoch 2/200\n",
            "33/33 [==============================] - ETA: 0s - loss: -0.0062 - dice_coef: 0.0062 - accuracy: 0.1152\n",
            "Epoch 00002: val_loss improved from -0.00616 to -0.00618, saving model to unet_up2_Aug.h5\n",
            "33/33 [==============================] - 9s 273ms/step - loss: -0.0062 - dice_coef: 0.0062 - accuracy: 0.1152 - val_loss: -0.0062 - val_dice_coef: 0.0061 - val_accuracy: 0.0053\n",
            "Epoch 3/200\n",
            "33/33 [==============================] - ETA: 0s - loss: -0.0061 - dice_coef: 0.0061 - accuracy: 0.1200\n",
            "Epoch 00003: val_loss improved from -0.00618 to -0.00619, saving model to unet_up2_Aug.h5\n",
            "33/33 [==============================] - 9s 275ms/step - loss: -0.0061 - dice_coef: 0.0061 - accuracy: 0.1200 - val_loss: -0.0062 - val_dice_coef: 0.0061 - val_accuracy: 0.0053\n",
            "Epoch 4/200\n",
            "33/33 [==============================] - ETA: 0s - loss: -0.0062 - dice_coef: 0.0063 - accuracy: 0.1237\n",
            "Epoch 00004: val_loss improved from -0.00619 to -0.00621, saving model to unet_up2_Aug.h5\n",
            "33/33 [==============================] - 9s 272ms/step - loss: -0.0062 - dice_coef: 0.0063 - accuracy: 0.1237 - val_loss: -0.0062 - val_dice_coef: 0.0062 - val_accuracy: 0.0054\n",
            "Epoch 5/200\n",
            "33/33 [==============================] - ETA: 0s - loss: -0.0063 - dice_coef: 0.0063 - accuracy: 0.1276\n",
            "Epoch 00005: val_loss improved from -0.00621 to -0.00622, saving model to unet_up2_Aug.h5\n",
            "33/33 [==============================] - 9s 273ms/step - loss: -0.0063 - dice_coef: 0.0063 - accuracy: 0.1276 - val_loss: -0.0062 - val_dice_coef: 0.0062 - val_accuracy: 0.0054\n",
            "Epoch 6/200\n",
            "33/33 [==============================] - ETA: 0s - loss: -0.0062 - dice_coef: 0.0062 - accuracy: 0.1327\n",
            "Epoch 00006: val_loss improved from -0.00622 to -0.00624, saving model to unet_up2_Aug.h5\n",
            "33/33 [==============================] - 9s 271ms/step - loss: -0.0062 - dice_coef: 0.0062 - accuracy: 0.1327 - val_loss: -0.0062 - val_dice_coef: 0.0062 - val_accuracy: 0.0054\n",
            "Epoch 7/200\n",
            "33/33 [==============================] - ETA: 0s - loss: -0.0062 - dice_coef: 0.0062 - accuracy: 0.1368\n",
            "Epoch 00007: val_loss improved from -0.00624 to -0.00625, saving model to unet_up2_Aug.h5\n",
            "33/33 [==============================] - 9s 273ms/step - loss: -0.0062 - dice_coef: 0.0062 - accuracy: 0.1368 - val_loss: -0.0063 - val_dice_coef: 0.0062 - val_accuracy: 0.0055\n",
            "Epoch 8/200\n",
            "33/33 [==============================] - ETA: 0s - loss: -0.0063 - dice_coef: 0.0063 - accuracy: 0.1422\n",
            "Epoch 00008: val_loss improved from -0.00625 to -0.00627, saving model to unet_up2_Aug.h5\n",
            "33/33 [==============================] - 9s 273ms/step - loss: -0.0063 - dice_coef: 0.0063 - accuracy: 0.1422 - val_loss: -0.0063 - val_dice_coef: 0.0062 - val_accuracy: 0.0057\n",
            "Epoch 9/200\n",
            "33/33 [==============================] - ETA: 0s - loss: -0.0062 - dice_coef: 0.0063 - accuracy: 0.1477\n",
            "Epoch 00009: val_loss improved from -0.00627 to -0.00629, saving model to unet_up2_Aug.h5\n",
            "33/33 [==============================] - 9s 275ms/step - loss: -0.0062 - dice_coef: 0.0063 - accuracy: 0.1477 - val_loss: -0.0063 - val_dice_coef: 0.0062 - val_accuracy: 0.0064\n",
            "Epoch 10/200\n",
            "33/33 [==============================] - ETA: 0s - loss: -0.0063 - dice_coef: 0.0063 - accuracy: 0.1529\n",
            "Epoch 00010: val_loss improved from -0.00629 to -0.00630, saving model to unet_up2_Aug.h5\n",
            "33/33 [==============================] - 9s 262ms/step - loss: -0.0063 - dice_coef: 0.0063 - accuracy: 0.1529 - val_loss: -0.0063 - val_dice_coef: 0.0063 - val_accuracy: 0.0118\n",
            "Epoch 11/200\n",
            "33/33 [==============================] - ETA: 0s - loss: -0.0063 - dice_coef: 0.0063 - accuracy: 0.1586\n",
            "Epoch 00011: val_loss improved from -0.00630 to -0.00632, saving model to unet_up2_Aug.h5\n",
            "33/33 [==============================] - 9s 272ms/step - loss: -0.0063 - dice_coef: 0.0063 - accuracy: 0.1586 - val_loss: -0.0063 - val_dice_coef: 0.0063 - val_accuracy: 0.0120\n",
            "Epoch 12/200\n",
            "33/33 [==============================] - ETA: 0s - loss: -0.0063 - dice_coef: 0.0062 - accuracy: 0.1668\n",
            "Epoch 00012: val_loss improved from -0.00632 to -0.00633, saving model to unet_up2_Aug.h5\n",
            "33/33 [==============================] - 9s 273ms/step - loss: -0.0063 - dice_coef: 0.0062 - accuracy: 0.1668 - val_loss: -0.0063 - val_dice_coef: 0.0063 - val_accuracy: 0.0121\n",
            "Epoch 13/200\n",
            "33/33 [==============================] - ETA: 0s - loss: -0.0064 - dice_coef: 0.0064 - accuracy: 0.1727\n",
            "Epoch 00013: val_loss improved from -0.00633 to -0.00635, saving model to unet_up2_Aug.h5\n",
            "33/33 [==============================] - 9s 277ms/step - loss: -0.0064 - dice_coef: 0.0064 - accuracy: 0.1727 - val_loss: -0.0064 - val_dice_coef: 0.0063 - val_accuracy: 0.0121\n",
            "Epoch 14/200\n",
            "33/33 [==============================] - ETA: 0s - loss: -0.0063 - dice_coef: 0.0063 - accuracy: 0.1818\n",
            "Epoch 00014: val_loss improved from -0.00635 to -0.00637, saving model to unet_up2_Aug.h5\n",
            "33/33 [==============================] - 9s 275ms/step - loss: -0.0063 - dice_coef: 0.0063 - accuracy: 0.1818 - val_loss: -0.0064 - val_dice_coef: 0.0063 - val_accuracy: 0.0122\n",
            "Epoch 15/200\n",
            "33/33 [==============================] - ETA: 0s - loss: -0.0064 - dice_coef: 0.0064 - accuracy: 0.1882\n",
            "Epoch 00015: val_loss improved from -0.00637 to -0.00639, saving model to unet_up2_Aug.h5\n",
            "33/33 [==============================] - 9s 275ms/step - loss: -0.0064 - dice_coef: 0.0064 - accuracy: 0.1882 - val_loss: -0.0064 - val_dice_coef: 0.0063 - val_accuracy: 0.0123\n",
            "Epoch 16/200\n",
            "33/33 [==============================] - ETA: 0s - loss: -0.0064 - dice_coef: 0.0064 - accuracy: 0.1940\n",
            "Epoch 00016: val_loss improved from -0.00639 to -0.00640, saving model to unet_up2_Aug.h5\n",
            "33/33 [==============================] - 9s 276ms/step - loss: -0.0064 - dice_coef: 0.0064 - accuracy: 0.1940 - val_loss: -0.0064 - val_dice_coef: 0.0064 - val_accuracy: 0.0126\n",
            "Epoch 17/200\n",
            "33/33 [==============================] - ETA: 0s - loss: -0.0064 - dice_coef: 0.0063 - accuracy: 0.2017\n",
            "Epoch 00017: val_loss improved from -0.00640 to -0.00642, saving model to unet_up2_Aug.h5\n",
            "33/33 [==============================] - 9s 276ms/step - loss: -0.0064 - dice_coef: 0.0063 - accuracy: 0.2017 - val_loss: -0.0064 - val_dice_coef: 0.0064 - val_accuracy: 0.0187\n",
            "Epoch 18/200\n",
            "33/33 [==============================] - ETA: 0s - loss: -0.0063 - dice_coef: 0.0064 - accuracy: 0.2095\n",
            "Epoch 00018: val_loss improved from -0.00642 to -0.00644, saving model to unet_up2_Aug.h5\n",
            "33/33 [==============================] - 9s 276ms/step - loss: -0.0063 - dice_coef: 0.0064 - accuracy: 0.2095 - val_loss: -0.0064 - val_dice_coef: 0.0064 - val_accuracy: 0.0192\n",
            "Epoch 19/200\n",
            "33/33 [==============================] - ETA: 0s - loss: -0.0065 - dice_coef: 0.0065 - accuracy: 0.2144\n",
            "Epoch 00019: val_loss improved from -0.00644 to -0.00646, saving model to unet_up2_Aug.h5\n",
            "33/33 [==============================] - 9s 273ms/step - loss: -0.0065 - dice_coef: 0.0065 - accuracy: 0.2144 - val_loss: -0.0065 - val_dice_coef: 0.0064 - val_accuracy: 0.0194\n",
            "Epoch 20/200\n",
            "33/33 [==============================] - ETA: 0s - loss: -0.0065 - dice_coef: 0.0065 - accuracy: 0.2225\n",
            "Epoch 00020: val_loss improved from -0.00646 to -0.00647, saving model to unet_up2_Aug.h5\n",
            "33/33 [==============================] - 9s 272ms/step - loss: -0.0065 - dice_coef: 0.0065 - accuracy: 0.2225 - val_loss: -0.0065 - val_dice_coef: 0.0064 - val_accuracy: 0.0240\n",
            "Epoch 21/200\n",
            "33/33 [==============================] - ETA: 0s - loss: -0.0065 - dice_coef: 0.0065 - accuracy: 0.2313\n",
            "Epoch 00021: val_loss improved from -0.00647 to -0.00649, saving model to unet_up2_Aug.h5\n",
            "33/33 [==============================] - 9s 271ms/step - loss: -0.0065 - dice_coef: 0.0065 - accuracy: 0.2313 - val_loss: -0.0065 - val_dice_coef: 0.0064 - val_accuracy: 0.0243\n",
            "Epoch 22/200\n",
            "33/33 [==============================] - ETA: 0s - loss: -0.0064 - dice_coef: 0.0064 - accuracy: 0.2396\n",
            "Epoch 00022: val_loss improved from -0.00649 to -0.00651, saving model to unet_up2_Aug.h5\n",
            "33/33 [==============================] - 9s 273ms/step - loss: -0.0064 - dice_coef: 0.0064 - accuracy: 0.2396 - val_loss: -0.0065 - val_dice_coef: 0.0065 - val_accuracy: 0.0245\n",
            "Epoch 23/200\n",
            "33/33 [==============================] - ETA: 0s - loss: -0.0066 - dice_coef: 0.0066 - accuracy: 0.2461\n",
            "Epoch 00023: val_loss improved from -0.00651 to -0.00653, saving model to unet_up2_Aug.h5\n",
            "33/33 [==============================] - 9s 262ms/step - loss: -0.0066 - dice_coef: 0.0066 - accuracy: 0.2461 - val_loss: -0.0065 - val_dice_coef: 0.0065 - val_accuracy: 0.0247\n",
            "Epoch 24/200\n",
            "33/33 [==============================] - ETA: 0s - loss: -0.0065 - dice_coef: 0.0065 - accuracy: 0.2554\n",
            "Epoch 00024: val_loss improved from -0.00653 to -0.00655, saving model to unet_up2_Aug.h5\n",
            "33/33 [==============================] - 9s 274ms/step - loss: -0.0065 - dice_coef: 0.0065 - accuracy: 0.2554 - val_loss: -0.0066 - val_dice_coef: 0.0065 - val_accuracy: 0.0254\n",
            "Epoch 25/200\n",
            "33/33 [==============================] - ETA: 0s - loss: -0.0065 - dice_coef: 0.0065 - accuracy: 0.2649\n",
            "Epoch 00025: val_loss improved from -0.00655 to -0.00657, saving model to unet_up2_Aug.h5\n",
            "33/33 [==============================] - 9s 271ms/step - loss: -0.0065 - dice_coef: 0.0065 - accuracy: 0.2649 - val_loss: -0.0066 - val_dice_coef: 0.0065 - val_accuracy: 0.0312\n",
            "Epoch 26/200\n",
            "33/33 [==============================] - ETA: 0s - loss: -0.0066 - dice_coef: 0.0066 - accuracy: 0.2718\n",
            "Epoch 00026: val_loss improved from -0.00657 to -0.00659, saving model to unet_up2_Aug.h5\n",
            "33/33 [==============================] - 9s 273ms/step - loss: -0.0066 - dice_coef: 0.0066 - accuracy: 0.2718 - val_loss: -0.0066 - val_dice_coef: 0.0065 - val_accuracy: 0.0334\n",
            "Epoch 27/200\n",
            "33/33 [==============================] - ETA: 0s - loss: -0.0066 - dice_coef: 0.0066 - accuracy: 0.2809\n",
            "Epoch 00027: val_loss improved from -0.00659 to -0.00661, saving model to unet_up2_Aug.h5\n",
            "33/33 [==============================] - 9s 272ms/step - loss: -0.0066 - dice_coef: 0.0066 - accuracy: 0.2809 - val_loss: -0.0066 - val_dice_coef: 0.0066 - val_accuracy: 0.0377\n",
            "Epoch 28/200\n",
            "33/33 [==============================] - ETA: 0s - loss: -0.0066 - dice_coef: 0.0066 - accuracy: 0.2899\n",
            "Epoch 00028: val_loss improved from -0.00661 to -0.00664, saving model to unet_up2_Aug.h5\n",
            "33/33 [==============================] - 9s 272ms/step - loss: -0.0066 - dice_coef: 0.0066 - accuracy: 0.2899 - val_loss: -0.0066 - val_dice_coef: 0.0066 - val_accuracy: 0.0474\n",
            "Epoch 29/200\n",
            "33/33 [==============================] - ETA: 0s - loss: -0.0066 - dice_coef: 0.0066 - accuracy: 0.2984\n",
            "Epoch 00029: val_loss improved from -0.00664 to -0.00666, saving model to unet_up2_Aug.h5\n",
            "33/33 [==============================] - 9s 272ms/step - loss: -0.0066 - dice_coef: 0.0066 - accuracy: 0.2984 - val_loss: -0.0067 - val_dice_coef: 0.0066 - val_accuracy: 0.0749\n",
            "Epoch 30/200\n",
            "33/33 [==============================] - ETA: 0s - loss: -0.0067 - dice_coef: 0.0067 - accuracy: 0.3064\n",
            "Epoch 00030: val_loss improved from -0.00666 to -0.00668, saving model to unet_up2_Aug.h5\n",
            "33/33 [==============================] - 9s 272ms/step - loss: -0.0067 - dice_coef: 0.0067 - accuracy: 0.3064 - val_loss: -0.0067 - val_dice_coef: 0.0066 - val_accuracy: 0.1182\n",
            "Epoch 31/200\n",
            "33/33 [==============================] - ETA: 0s - loss: -0.0067 - dice_coef: 0.0067 - accuracy: 0.3155\n",
            "Epoch 00031: val_loss improved from -0.00668 to -0.00670, saving model to unet_up2_Aug.h5\n",
            "33/33 [==============================] - 9s 272ms/step - loss: -0.0067 - dice_coef: 0.0067 - accuracy: 0.3155 - val_loss: -0.0067 - val_dice_coef: 0.0067 - val_accuracy: 0.4317\n",
            "Epoch 32/200\n",
            "33/33 [==============================] - ETA: 0s - loss: -0.0067 - dice_coef: 0.0067 - accuracy: 0.3241\n",
            "Epoch 00032: val_loss improved from -0.00670 to -0.00672, saving model to unet_up2_Aug.h5\n",
            "33/33 [==============================] - 9s 271ms/step - loss: -0.0067 - dice_coef: 0.0067 - accuracy: 0.3241 - val_loss: -0.0067 - val_dice_coef: 0.0067 - val_accuracy: 0.5286\n",
            "Epoch 33/200\n",
            "33/33 [==============================] - ETA: 0s - loss: -0.0067 - dice_coef: 0.0067 - accuracy: 0.3324\n",
            "Epoch 00033: val_loss improved from -0.00672 to -0.00674, saving model to unet_up2_Aug.h5\n",
            "33/33 [==============================] - 9s 261ms/step - loss: -0.0067 - dice_coef: 0.0067 - accuracy: 0.3324 - val_loss: -0.0067 - val_dice_coef: 0.0067 - val_accuracy: 0.5546\n",
            "Epoch 34/200\n",
            "33/33 [==============================] - ETA: 0s - loss: -0.0068 - dice_coef: 0.0068 - accuracy: 0.3403\n",
            "Epoch 00034: val_loss improved from -0.00674 to -0.00676, saving model to unet_up2_Aug.h5\n",
            "33/33 [==============================] - 9s 274ms/step - loss: -0.0068 - dice_coef: 0.0068 - accuracy: 0.3403 - val_loss: -0.0068 - val_dice_coef: 0.0067 - val_accuracy: 0.5663\n",
            "Epoch 35/200\n",
            "33/33 [==============================] - ETA: 0s - loss: -0.0067 - dice_coef: 0.0067 - accuracy: 0.3504\n",
            "Epoch 00035: val_loss improved from -0.00676 to -0.00678, saving model to unet_up2_Aug.h5\n",
            "33/33 [==============================] - 9s 273ms/step - loss: -0.0067 - dice_coef: 0.0067 - accuracy: 0.3504 - val_loss: -0.0068 - val_dice_coef: 0.0067 - val_accuracy: 0.5765\n",
            "Epoch 36/200\n",
            "33/33 [==============================] - ETA: 0s - loss: -0.0068 - dice_coef: 0.0068 - accuracy: 0.3569\n",
            "Epoch 00036: val_loss improved from -0.00678 to -0.00681, saving model to unet_up2_Aug.h5\n",
            "33/33 [==============================] - 9s 275ms/step - loss: -0.0068 - dice_coef: 0.0068 - accuracy: 0.3569 - val_loss: -0.0068 - val_dice_coef: 0.0068 - val_accuracy: 0.5842\n",
            "Epoch 37/200\n",
            "33/33 [==============================] - ETA: 0s - loss: -0.0068 - dice_coef: 0.0068 - accuracy: 0.3663\n",
            "Epoch 00037: val_loss improved from -0.00681 to -0.00683, saving model to unet_up2_Aug.h5\n",
            "33/33 [==============================] - 9s 280ms/step - loss: -0.0068 - dice_coef: 0.0068 - accuracy: 0.3663 - val_loss: -0.0068 - val_dice_coef: 0.0068 - val_accuracy: 0.5870\n",
            "Epoch 38/200\n",
            "33/33 [==============================] - ETA: 0s - loss: -0.0068 - dice_coef: 0.0068 - accuracy: 0.3740\n",
            "Epoch 00038: val_loss improved from -0.00683 to -0.00685, saving model to unet_up2_Aug.h5\n",
            "33/33 [==============================] - 9s 273ms/step - loss: -0.0068 - dice_coef: 0.0068 - accuracy: 0.3740 - val_loss: -0.0068 - val_dice_coef: 0.0068 - val_accuracy: 0.5938\n",
            "Epoch 39/200\n",
            "33/33 [==============================] - ETA: 0s - loss: -0.0069 - dice_coef: 0.0069 - accuracy: 0.3805\n",
            "Epoch 00039: val_loss improved from -0.00685 to -0.00687, saving model to unet_up2_Aug.h5\n",
            "33/33 [==============================] - 9s 272ms/step - loss: -0.0069 - dice_coef: 0.0069 - accuracy: 0.3805 - val_loss: -0.0069 - val_dice_coef: 0.0068 - val_accuracy: 0.5957\n",
            "Epoch 40/200\n",
            "33/33 [==============================] - ETA: 0s - loss: -0.0068 - dice_coef: 0.0068 - accuracy: 0.3895\n",
            "Epoch 00040: val_loss improved from -0.00687 to -0.00689, saving model to unet_up2_Aug.h5\n",
            "33/33 [==============================] - 9s 272ms/step - loss: -0.0068 - dice_coef: 0.0068 - accuracy: 0.3895 - val_loss: -0.0069 - val_dice_coef: 0.0068 - val_accuracy: 0.5972\n",
            "Epoch 41/200\n",
            "33/33 [==============================] - ETA: 0s - loss: -0.0070 - dice_coef: 0.0070 - accuracy: 0.3917\n",
            "Epoch 00041: val_loss improved from -0.00689 to -0.00691, saving model to unet_up2_Aug.h5\n",
            "33/33 [==============================] - 9s 273ms/step - loss: -0.0070 - dice_coef: 0.0070 - accuracy: 0.3917 - val_loss: -0.0069 - val_dice_coef: 0.0069 - val_accuracy: 0.5986\n",
            "Epoch 42/200\n",
            "33/33 [==============================] - ETA: 0s - loss: -0.0069 - dice_coef: 0.0069 - accuracy: 0.4012\n",
            "Epoch 00042: val_loss improved from -0.00691 to -0.00694, saving model to unet_up2_Aug.h5\n",
            "33/33 [==============================] - 9s 274ms/step - loss: -0.0069 - dice_coef: 0.0069 - accuracy: 0.4012 - val_loss: -0.0069 - val_dice_coef: 0.0069 - val_accuracy: 0.5998\n",
            "Epoch 43/200\n",
            "33/33 [==============================] - ETA: 0s - loss: -0.0069 - dice_coef: 0.0070 - accuracy: 0.4086\n",
            "Epoch 00043: val_loss improved from -0.00694 to -0.00696, saving model to unet_up2_Aug.h5\n",
            "33/33 [==============================] - 9s 274ms/step - loss: -0.0069 - dice_coef: 0.0070 - accuracy: 0.4086 - val_loss: -0.0070 - val_dice_coef: 0.0069 - val_accuracy: 0.6010\n",
            "Epoch 44/200\n",
            "33/33 [==============================] - ETA: 0s - loss: -0.0069 - dice_coef: 0.0069 - accuracy: 0.4174\n",
            "Epoch 00044: val_loss improved from -0.00696 to -0.00698, saving model to unet_up2_Aug.h5\n",
            "33/33 [==============================] - 9s 272ms/step - loss: -0.0069 - dice_coef: 0.0069 - accuracy: 0.4174 - val_loss: -0.0070 - val_dice_coef: 0.0069 - val_accuracy: 0.6020\n",
            "Epoch 45/200\n",
            "33/33 [==============================] - ETA: 0s - loss: -0.0070 - dice_coef: 0.0070 - accuracy: 0.4212\n",
            "Epoch 00045: val_loss improved from -0.00698 to -0.00700, saving model to unet_up2_Aug.h5\n",
            "33/33 [==============================] - 9s 272ms/step - loss: -0.0070 - dice_coef: 0.0070 - accuracy: 0.4212 - val_loss: -0.0070 - val_dice_coef: 0.0070 - val_accuracy: 0.6029\n",
            "Epoch 46/200\n",
            "33/33 [==============================] - ETA: 0s - loss: -0.0070 - dice_coef: 0.0070 - accuracy: 0.4277\n",
            "Epoch 00046: val_loss improved from -0.00700 to -0.00703, saving model to unet_up2_Aug.h5\n",
            "33/33 [==============================] - 9s 263ms/step - loss: -0.0070 - dice_coef: 0.0070 - accuracy: 0.4277 - val_loss: -0.0070 - val_dice_coef: 0.0070 - val_accuracy: 0.6038\n",
            "Epoch 47/200\n",
            "33/33 [==============================] - ETA: 0s - loss: -0.0070 - dice_coef: 0.0070 - accuracy: 0.4340\n",
            "Epoch 00047: val_loss improved from -0.00703 to -0.00705, saving model to unet_up2_Aug.h5\n",
            "33/33 [==============================] - 9s 274ms/step - loss: -0.0070 - dice_coef: 0.0070 - accuracy: 0.4340 - val_loss: -0.0070 - val_dice_coef: 0.0070 - val_accuracy: 0.6046\n",
            "Epoch 48/200\n",
            "33/33 [==============================] - ETA: 0s - loss: -0.0070 - dice_coef: 0.0070 - accuracy: 0.4410\n",
            "Epoch 00048: val_loss improved from -0.00705 to -0.00707, saving model to unet_up2_Aug.h5\n",
            "33/33 [==============================] - 9s 271ms/step - loss: -0.0070 - dice_coef: 0.0070 - accuracy: 0.4410 - val_loss: -0.0071 - val_dice_coef: 0.0070 - val_accuracy: 0.6054\n",
            "Epoch 49/200\n",
            "33/33 [==============================] - ETA: 0s - loss: -0.0071 - dice_coef: 0.0070 - accuracy: 0.4475\n",
            "Epoch 00049: val_loss improved from -0.00707 to -0.00710, saving model to unet_up2_Aug.h5\n",
            "33/33 [==============================] - 9s 271ms/step - loss: -0.0071 - dice_coef: 0.0070 - accuracy: 0.4475 - val_loss: -0.0071 - val_dice_coef: 0.0070 - val_accuracy: 0.6061\n",
            "Epoch 50/200\n",
            "33/33 [==============================] - ETA: 0s - loss: -0.0072 - dice_coef: 0.0072 - accuracy: 0.4488\n",
            "Epoch 00050: val_loss improved from -0.00710 to -0.00712, saving model to unet_up2_Aug.h5\n",
            "33/33 [==============================] - 9s 272ms/step - loss: -0.0072 - dice_coef: 0.0072 - accuracy: 0.4488 - val_loss: -0.0071 - val_dice_coef: 0.0071 - val_accuracy: 0.6067\n",
            "Epoch 51/200\n",
            "33/33 [==============================] - ETA: 0s - loss: -0.0071 - dice_coef: 0.0071 - accuracy: 0.4610\n",
            "Epoch 00051: val_loss improved from -0.00712 to -0.00714, saving model to unet_up2_Aug.h5\n",
            "33/33 [==============================] - 9s 272ms/step - loss: -0.0071 - dice_coef: 0.0071 - accuracy: 0.4610 - val_loss: -0.0071 - val_dice_coef: 0.0071 - val_accuracy: 0.6074\n",
            "Epoch 52/200\n",
            "33/33 [==============================] - ETA: 0s - loss: -0.0070 - dice_coef: 0.0070 - accuracy: 0.4683\n",
            "Epoch 00052: val_loss improved from -0.00714 to -0.00717, saving model to unet_up2_Aug.h5\n",
            "33/33 [==============================] - 9s 273ms/step - loss: -0.0070 - dice_coef: 0.0070 - accuracy: 0.4683 - val_loss: -0.0072 - val_dice_coef: 0.0071 - val_accuracy: 0.6080\n",
            "Epoch 53/200\n",
            "33/33 [==============================] - ETA: 0s - loss: -0.0071 - dice_coef: 0.0071 - accuracy: 0.4717\n",
            "Epoch 00053: val_loss improved from -0.00717 to -0.00719, saving model to unet_up2_Aug.h5\n",
            "33/33 [==============================] - 9s 271ms/step - loss: -0.0071 - dice_coef: 0.0071 - accuracy: 0.4717 - val_loss: -0.0072 - val_dice_coef: 0.0071 - val_accuracy: 0.6085\n",
            "Epoch 54/200\n",
            "33/33 [==============================] - ETA: 0s - loss: -0.0071 - dice_coef: 0.0071 - accuracy: 0.4796\n",
            "Epoch 00054: val_loss improved from -0.00719 to -0.00721, saving model to unet_up2_Aug.h5\n",
            "33/33 [==============================] - 9s 273ms/step - loss: -0.0071 - dice_coef: 0.0071 - accuracy: 0.4796 - val_loss: -0.0072 - val_dice_coef: 0.0072 - val_accuracy: 0.6091\n",
            "Epoch 55/200\n",
            "33/33 [==============================] - ETA: 0s - loss: -0.0073 - dice_coef: 0.0073 - accuracy: 0.4790\n",
            "Epoch 00055: val_loss improved from -0.00721 to -0.00724, saving model to unet_up2_Aug.h5\n",
            "33/33 [==============================] - 9s 273ms/step - loss: -0.0073 - dice_coef: 0.0073 - accuracy: 0.4790 - val_loss: -0.0072 - val_dice_coef: 0.0072 - val_accuracy: 0.6096\n",
            "Epoch 56/200\n",
            "33/33 [==============================] - ETA: 0s - loss: -0.0073 - dice_coef: 0.0073 - accuracy: 0.4869\n",
            "Epoch 00056: val_loss improved from -0.00724 to -0.00726, saving model to unet_up2_Aug.h5\n",
            "33/33 [==============================] - 9s 274ms/step - loss: -0.0073 - dice_coef: 0.0073 - accuracy: 0.4869 - val_loss: -0.0073 - val_dice_coef: 0.0072 - val_accuracy: 0.6100\n",
            "Epoch 57/200\n",
            "33/33 [==============================] - ETA: 0s - loss: -0.0073 - dice_coef: 0.0073 - accuracy: 0.4933\n",
            "Epoch 00057: val_loss improved from -0.00726 to -0.00728, saving model to unet_up2_Aug.h5\n",
            "33/33 [==============================] - 9s 272ms/step - loss: -0.0073 - dice_coef: 0.0073 - accuracy: 0.4933 - val_loss: -0.0073 - val_dice_coef: 0.0072 - val_accuracy: 0.6105\n",
            "Epoch 58/200\n",
            "33/33 [==============================] - ETA: 0s - loss: -0.0072 - dice_coef: 0.0072 - accuracy: 0.5021\n",
            "Epoch 00058: val_loss improved from -0.00728 to -0.00731, saving model to unet_up2_Aug.h5\n",
            "33/33 [==============================] - 9s 273ms/step - loss: -0.0072 - dice_coef: 0.0072 - accuracy: 0.5021 - val_loss: -0.0073 - val_dice_coef: 0.0073 - val_accuracy: 0.6109\n",
            "Epoch 59/200\n",
            "33/33 [==============================] - ETA: 0s - loss: -0.0073 - dice_coef: 0.0073 - accuracy: 0.5047\n",
            "Epoch 00059: val_loss improved from -0.00731 to -0.00733, saving model to unet_up2_Aug.h5\n",
            "33/33 [==============================] - 9s 261ms/step - loss: -0.0073 - dice_coef: 0.0073 - accuracy: 0.5047 - val_loss: -0.0073 - val_dice_coef: 0.0073 - val_accuracy: 0.6113\n",
            "Epoch 60/200\n",
            "33/33 [==============================] - ETA: 0s - loss: -0.0074 - dice_coef: 0.0073 - accuracy: 0.5083\n",
            "Epoch 00060: val_loss improved from -0.00733 to -0.00736, saving model to unet_up2_Aug.h5\n",
            "33/33 [==============================] - 9s 276ms/step - loss: -0.0074 - dice_coef: 0.0073 - accuracy: 0.5083 - val_loss: -0.0074 - val_dice_coef: 0.0073 - val_accuracy: 0.6116\n",
            "Epoch 61/200\n",
            "33/33 [==============================] - ETA: 0s - loss: -0.0073 - dice_coef: 0.0073 - accuracy: 0.5170\n",
            "Epoch 00061: val_loss improved from -0.00736 to -0.00738, saving model to unet_up2_Aug.h5\n",
            "33/33 [==============================] - 9s 273ms/step - loss: -0.0073 - dice_coef: 0.0073 - accuracy: 0.5170 - val_loss: -0.0074 - val_dice_coef: 0.0073 - val_accuracy: 0.6120\n",
            "Epoch 62/200\n",
            "33/33 [==============================] - ETA: 0s - loss: -0.0074 - dice_coef: 0.0074 - accuracy: 0.5186\n",
            "Epoch 00062: val_loss improved from -0.00738 to -0.00740, saving model to unet_up2_Aug.h5\n",
            "33/33 [==============================] - 9s 272ms/step - loss: -0.0074 - dice_coef: 0.0074 - accuracy: 0.5186 - val_loss: -0.0074 - val_dice_coef: 0.0074 - val_accuracy: 0.6123\n",
            "Epoch 63/200\n",
            "33/33 [==============================] - ETA: 0s - loss: -0.0074 - dice_coef: 0.0074 - accuracy: 0.5234\n",
            "Epoch 00063: val_loss improved from -0.00740 to -0.00743, saving model to unet_up2_Aug.h5\n",
            "33/33 [==============================] - 9s 273ms/step - loss: -0.0074 - dice_coef: 0.0074 - accuracy: 0.5234 - val_loss: -0.0074 - val_dice_coef: 0.0074 - val_accuracy: 0.6126\n",
            "Epoch 64/200\n",
            "33/33 [==============================] - ETA: 0s - loss: -0.0074 - dice_coef: 0.0074 - accuracy: 0.5291\n",
            "Epoch 00064: val_loss improved from -0.00743 to -0.00745, saving model to unet_up2_Aug.h5\n",
            "33/33 [==============================] - 9s 273ms/step - loss: -0.0074 - dice_coef: 0.0074 - accuracy: 0.5291 - val_loss: -0.0075 - val_dice_coef: 0.0074 - val_accuracy: 0.6129\n",
            "Epoch 65/200\n",
            "33/33 [==============================] - ETA: 0s - loss: -0.0074 - dice_coef: 0.0075 - accuracy: 0.5341\n",
            "Epoch 00065: val_loss improved from -0.00745 to -0.00747, saving model to unet_up2_Aug.h5\n",
            "33/33 [==============================] - 9s 274ms/step - loss: -0.0074 - dice_coef: 0.0075 - accuracy: 0.5341 - val_loss: -0.0075 - val_dice_coef: 0.0074 - val_accuracy: 0.6131\n",
            "Epoch 66/200\n",
            "33/33 [==============================] - ETA: 0s - loss: -0.0074 - dice_coef: 0.0074 - accuracy: 0.5380\n",
            "Epoch 00066: val_loss improved from -0.00747 to -0.00750, saving model to unet_up2_Aug.h5\n",
            "33/33 [==============================] - 9s 272ms/step - loss: -0.0074 - dice_coef: 0.0074 - accuracy: 0.5380 - val_loss: -0.0075 - val_dice_coef: 0.0075 - val_accuracy: 0.6134\n",
            "Epoch 67/200\n",
            "33/33 [==============================] - ETA: 0s - loss: -0.0075 - dice_coef: 0.0075 - accuracy: 0.5426\n",
            "Epoch 00067: val_loss improved from -0.00750 to -0.00752, saving model to unet_up2_Aug.h5\n",
            "33/33 [==============================] - 9s 273ms/step - loss: -0.0075 - dice_coef: 0.0075 - accuracy: 0.5426 - val_loss: -0.0075 - val_dice_coef: 0.0075 - val_accuracy: 0.6136\n",
            "Epoch 68/200\n",
            "33/33 [==============================] - ETA: 0s - loss: -0.0075 - dice_coef: 0.0075 - accuracy: 0.5450\n",
            "Epoch 00068: val_loss improved from -0.00752 to -0.00755, saving model to unet_up2_Aug.h5\n",
            "33/33 [==============================] - 9s 273ms/step - loss: -0.0075 - dice_coef: 0.0075 - accuracy: 0.5450 - val_loss: -0.0075 - val_dice_coef: 0.0075 - val_accuracy: 0.6138\n",
            "Epoch 69/200\n",
            "33/33 [==============================] - ETA: 0s - loss: -0.0076 - dice_coef: 0.0076 - accuracy: 0.5477\n",
            "Epoch 00069: val_loss improved from -0.00755 to -0.00757, saving model to unet_up2_Aug.h5\n",
            "33/33 [==============================] - 9s 273ms/step - loss: -0.0076 - dice_coef: 0.0076 - accuracy: 0.5477 - val_loss: -0.0076 - val_dice_coef: 0.0075 - val_accuracy: 0.6139\n",
            "Epoch 70/200\n",
            "33/33 [==============================] - ETA: 0s - loss: -0.0075 - dice_coef: 0.0076 - accuracy: 0.5525\n",
            "Epoch 00070: val_loss improved from -0.00757 to -0.00759, saving model to unet_up2_Aug.h5\n",
            "33/33 [==============================] - 9s 273ms/step - loss: -0.0075 - dice_coef: 0.0076 - accuracy: 0.5525 - val_loss: -0.0076 - val_dice_coef: 0.0075 - val_accuracy: 0.6140\n",
            "Epoch 71/200\n",
            "33/33 [==============================] - ETA: 0s - loss: -0.0076 - dice_coef: 0.0076 - accuracy: 0.5525\n",
            "Epoch 00071: val_loss improved from -0.00759 to -0.00762, saving model to unet_up2_Aug.h5\n",
            "33/33 [==============================] - 9s 272ms/step - loss: -0.0076 - dice_coef: 0.0076 - accuracy: 0.5525 - val_loss: -0.0076 - val_dice_coef: 0.0076 - val_accuracy: 0.6142\n",
            "Epoch 72/200\n",
            "33/33 [==============================] - ETA: 0s - loss: -0.0075 - dice_coef: 0.0075 - accuracy: 0.5610\n",
            "Epoch 00072: val_loss improved from -0.00762 to -0.00764, saving model to unet_up2_Aug.h5\n",
            "33/33 [==============================] - 9s 262ms/step - loss: -0.0075 - dice_coef: 0.0075 - accuracy: 0.5610 - val_loss: -0.0076 - val_dice_coef: 0.0076 - val_accuracy: 0.6143\n",
            "Epoch 73/200\n",
            "33/33 [==============================] - ETA: 0s - loss: -0.0077 - dice_coef: 0.0077 - accuracy: 0.5586\n",
            "Epoch 00073: val_loss improved from -0.00764 to -0.00766, saving model to unet_up2_Aug.h5\n",
            "33/33 [==============================] - 9s 275ms/step - loss: -0.0077 - dice_coef: 0.0077 - accuracy: 0.5586 - val_loss: -0.0077 - val_dice_coef: 0.0076 - val_accuracy: 0.6144\n",
            "Epoch 74/200\n",
            "33/33 [==============================] - ETA: 0s - loss: -0.0076 - dice_coef: 0.0076 - accuracy: 0.5653\n",
            "Epoch 00074: val_loss improved from -0.00766 to -0.00768, saving model to unet_up2_Aug.h5\n",
            "33/33 [==============================] - 9s 275ms/step - loss: -0.0076 - dice_coef: 0.0076 - accuracy: 0.5653 - val_loss: -0.0077 - val_dice_coef: 0.0076 - val_accuracy: 0.6146\n",
            "Epoch 75/200\n",
            "33/33 [==============================] - ETA: 0s - loss: -0.0076 - dice_coef: 0.0076 - accuracy: 0.5686\n",
            "Epoch 00075: val_loss improved from -0.00768 to -0.00771, saving model to unet_up2_Aug.h5\n",
            "33/33 [==============================] - 9s 277ms/step - loss: -0.0076 - dice_coef: 0.0076 - accuracy: 0.5686 - val_loss: -0.0077 - val_dice_coef: 0.0077 - val_accuracy: 0.6147\n",
            "Epoch 76/200\n",
            "33/33 [==============================] - ETA: 0s - loss: -0.0077 - dice_coef: 0.0077 - accuracy: 0.5697\n",
            "Epoch 00076: val_loss improved from -0.00771 to -0.00773, saving model to unet_up2_Aug.h5\n",
            "33/33 [==============================] - 9s 276ms/step - loss: -0.0077 - dice_coef: 0.0077 - accuracy: 0.5697 - val_loss: -0.0077 - val_dice_coef: 0.0077 - val_accuracy: 0.6149\n",
            "Epoch 77/200\n",
            "33/33 [==============================] - ETA: 0s - loss: -0.0078 - dice_coef: 0.0078 - accuracy: 0.5684\n",
            "Epoch 00077: val_loss improved from -0.00773 to -0.00775, saving model to unet_up2_Aug.h5\n",
            "33/33 [==============================] - 9s 273ms/step - loss: -0.0078 - dice_coef: 0.0078 - accuracy: 0.5684 - val_loss: -0.0078 - val_dice_coef: 0.0077 - val_accuracy: 0.6150\n",
            "Epoch 78/200\n",
            "33/33 [==============================] - ETA: 0s - loss: -0.0077 - dice_coef: 0.0077 - accuracy: 0.5745\n",
            "Epoch 00078: val_loss improved from -0.00775 to -0.00777, saving model to unet_up2_Aug.h5\n",
            "33/33 [==============================] - 9s 274ms/step - loss: -0.0077 - dice_coef: 0.0077 - accuracy: 0.5745 - val_loss: -0.0078 - val_dice_coef: 0.0077 - val_accuracy: 0.6151\n",
            "Epoch 79/200\n",
            "33/33 [==============================] - ETA: 0s - loss: -0.0077 - dice_coef: 0.0077 - accuracy: 0.5772\n",
            "Epoch 00079: val_loss improved from -0.00777 to -0.00779, saving model to unet_up2_Aug.h5\n",
            "33/33 [==============================] - 9s 272ms/step - loss: -0.0077 - dice_coef: 0.0077 - accuracy: 0.5772 - val_loss: -0.0078 - val_dice_coef: 0.0077 - val_accuracy: 0.6152\n",
            "Epoch 80/200\n",
            "33/33 [==============================] - ETA: 0s - loss: -0.0078 - dice_coef: 0.0078 - accuracy: 0.5765\n",
            "Epoch 00080: val_loss improved from -0.00779 to -0.00781, saving model to unet_up2_Aug.h5\n",
            "33/33 [==============================] - 9s 273ms/step - loss: -0.0078 - dice_coef: 0.0078 - accuracy: 0.5765 - val_loss: -0.0078 - val_dice_coef: 0.0078 - val_accuracy: 0.6154\n",
            "Epoch 81/200\n",
            "33/33 [==============================] - ETA: 0s - loss: -0.0078 - dice_coef: 0.0078 - accuracy: 0.5780\n",
            "Epoch 00081: val_loss improved from -0.00781 to -0.00784, saving model to unet_up2_Aug.h5\n",
            "33/33 [==============================] - 9s 272ms/step - loss: -0.0078 - dice_coef: 0.0078 - accuracy: 0.5780 - val_loss: -0.0078 - val_dice_coef: 0.0078 - val_accuracy: 0.6155\n",
            "Epoch 82/200\n",
            "33/33 [==============================] - ETA: 0s - loss: -0.0078 - dice_coef: 0.0078 - accuracy: 0.5803\n",
            "Epoch 00082: val_loss improved from -0.00784 to -0.00786, saving model to unet_up2_Aug.h5\n",
            "33/33 [==============================] - 9s 273ms/step - loss: -0.0078 - dice_coef: 0.0078 - accuracy: 0.5803 - val_loss: -0.0079 - val_dice_coef: 0.0078 - val_accuracy: 0.6156\n",
            "Epoch 83/200\n",
            "33/33 [==============================] - ETA: 0s - loss: -0.0079 - dice_coef: 0.0079 - accuracy: 0.5763\n",
            "Epoch 00083: val_loss improved from -0.00786 to -0.00788, saving model to unet_up2_Aug.h5\n",
            "33/33 [==============================] - 9s 271ms/step - loss: -0.0079 - dice_coef: 0.0079 - accuracy: 0.5763 - val_loss: -0.0079 - val_dice_coef: 0.0078 - val_accuracy: 0.6158\n",
            "Epoch 84/200\n",
            "33/33 [==============================] - ETA: 0s - loss: -0.0077 - dice_coef: 0.0077 - accuracy: 0.5893\n",
            "Epoch 00084: val_loss improved from -0.00788 to -0.00790, saving model to unet_up2_Aug.h5\n",
            "33/33 [==============================] - 9s 273ms/step - loss: -0.0077 - dice_coef: 0.0077 - accuracy: 0.5893 - val_loss: -0.0079 - val_dice_coef: 0.0079 - val_accuracy: 0.6159\n",
            "Epoch 85/200\n",
            "33/33 [==============================] - ETA: 0s - loss: -0.0079 - dice_coef: 0.0079 - accuracy: 0.5839\n",
            "Epoch 00085: val_loss improved from -0.00790 to -0.00792, saving model to unet_up2_Aug.h5\n",
            "33/33 [==============================] - 9s 263ms/step - loss: -0.0079 - dice_coef: 0.0079 - accuracy: 0.5839 - val_loss: -0.0079 - val_dice_coef: 0.0079 - val_accuracy: 0.6160\n",
            "Epoch 86/200\n",
            "33/33 [==============================] - ETA: 0s - loss: -0.0079 - dice_coef: 0.0079 - accuracy: 0.5857\n",
            "Epoch 00086: val_loss improved from -0.00792 to -0.00794, saving model to unet_up2_Aug.h5\n",
            "33/33 [==============================] - 9s 273ms/step - loss: -0.0079 - dice_coef: 0.0079 - accuracy: 0.5857 - val_loss: -0.0079 - val_dice_coef: 0.0079 - val_accuracy: 0.6162\n",
            "Epoch 87/200\n",
            "33/33 [==============================] - ETA: 0s - loss: -0.0078 - dice_coef: 0.0078 - accuracy: 0.5906\n",
            "Epoch 00087: val_loss improved from -0.00794 to -0.00796, saving model to unet_up2_Aug.h5\n",
            "33/33 [==============================] - 9s 272ms/step - loss: -0.0078 - dice_coef: 0.0078 - accuracy: 0.5906 - val_loss: -0.0080 - val_dice_coef: 0.0079 - val_accuracy: 0.6163\n",
            "Epoch 88/200\n",
            "33/33 [==============================] - ETA: 0s - loss: -0.0080 - dice_coef: 0.0079 - accuracy: 0.5873\n",
            "Epoch 00088: val_loss improved from -0.00796 to -0.00798, saving model to unet_up2_Aug.h5\n",
            "33/33 [==============================] - 9s 272ms/step - loss: -0.0080 - dice_coef: 0.0079 - accuracy: 0.5873 - val_loss: -0.0080 - val_dice_coef: 0.0079 - val_accuracy: 0.6164\n",
            "Epoch 89/200\n",
            "33/33 [==============================] - ETA: 0s - loss: -0.0079 - dice_coef: 0.0079 - accuracy: 0.5947\n",
            "Epoch 00089: val_loss improved from -0.00798 to -0.00800, saving model to unet_up2_Aug.h5\n",
            "33/33 [==============================] - 9s 273ms/step - loss: -0.0079 - dice_coef: 0.0079 - accuracy: 0.5947 - val_loss: -0.0080 - val_dice_coef: 0.0080 - val_accuracy: 0.6166\n",
            "Epoch 90/200\n",
            "33/33 [==============================] - ETA: 0s - loss: -0.0080 - dice_coef: 0.0080 - accuracy: 0.5905\n",
            "Epoch 00090: val_loss improved from -0.00800 to -0.00802, saving model to unet_up2_Aug.h5\n",
            "33/33 [==============================] - 9s 272ms/step - loss: -0.0080 - dice_coef: 0.0080 - accuracy: 0.5905 - val_loss: -0.0080 - val_dice_coef: 0.0080 - val_accuracy: 0.6167\n",
            "Epoch 91/200\n",
            "33/33 [==============================] - ETA: 0s - loss: -0.0080 - dice_coef: 0.0080 - accuracy: 0.5933\n",
            "Epoch 00091: val_loss improved from -0.00802 to -0.00804, saving model to unet_up2_Aug.h5\n",
            "33/33 [==============================] - 9s 272ms/step - loss: -0.0080 - dice_coef: 0.0080 - accuracy: 0.5933 - val_loss: -0.0080 - val_dice_coef: 0.0080 - val_accuracy: 0.6169\n",
            "Epoch 92/200\n",
            "33/33 [==============================] - ETA: 0s - loss: -0.0080 - dice_coef: 0.0080 - accuracy: 0.5958\n",
            "Epoch 00092: val_loss improved from -0.00804 to -0.00806, saving model to unet_up2_Aug.h5\n",
            "33/33 [==============================] - 9s 271ms/step - loss: -0.0080 - dice_coef: 0.0080 - accuracy: 0.5958 - val_loss: -0.0081 - val_dice_coef: 0.0080 - val_accuracy: 0.6171\n",
            "Epoch 93/200\n",
            "33/33 [==============================] - ETA: 0s - loss: -0.0080 - dice_coef: 0.0081 - accuracy: 0.5931\n",
            "Epoch 00093: val_loss improved from -0.00806 to -0.00808, saving model to unet_up2_Aug.h5\n",
            "33/33 [==============================] - 9s 273ms/step - loss: -0.0080 - dice_coef: 0.0081 - accuracy: 0.5931 - val_loss: -0.0081 - val_dice_coef: 0.0080 - val_accuracy: 0.6172\n",
            "Epoch 94/200\n",
            "33/33 [==============================] - ETA: 0s - loss: -0.0080 - dice_coef: 0.0080 - accuracy: 0.5978\n",
            "Epoch 00094: val_loss improved from -0.00808 to -0.00809, saving model to unet_up2_Aug.h5\n",
            "33/33 [==============================] - 9s 273ms/step - loss: -0.0080 - dice_coef: 0.0080 - accuracy: 0.5978 - val_loss: -0.0081 - val_dice_coef: 0.0080 - val_accuracy: 0.6174\n",
            "Epoch 95/200\n",
            "33/33 [==============================] - ETA: 0s - loss: -0.0081 - dice_coef: 0.0081 - accuracy: 0.5963\n",
            "Epoch 00095: val_loss improved from -0.00809 to -0.00811, saving model to unet_up2_Aug.h5\n",
            "33/33 [==============================] - 9s 275ms/step - loss: -0.0081 - dice_coef: 0.0081 - accuracy: 0.5963 - val_loss: -0.0081 - val_dice_coef: 0.0081 - val_accuracy: 0.6175\n",
            "Epoch 96/200\n",
            "33/33 [==============================] - ETA: 0s - loss: -0.0080 - dice_coef: 0.0080 - accuracy: 0.5991\n",
            "Epoch 00096: val_loss improved from -0.00811 to -0.00813, saving model to unet_up2_Aug.h5\n",
            "33/33 [==============================] - 9s 273ms/step - loss: -0.0080 - dice_coef: 0.0080 - accuracy: 0.5991 - val_loss: -0.0081 - val_dice_coef: 0.0081 - val_accuracy: 0.6177\n",
            "Epoch 97/200\n",
            "33/33 [==============================] - ETA: 0s - loss: -0.0081 - dice_coef: 0.0081 - accuracy: 0.5987\n",
            "Epoch 00097: val_loss improved from -0.00813 to -0.00815, saving model to unet_up2_Aug.h5\n",
            "33/33 [==============================] - 9s 272ms/step - loss: -0.0081 - dice_coef: 0.0081 - accuracy: 0.5987 - val_loss: -0.0081 - val_dice_coef: 0.0081 - val_accuracy: 0.6178\n",
            "Epoch 98/200\n",
            "33/33 [==============================] - ETA: 0s - loss: -0.0081 - dice_coef: 0.0081 - accuracy: 0.6017\n",
            "Epoch 00098: val_loss improved from -0.00815 to -0.00817, saving model to unet_up2_Aug.h5\n",
            "33/33 [==============================] - 9s 263ms/step - loss: -0.0081 - dice_coef: 0.0081 - accuracy: 0.6017 - val_loss: -0.0082 - val_dice_coef: 0.0081 - val_accuracy: 0.6179\n",
            "Epoch 99/200\n",
            "33/33 [==============================] - ETA: 0s - loss: -0.0081 - dice_coef: 0.0082 - accuracy: 0.6000\n",
            "Epoch 00099: val_loss improved from -0.00817 to -0.00818, saving model to unet_up2_Aug.h5\n",
            "33/33 [==============================] - 9s 272ms/step - loss: -0.0081 - dice_coef: 0.0082 - accuracy: 0.6000 - val_loss: -0.0082 - val_dice_coef: 0.0081 - val_accuracy: 0.6181\n",
            "Epoch 100/200\n",
            "33/33 [==============================] - ETA: 0s - loss: -0.0081 - dice_coef: 0.0081 - accuracy: 0.6019\n",
            "Epoch 00100: val_loss improved from -0.00818 to -0.00820, saving model to unet_up2_Aug.h5\n",
            "33/33 [==============================] - 9s 272ms/step - loss: -0.0081 - dice_coef: 0.0081 - accuracy: 0.6019 - val_loss: -0.0082 - val_dice_coef: 0.0082 - val_accuracy: 0.6182\n",
            "Epoch 101/200\n",
            "33/33 [==============================] - ETA: 0s - loss: -0.0082 - dice_coef: 0.0082 - accuracy: 0.6011\n",
            "Epoch 00101: val_loss improved from -0.00820 to -0.00822, saving model to unet_up2_Aug.h5\n",
            "33/33 [==============================] - 9s 273ms/step - loss: -0.0082 - dice_coef: 0.0082 - accuracy: 0.6011 - val_loss: -0.0082 - val_dice_coef: 0.0082 - val_accuracy: 0.6183\n",
            "Epoch 102/200\n",
            "33/33 [==============================] - ETA: 0s - loss: -0.0081 - dice_coef: 0.0081 - accuracy: 0.6076\n",
            "Epoch 00102: val_loss improved from -0.00822 to -0.00824, saving model to unet_up2_Aug.h5\n",
            "33/33 [==============================] - 9s 272ms/step - loss: -0.0081 - dice_coef: 0.0081 - accuracy: 0.6076 - val_loss: -0.0082 - val_dice_coef: 0.0082 - val_accuracy: 0.6185\n",
            "Epoch 103/200\n",
            "33/33 [==============================] - ETA: 0s - loss: -0.0082 - dice_coef: 0.0082 - accuracy: 0.6022\n",
            "Epoch 00103: val_loss improved from -0.00824 to -0.00825, saving model to unet_up2_Aug.h5\n",
            "33/33 [==============================] - 9s 272ms/step - loss: -0.0082 - dice_coef: 0.0082 - accuracy: 0.6022 - val_loss: -0.0083 - val_dice_coef: 0.0082 - val_accuracy: 0.6186\n",
            "Epoch 104/200\n",
            "33/33 [==============================] - ETA: 0s - loss: -0.0083 - dice_coef: 0.0083 - accuracy: 0.6007\n",
            "Epoch 00104: val_loss improved from -0.00825 to -0.00827, saving model to unet_up2_Aug.h5\n",
            "33/33 [==============================] - 9s 272ms/step - loss: -0.0083 - dice_coef: 0.0083 - accuracy: 0.6007 - val_loss: -0.0083 - val_dice_coef: 0.0082 - val_accuracy: 0.6187\n",
            "Epoch 105/200\n",
            "33/33 [==============================] - ETA: 0s - loss: -0.0082 - dice_coef: 0.0082 - accuracy: 0.6056\n",
            "Epoch 00105: val_loss improved from -0.00827 to -0.00829, saving model to unet_up2_Aug.h5\n",
            "33/33 [==============================] - 9s 272ms/step - loss: -0.0082 - dice_coef: 0.0082 - accuracy: 0.6056 - val_loss: -0.0083 - val_dice_coef: 0.0082 - val_accuracy: 0.6188\n",
            "Epoch 106/200\n",
            "33/33 [==============================] - ETA: 0s - loss: -0.0082 - dice_coef: 0.0082 - accuracy: 0.6049\n",
            "Epoch 00106: val_loss improved from -0.00829 to -0.00830, saving model to unet_up2_Aug.h5\n",
            "33/33 [==============================] - 9s 272ms/step - loss: -0.0082 - dice_coef: 0.0082 - accuracy: 0.6049 - val_loss: -0.0083 - val_dice_coef: 0.0083 - val_accuracy: 0.6190\n",
            "Epoch 107/200\n",
            "33/33 [==============================] - ETA: 0s - loss: -0.0082 - dice_coef: 0.0082 - accuracy: 0.6062\n",
            "Epoch 00107: val_loss improved from -0.00830 to -0.00832, saving model to unet_up2_Aug.h5\n",
            "33/33 [==============================] - 9s 271ms/step - loss: -0.0082 - dice_coef: 0.0082 - accuracy: 0.6062 - val_loss: -0.0083 - val_dice_coef: 0.0083 - val_accuracy: 0.6191\n",
            "Epoch 108/200\n",
            "33/33 [==============================] - ETA: 0s - loss: -0.0083 - dice_coef: 0.0083 - accuracy: 0.6060\n",
            "Epoch 00108: val_loss improved from -0.00832 to -0.00833, saving model to unet_up2_Aug.h5\n",
            "33/33 [==============================] - 9s 263ms/step - loss: -0.0083 - dice_coef: 0.0083 - accuracy: 0.6060 - val_loss: -0.0083 - val_dice_coef: 0.0083 - val_accuracy: 0.6193\n",
            "Epoch 109/200\n",
            "33/33 [==============================] - ETA: 0s - loss: -0.0082 - dice_coef: 0.0083 - accuracy: 0.6082\n",
            "Epoch 00109: val_loss improved from -0.00833 to -0.00835, saving model to unet_up2_Aug.h5\n",
            "33/33 [==============================] - 9s 272ms/step - loss: -0.0082 - dice_coef: 0.0083 - accuracy: 0.6082 - val_loss: -0.0084 - val_dice_coef: 0.0083 - val_accuracy: 0.6194\n",
            "Epoch 110/200\n",
            "33/33 [==============================] - ETA: 0s - loss: -0.0083 - dice_coef: 0.0083 - accuracy: 0.6061\n",
            "Epoch 00110: val_loss improved from -0.00835 to -0.00837, saving model to unet_up2_Aug.h5\n",
            "33/33 [==============================] - 9s 273ms/step - loss: -0.0083 - dice_coef: 0.0083 - accuracy: 0.6061 - val_loss: -0.0084 - val_dice_coef: 0.0083 - val_accuracy: 0.6196\n",
            "Epoch 111/200\n",
            "33/33 [==============================] - ETA: 0s - loss: -0.0083 - dice_coef: 0.0082 - accuracy: 0.6100\n",
            "Epoch 00111: val_loss improved from -0.00837 to -0.00838, saving model to unet_up2_Aug.h5\n",
            "33/33 [==============================] - 9s 272ms/step - loss: -0.0083 - dice_coef: 0.0082 - accuracy: 0.6100 - val_loss: -0.0084 - val_dice_coef: 0.0083 - val_accuracy: 0.6197\n",
            "Epoch 112/200\n",
            "33/33 [==============================] - ETA: 0s - loss: -0.0083 - dice_coef: 0.0083 - accuracy: 0.6089\n",
            "Epoch 00112: val_loss improved from -0.00838 to -0.00840, saving model to unet_up2_Aug.h5\n",
            "33/33 [==============================] - 9s 273ms/step - loss: -0.0083 - dice_coef: 0.0083 - accuracy: 0.6089 - val_loss: -0.0084 - val_dice_coef: 0.0083 - val_accuracy: 0.6198\n",
            "Epoch 113/200\n",
            "33/33 [==============================] - ETA: 0s - loss: -0.0083 - dice_coef: 0.0083 - accuracy: 0.6101\n",
            "Epoch 00113: val_loss improved from -0.00840 to -0.00841, saving model to unet_up2_Aug.h5\n",
            "33/33 [==============================] - 9s 273ms/step - loss: -0.0083 - dice_coef: 0.0083 - accuracy: 0.6101 - val_loss: -0.0084 - val_dice_coef: 0.0084 - val_accuracy: 0.6200\n",
            "Epoch 114/200\n",
            "33/33 [==============================] - ETA: 0s - loss: -0.0084 - dice_coef: 0.0084 - accuracy: 0.6079\n",
            "Epoch 00114: val_loss improved from -0.00841 to -0.00843, saving model to unet_up2_Aug.h5\n",
            "33/33 [==============================] - 9s 277ms/step - loss: -0.0084 - dice_coef: 0.0084 - accuracy: 0.6079 - val_loss: -0.0084 - val_dice_coef: 0.0084 - val_accuracy: 0.6201\n",
            "Epoch 115/200\n",
            "33/33 [==============================] - ETA: 0s - loss: -0.0084 - dice_coef: 0.0084 - accuracy: 0.6097\n",
            "Epoch 00115: val_loss improved from -0.00843 to -0.00844, saving model to unet_up2_Aug.h5\n",
            "33/33 [==============================] - 9s 274ms/step - loss: -0.0084 - dice_coef: 0.0084 - accuracy: 0.6097 - val_loss: -0.0084 - val_dice_coef: 0.0084 - val_accuracy: 0.6203\n",
            "Epoch 116/200\n",
            "33/33 [==============================] - ETA: 0s - loss: -0.0084 - dice_coef: 0.0084 - accuracy: 0.6106\n",
            "Epoch 00116: val_loss improved from -0.00844 to -0.00846, saving model to unet_up2_Aug.h5\n",
            "33/33 [==============================] - 9s 273ms/step - loss: -0.0084 - dice_coef: 0.0084 - accuracy: 0.6106 - val_loss: -0.0085 - val_dice_coef: 0.0084 - val_accuracy: 0.6204\n",
            "Epoch 117/200\n",
            "33/33 [==============================] - ETA: 0s - loss: -0.0083 - dice_coef: 0.0083 - accuracy: 0.6141\n",
            "Epoch 00117: val_loss improved from -0.00846 to -0.00847, saving model to unet_up2_Aug.h5\n",
            "33/33 [==============================] - 9s 272ms/step - loss: -0.0083 - dice_coef: 0.0083 - accuracy: 0.6141 - val_loss: -0.0085 - val_dice_coef: 0.0084 - val_accuracy: 0.6206\n",
            "Epoch 118/200\n",
            "33/33 [==============================] - ETA: 0s - loss: -0.0085 - dice_coef: 0.0085 - accuracy: 0.6079\n",
            "Epoch 00118: val_loss improved from -0.00847 to -0.00849, saving model to unet_up2_Aug.h5\n",
            "33/33 [==============================] - 9s 273ms/step - loss: -0.0085 - dice_coef: 0.0085 - accuracy: 0.6079 - val_loss: -0.0085 - val_dice_coef: 0.0084 - val_accuracy: 0.6207\n",
            "Epoch 119/200\n",
            "33/33 [==============================] - ETA: 0s - loss: -0.0084 - dice_coef: 0.0084 - accuracy: 0.6116\n",
            "Epoch 00119: val_loss improved from -0.00849 to -0.00850, saving model to unet_up2_Aug.h5\n",
            "33/33 [==============================] - 9s 271ms/step - loss: -0.0084 - dice_coef: 0.0084 - accuracy: 0.6116 - val_loss: -0.0085 - val_dice_coef: 0.0085 - val_accuracy: 0.6209\n",
            "Epoch 120/200\n",
            "33/33 [==============================] - ETA: 0s - loss: -0.0084 - dice_coef: 0.0085 - accuracy: 0.6117\n",
            "Epoch 00120: val_loss improved from -0.00850 to -0.00852, saving model to unet_up2_Aug.h5\n",
            "33/33 [==============================] - 9s 276ms/step - loss: -0.0084 - dice_coef: 0.0085 - accuracy: 0.6117 - val_loss: -0.0085 - val_dice_coef: 0.0085 - val_accuracy: 0.6211\n",
            "Epoch 121/200\n",
            "33/33 [==============================] - ETA: 0s - loss: -0.0085 - dice_coef: 0.0085 - accuracy: 0.6088\n",
            "Epoch 00121: val_loss improved from -0.00852 to -0.00853, saving model to unet_up2_Aug.h5\n",
            "33/33 [==============================] - 9s 263ms/step - loss: -0.0085 - dice_coef: 0.0085 - accuracy: 0.6088 - val_loss: -0.0085 - val_dice_coef: 0.0085 - val_accuracy: 0.6213\n",
            "Epoch 122/200\n",
            "33/33 [==============================] - ETA: 0s - loss: -0.0084 - dice_coef: 0.0083 - accuracy: 0.6150\n",
            "Epoch 00122: val_loss improved from -0.00853 to -0.00855, saving model to unet_up2_Aug.h5\n",
            "33/33 [==============================] - 9s 272ms/step - loss: -0.0084 - dice_coef: 0.0083 - accuracy: 0.6150 - val_loss: -0.0085 - val_dice_coef: 0.0085 - val_accuracy: 0.6214\n",
            "Epoch 123/200\n",
            "33/33 [==============================] - ETA: 0s - loss: -0.0085 - dice_coef: 0.0084 - accuracy: 0.6144\n",
            "Epoch 00123: val_loss improved from -0.00855 to -0.00856, saving model to unet_up2_Aug.h5\n",
            "33/33 [==============================] - 9s 275ms/step - loss: -0.0085 - dice_coef: 0.0084 - accuracy: 0.6144 - val_loss: -0.0086 - val_dice_coef: 0.0085 - val_accuracy: 0.6216\n",
            "Epoch 124/200\n",
            "33/33 [==============================] - ETA: 0s - loss: -0.0085 - dice_coef: 0.0085 - accuracy: 0.6127\n",
            "Epoch 00124: val_loss improved from -0.00856 to -0.00858, saving model to unet_up2_Aug.h5\n",
            "33/33 [==============================] - 9s 273ms/step - loss: -0.0085 - dice_coef: 0.0085 - accuracy: 0.6127 - val_loss: -0.0086 - val_dice_coef: 0.0085 - val_accuracy: 0.6218\n",
            "Epoch 125/200\n",
            "33/33 [==============================] - ETA: 0s - loss: -0.0085 - dice_coef: 0.0085 - accuracy: 0.6148\n",
            "Epoch 00125: val_loss improved from -0.00858 to -0.00859, saving model to unet_up2_Aug.h5\n",
            "33/33 [==============================] - 9s 276ms/step - loss: -0.0085 - dice_coef: 0.0085 - accuracy: 0.6148 - val_loss: -0.0086 - val_dice_coef: 0.0085 - val_accuracy: 0.6220\n",
            "Epoch 126/200\n",
            "33/33 [==============================] - ETA: 0s - loss: -0.0085 - dice_coef: 0.0085 - accuracy: 0.6154\n",
            "Epoch 00126: val_loss improved from -0.00859 to -0.00860, saving model to unet_up2_Aug.h5\n",
            "33/33 [==============================] - 9s 277ms/step - loss: -0.0085 - dice_coef: 0.0085 - accuracy: 0.6154 - val_loss: -0.0086 - val_dice_coef: 0.0086 - val_accuracy: 0.6222\n",
            "Epoch 127/200\n",
            "33/33 [==============================] - ETA: 0s - loss: -0.0085 - dice_coef: 0.0085 - accuracy: 0.6144\n",
            "Epoch 00127: val_loss improved from -0.00860 to -0.00862, saving model to unet_up2_Aug.h5\n",
            "33/33 [==============================] - 9s 277ms/step - loss: -0.0085 - dice_coef: 0.0085 - accuracy: 0.6144 - val_loss: -0.0086 - val_dice_coef: 0.0086 - val_accuracy: 0.6224\n",
            "Epoch 128/200\n",
            "33/33 [==============================] - ETA: 0s - loss: -0.0085 - dice_coef: 0.0085 - accuracy: 0.6162\n",
            "Epoch 00128: val_loss improved from -0.00862 to -0.00863, saving model to unet_up2_Aug.h5\n",
            "33/33 [==============================] - 9s 275ms/step - loss: -0.0085 - dice_coef: 0.0085 - accuracy: 0.6162 - val_loss: -0.0086 - val_dice_coef: 0.0086 - val_accuracy: 0.6226\n",
            "Epoch 129/200\n",
            "33/33 [==============================] - ETA: 0s - loss: -0.0086 - dice_coef: 0.0086 - accuracy: 0.6152\n",
            "Epoch 00129: val_loss improved from -0.00863 to -0.00865, saving model to unet_up2_Aug.h5\n",
            "33/33 [==============================] - 9s 277ms/step - loss: -0.0086 - dice_coef: 0.0086 - accuracy: 0.6152 - val_loss: -0.0086 - val_dice_coef: 0.0086 - val_accuracy: 0.6228\n",
            "Epoch 130/200\n",
            "33/33 [==============================] - ETA: 0s - loss: -0.0085 - dice_coef: 0.0085 - accuracy: 0.6187\n",
            "Epoch 00130: val_loss improved from -0.00865 to -0.00866, saving model to unet_up2_Aug.h5\n",
            "33/33 [==============================] - 9s 273ms/step - loss: -0.0085 - dice_coef: 0.0085 - accuracy: 0.6187 - val_loss: -0.0087 - val_dice_coef: 0.0086 - val_accuracy: 0.6230\n",
            "Epoch 131/200\n",
            "33/33 [==============================] - ETA: 0s - loss: -0.0086 - dice_coef: 0.0086 - accuracy: 0.6162\n",
            "Epoch 00131: val_loss improved from -0.00866 to -0.00867, saving model to unet_up2_Aug.h5\n",
            "33/33 [==============================] - 9s 273ms/step - loss: -0.0086 - dice_coef: 0.0086 - accuracy: 0.6162 - val_loss: -0.0087 - val_dice_coef: 0.0086 - val_accuracy: 0.6232\n",
            "Epoch 132/200\n",
            "33/33 [==============================] - ETA: 0s - loss: -0.0086 - dice_coef: 0.0086 - accuracy: 0.6188\n",
            "Epoch 00132: val_loss improved from -0.00867 to -0.00869, saving model to unet_up2_Aug.h5\n",
            "33/33 [==============================] - 9s 271ms/step - loss: -0.0086 - dice_coef: 0.0086 - accuracy: 0.6188 - val_loss: -0.0087 - val_dice_coef: 0.0086 - val_accuracy: 0.6234\n",
            "Epoch 133/200\n",
            "33/33 [==============================] - ETA: 0s - loss: -0.0087 - dice_coef: 0.0087 - accuracy: 0.6147\n",
            "Epoch 00133: val_loss improved from -0.00869 to -0.00870, saving model to unet_up2_Aug.h5\n",
            "33/33 [==============================] - 9s 273ms/step - loss: -0.0087 - dice_coef: 0.0087 - accuracy: 0.6147 - val_loss: -0.0087 - val_dice_coef: 0.0087 - val_accuracy: 0.6236\n",
            "Epoch 134/200\n",
            "33/33 [==============================] - ETA: 0s - loss: -0.0086 - dice_coef: 0.0086 - accuracy: 0.6187\n",
            "Epoch 00134: val_loss improved from -0.00870 to -0.00872, saving model to unet_up2_Aug.h5\n",
            "33/33 [==============================] - 9s 263ms/step - loss: -0.0086 - dice_coef: 0.0086 - accuracy: 0.6187 - val_loss: -0.0087 - val_dice_coef: 0.0087 - val_accuracy: 0.6239\n",
            "Epoch 135/200\n",
            "33/33 [==============================] - ETA: 0s - loss: -0.0086 - dice_coef: 0.0086 - accuracy: 0.6183\n",
            "Epoch 00135: val_loss improved from -0.00872 to -0.00873, saving model to unet_up2_Aug.h5\n",
            "33/33 [==============================] - 9s 271ms/step - loss: -0.0086 - dice_coef: 0.0086 - accuracy: 0.6183 - val_loss: -0.0087 - val_dice_coef: 0.0087 - val_accuracy: 0.6241\n",
            "Epoch 136/200\n",
            "33/33 [==============================] - ETA: 0s - loss: -0.0087 - dice_coef: 0.0087 - accuracy: 0.6155\n",
            "Epoch 00136: val_loss improved from -0.00873 to -0.00874, saving model to unet_up2_Aug.h5\n",
            "33/33 [==============================] - 9s 274ms/step - loss: -0.0087 - dice_coef: 0.0087 - accuracy: 0.6155 - val_loss: -0.0087 - val_dice_coef: 0.0087 - val_accuracy: 0.6243\n",
            "Epoch 137/200\n",
            "33/33 [==============================] - ETA: 0s - loss: -0.0087 - dice_coef: 0.0087 - accuracy: 0.6185\n",
            "Epoch 00137: val_loss improved from -0.00874 to -0.00876, saving model to unet_up2_Aug.h5\n",
            "33/33 [==============================] - 9s 273ms/step - loss: -0.0087 - dice_coef: 0.0087 - accuracy: 0.6185 - val_loss: -0.0088 - val_dice_coef: 0.0087 - val_accuracy: 0.6245\n",
            "Epoch 138/200\n",
            "33/33 [==============================] - ETA: 0s - loss: -0.0087 - dice_coef: 0.0087 - accuracy: 0.6203\n",
            "Epoch 00138: val_loss improved from -0.00876 to -0.00877, saving model to unet_up2_Aug.h5\n",
            "33/33 [==============================] - 9s 275ms/step - loss: -0.0087 - dice_coef: 0.0087 - accuracy: 0.6203 - val_loss: -0.0088 - val_dice_coef: 0.0087 - val_accuracy: 0.6247\n",
            "Epoch 139/200\n",
            "33/33 [==============================] - ETA: 0s - loss: -0.0087 - dice_coef: 0.0087 - accuracy: 0.6211\n",
            "Epoch 00139: val_loss improved from -0.00877 to -0.00879, saving model to unet_up2_Aug.h5\n",
            "33/33 [==============================] - 9s 275ms/step - loss: -0.0087 - dice_coef: 0.0087 - accuracy: 0.6211 - val_loss: -0.0088 - val_dice_coef: 0.0087 - val_accuracy: 0.6250\n",
            "Epoch 140/200\n",
            "33/33 [==============================] - ETA: 0s - loss: -0.0086 - dice_coef: 0.0086 - accuracy: 0.6268\n",
            "Epoch 00140: val_loss improved from -0.00879 to -0.00880, saving model to unet_up2_Aug.h5\n",
            "33/33 [==============================] - 9s 276ms/step - loss: -0.0086 - dice_coef: 0.0086 - accuracy: 0.6268 - val_loss: -0.0088 - val_dice_coef: 0.0088 - val_accuracy: 0.6252\n",
            "Epoch 141/200\n",
            "33/33 [==============================] - ETA: 0s - loss: -0.0088 - dice_coef: 0.0088 - accuracy: 0.6184\n",
            "Epoch 00141: val_loss improved from -0.00880 to -0.00881, saving model to unet_up2_Aug.h5\n",
            "33/33 [==============================] - 9s 276ms/step - loss: -0.0088 - dice_coef: 0.0088 - accuracy: 0.6184 - val_loss: -0.0088 - val_dice_coef: 0.0088 - val_accuracy: 0.6254\n",
            "Epoch 142/200\n",
            "33/33 [==============================] - ETA: 0s - loss: -0.0089 - dice_coef: 0.0089 - accuracy: 0.6154\n",
            "Epoch 00142: val_loss improved from -0.00881 to -0.00883, saving model to unet_up2_Aug.h5\n",
            "33/33 [==============================] - 9s 272ms/step - loss: -0.0089 - dice_coef: 0.0089 - accuracy: 0.6154 - val_loss: -0.0088 - val_dice_coef: 0.0088 - val_accuracy: 0.6257\n",
            "Epoch 143/200\n",
            "33/33 [==============================] - ETA: 0s - loss: -0.0087 - dice_coef: 0.0087 - accuracy: 0.6234\n",
            "Epoch 00143: val_loss improved from -0.00883 to -0.00884, saving model to unet_up2_Aug.h5\n",
            "33/33 [==============================] - 9s 273ms/step - loss: -0.0087 - dice_coef: 0.0087 - accuracy: 0.6234 - val_loss: -0.0088 - val_dice_coef: 0.0088 - val_accuracy: 0.6259\n",
            "Epoch 144/200\n",
            "33/33 [==============================] - ETA: 0s - loss: -0.0088 - dice_coef: 0.0088 - accuracy: 0.6194\n",
            "Epoch 00144: val_loss improved from -0.00884 to -0.00886, saving model to unet_up2_Aug.h5\n",
            "33/33 [==============================] - 9s 274ms/step - loss: -0.0088 - dice_coef: 0.0088 - accuracy: 0.6194 - val_loss: -0.0089 - val_dice_coef: 0.0088 - val_accuracy: 0.6261\n",
            "Epoch 145/200\n",
            "33/33 [==============================] - ETA: 0s - loss: -0.0087 - dice_coef: 0.0087 - accuracy: 0.6246\n",
            "Epoch 00145: val_loss improved from -0.00886 to -0.00887, saving model to unet_up2_Aug.h5\n",
            "33/33 [==============================] - 9s 273ms/step - loss: -0.0087 - dice_coef: 0.0087 - accuracy: 0.6246 - val_loss: -0.0089 - val_dice_coef: 0.0088 - val_accuracy: 0.6264\n",
            "Epoch 146/200\n",
            "33/33 [==============================] - ETA: 0s - loss: -0.0088 - dice_coef: 0.0088 - accuracy: 0.6217\n",
            "Epoch 00146: val_loss improved from -0.00887 to -0.00889, saving model to unet_up2_Aug.h5\n",
            "33/33 [==============================] - 9s 275ms/step - loss: -0.0088 - dice_coef: 0.0088 - accuracy: 0.6217 - val_loss: -0.0089 - val_dice_coef: 0.0088 - val_accuracy: 0.6266\n",
            "Epoch 147/200\n",
            "33/33 [==============================] - ETA: 0s - loss: -0.0089 - dice_coef: 0.0089 - accuracy: 0.6196\n",
            "Epoch 00147: val_loss improved from -0.00889 to -0.00890, saving model to unet_up2_Aug.h5\n",
            "33/33 [==============================] - 9s 262ms/step - loss: -0.0089 - dice_coef: 0.0089 - accuracy: 0.6196 - val_loss: -0.0089 - val_dice_coef: 0.0089 - val_accuracy: 0.6268\n",
            "Epoch 148/200\n",
            "33/33 [==============================] - ETA: 0s - loss: -0.0088 - dice_coef: 0.0089 - accuracy: 0.6234\n",
            "Epoch 00148: val_loss improved from -0.00890 to -0.00892, saving model to unet_up2_Aug.h5\n",
            "33/33 [==============================] - 9s 273ms/step - loss: -0.0088 - dice_coef: 0.0089 - accuracy: 0.6234 - val_loss: -0.0089 - val_dice_coef: 0.0089 - val_accuracy: 0.6271\n",
            "Epoch 149/200\n",
            "33/33 [==============================] - ETA: 0s - loss: -0.0088 - dice_coef: 0.0088 - accuracy: 0.6261\n",
            "Epoch 00149: val_loss improved from -0.00892 to -0.00893, saving model to unet_up2_Aug.h5\n",
            "33/33 [==============================] - 9s 271ms/step - loss: -0.0088 - dice_coef: 0.0088 - accuracy: 0.6261 - val_loss: -0.0089 - val_dice_coef: 0.0089 - val_accuracy: 0.6273\n",
            "Epoch 150/200\n",
            "33/33 [==============================] - ETA: 0s - loss: -0.0089 - dice_coef: 0.0089 - accuracy: 0.6208\n",
            "Epoch 00150: val_loss improved from -0.00893 to -0.00894, saving model to unet_up2_Aug.h5\n",
            "33/33 [==============================] - 9s 273ms/step - loss: -0.0089 - dice_coef: 0.0089 - accuracy: 0.6208 - val_loss: -0.0089 - val_dice_coef: 0.0089 - val_accuracy: 0.6276\n",
            "Epoch 151/200\n",
            "33/33 [==============================] - ETA: 0s - loss: -0.0088 - dice_coef: 0.0088 - accuracy: 0.6268\n",
            "Epoch 00151: val_loss improved from -0.00894 to -0.00896, saving model to unet_up2_Aug.h5\n",
            "33/33 [==============================] - 9s 273ms/step - loss: -0.0088 - dice_coef: 0.0088 - accuracy: 0.6268 - val_loss: -0.0090 - val_dice_coef: 0.0089 - val_accuracy: 0.6278\n",
            "Epoch 152/200\n",
            "33/33 [==============================] - ETA: 0s - loss: -0.0089 - dice_coef: 0.0089 - accuracy: 0.6245\n",
            "Epoch 00152: val_loss improved from -0.00896 to -0.00897, saving model to unet_up2_Aug.h5\n",
            "33/33 [==============================] - 9s 271ms/step - loss: -0.0089 - dice_coef: 0.0089 - accuracy: 0.6245 - val_loss: -0.0090 - val_dice_coef: 0.0089 - val_accuracy: 0.6280\n",
            "Epoch 153/200\n",
            "33/33 [==============================] - ETA: 0s - loss: -0.0089 - dice_coef: 0.0089 - accuracy: 0.6241\n",
            "Epoch 00153: val_loss improved from -0.00897 to -0.00899, saving model to unet_up2_Aug.h5\n",
            "33/33 [==============================] - 9s 275ms/step - loss: -0.0089 - dice_coef: 0.0089 - accuracy: 0.6241 - val_loss: -0.0090 - val_dice_coef: 0.0089 - val_accuracy: 0.6283\n",
            "Epoch 154/200\n",
            "33/33 [==============================] - ETA: 0s - loss: -0.0089 - dice_coef: 0.0089 - accuracy: 0.6244\n",
            "Epoch 00154: val_loss improved from -0.00899 to -0.00900, saving model to unet_up2_Aug.h5\n",
            "33/33 [==============================] - 9s 275ms/step - loss: -0.0089 - dice_coef: 0.0089 - accuracy: 0.6244 - val_loss: -0.0090 - val_dice_coef: 0.0090 - val_accuracy: 0.6285\n",
            "Epoch 155/200\n",
            "33/33 [==============================] - ETA: 0s - loss: -0.0089 - dice_coef: 0.0090 - accuracy: 0.6243\n",
            "Epoch 00155: val_loss improved from -0.00900 to -0.00902, saving model to unet_up2_Aug.h5\n",
            "33/33 [==============================] - 9s 271ms/step - loss: -0.0089 - dice_coef: 0.0090 - accuracy: 0.6243 - val_loss: -0.0090 - val_dice_coef: 0.0090 - val_accuracy: 0.6288\n",
            "Epoch 156/200\n",
            "33/33 [==============================] - ETA: 0s - loss: -0.0089 - dice_coef: 0.0089 - accuracy: 0.6287\n",
            "Epoch 00156: val_loss improved from -0.00902 to -0.00903, saving model to unet_up2_Aug.h5\n",
            "33/33 [==============================] - 9s 272ms/step - loss: -0.0089 - dice_coef: 0.0089 - accuracy: 0.6287 - val_loss: -0.0090 - val_dice_coef: 0.0090 - val_accuracy: 0.6290\n",
            "Epoch 157/200\n",
            "33/33 [==============================] - ETA: 0s - loss: -0.0090 - dice_coef: 0.0090 - accuracy: 0.6240\n",
            "Epoch 00157: val_loss improved from -0.00903 to -0.00905, saving model to unet_up2_Aug.h5\n",
            "33/33 [==============================] - 9s 272ms/step - loss: -0.0090 - dice_coef: 0.0090 - accuracy: 0.6240 - val_loss: -0.0091 - val_dice_coef: 0.0090 - val_accuracy: 0.6293\n",
            "Epoch 158/200\n",
            "33/33 [==============================] - ETA: 0s - loss: -0.0090 - dice_coef: 0.0090 - accuracy: 0.6260\n",
            "Epoch 00158: val_loss improved from -0.00905 to -0.00907, saving model to unet_up2_Aug.h5\n",
            "33/33 [==============================] - 9s 273ms/step - loss: -0.0090 - dice_coef: 0.0090 - accuracy: 0.6260 - val_loss: -0.0091 - val_dice_coef: 0.0090 - val_accuracy: 0.6296\n",
            "Epoch 159/200\n",
            "33/33 [==============================] - ETA: 0s - loss: -0.0090 - dice_coef: 0.0090 - accuracy: 0.6269\n",
            "Epoch 00159: val_loss improved from -0.00907 to -0.00908, saving model to unet_up2_Aug.h5\n",
            "33/33 [==============================] - 9s 273ms/step - loss: -0.0090 - dice_coef: 0.0090 - accuracy: 0.6269 - val_loss: -0.0091 - val_dice_coef: 0.0090 - val_accuracy: 0.6298\n",
            "Epoch 160/200\n",
            "33/33 [==============================] - ETA: 0s - loss: -0.0090 - dice_coef: 0.0090 - accuracy: 0.6268\n",
            "Epoch 00160: val_loss improved from -0.00908 to -0.00910, saving model to unet_up2_Aug.h5\n",
            "33/33 [==============================] - 9s 263ms/step - loss: -0.0090 - dice_coef: 0.0090 - accuracy: 0.6268 - val_loss: -0.0091 - val_dice_coef: 0.0090 - val_accuracy: 0.6300\n",
            "Epoch 161/200\n",
            "33/33 [==============================] - ETA: 0s - loss: -0.0090 - dice_coef: 0.0091 - accuracy: 0.6267\n",
            "Epoch 00161: val_loss improved from -0.00910 to -0.00911, saving model to unet_up2_Aug.h5\n",
            "33/33 [==============================] - 9s 272ms/step - loss: -0.0090 - dice_coef: 0.0091 - accuracy: 0.6267 - val_loss: -0.0091 - val_dice_coef: 0.0091 - val_accuracy: 0.6303\n",
            "Epoch 162/200\n",
            "33/33 [==============================] - ETA: 0s - loss: -0.0090 - dice_coef: 0.0091 - accuracy: 0.6272\n",
            "Epoch 00162: val_loss improved from -0.00911 to -0.00913, saving model to unet_up2_Aug.h5\n",
            "33/33 [==============================] - 9s 270ms/step - loss: -0.0090 - dice_coef: 0.0091 - accuracy: 0.6272 - val_loss: -0.0091 - val_dice_coef: 0.0091 - val_accuracy: 0.6305\n",
            "Epoch 163/200\n",
            "33/33 [==============================] - ETA: 0s - loss: -0.0090 - dice_coef: 0.0090 - accuracy: 0.6285\n",
            "Epoch 00163: val_loss improved from -0.00913 to -0.00915, saving model to unet_up2_Aug.h5\n",
            "33/33 [==============================] - 9s 271ms/step - loss: -0.0090 - dice_coef: 0.0090 - accuracy: 0.6285 - val_loss: -0.0091 - val_dice_coef: 0.0091 - val_accuracy: 0.6307\n",
            "Epoch 164/200\n",
            "33/33 [==============================] - ETA: 0s - loss: -0.0091 - dice_coef: 0.0091 - accuracy: 0.6254\n",
            "Epoch 00164: val_loss improved from -0.00915 to -0.00916, saving model to unet_up2_Aug.h5\n",
            "33/33 [==============================] - 9s 275ms/step - loss: -0.0091 - dice_coef: 0.0091 - accuracy: 0.6254 - val_loss: -0.0092 - val_dice_coef: 0.0091 - val_accuracy: 0.6310\n",
            "Epoch 165/200\n",
            "33/33 [==============================] - ETA: 0s - loss: -0.0090 - dice_coef: 0.0090 - accuracy: 0.6302\n",
            "Epoch 00165: val_loss improved from -0.00916 to -0.00918, saving model to unet_up2_Aug.h5\n",
            "33/33 [==============================] - 9s 274ms/step - loss: -0.0090 - dice_coef: 0.0090 - accuracy: 0.6302 - val_loss: -0.0092 - val_dice_coef: 0.0091 - val_accuracy: 0.6312\n",
            "Epoch 166/200\n",
            "33/33 [==============================] - ETA: 0s - loss: -0.0091 - dice_coef: 0.0091 - accuracy: 0.6266\n",
            "Epoch 00166: val_loss improved from -0.00918 to -0.00920, saving model to unet_up2_Aug.h5\n",
            "33/33 [==============================] - 9s 271ms/step - loss: -0.0091 - dice_coef: 0.0091 - accuracy: 0.6266 - val_loss: -0.0092 - val_dice_coef: 0.0091 - val_accuracy: 0.6314\n",
            "Epoch 167/200\n",
            "33/33 [==============================] - ETA: 0s - loss: -0.0090 - dice_coef: 0.0091 - accuracy: 0.6318\n",
            "Epoch 00167: val_loss improved from -0.00920 to -0.00921, saving model to unet_up2_Aug.h5\n",
            "33/33 [==============================] - 9s 275ms/step - loss: -0.0090 - dice_coef: 0.0091 - accuracy: 0.6318 - val_loss: -0.0092 - val_dice_coef: 0.0092 - val_accuracy: 0.6317\n",
            "Epoch 168/200\n",
            "33/33 [==============================] - ETA: 0s - loss: -0.0092 - dice_coef: 0.0091 - accuracy: 0.6276\n",
            "Epoch 00168: val_loss improved from -0.00921 to -0.00923, saving model to unet_up2_Aug.h5\n",
            "33/33 [==============================] - 9s 273ms/step - loss: -0.0092 - dice_coef: 0.0091 - accuracy: 0.6276 - val_loss: -0.0092 - val_dice_coef: 0.0092 - val_accuracy: 0.6319\n",
            "Epoch 169/200\n",
            "33/33 [==============================] - ETA: 0s - loss: -0.0091 - dice_coef: 0.0092 - accuracy: 0.6301\n",
            "Epoch 00169: val_loss improved from -0.00923 to -0.00925, saving model to unet_up2_Aug.h5\n",
            "33/33 [==============================] - 9s 273ms/step - loss: -0.0091 - dice_coef: 0.0092 - accuracy: 0.6301 - val_loss: -0.0092 - val_dice_coef: 0.0092 - val_accuracy: 0.6321\n",
            "Epoch 170/200\n",
            "33/33 [==============================] - ETA: 0s - loss: -0.0092 - dice_coef: 0.0093 - accuracy: 0.6268\n",
            "Epoch 00170: val_loss improved from -0.00925 to -0.00927, saving model to unet_up2_Aug.h5\n",
            "33/33 [==============================] - 9s 272ms/step - loss: -0.0092 - dice_coef: 0.0093 - accuracy: 0.6268 - val_loss: -0.0093 - val_dice_coef: 0.0092 - val_accuracy: 0.6324\n",
            "Epoch 171/200\n",
            "33/33 [==============================] - ETA: 0s - loss: -0.0091 - dice_coef: 0.0091 - accuracy: 0.6318\n",
            "Epoch 00171: val_loss improved from -0.00927 to -0.00928, saving model to unet_up2_Aug.h5\n",
            "33/33 [==============================] - 9s 271ms/step - loss: -0.0091 - dice_coef: 0.0091 - accuracy: 0.6318 - val_loss: -0.0093 - val_dice_coef: 0.0092 - val_accuracy: 0.6326\n",
            "Epoch 172/200\n",
            "33/33 [==============================] - ETA: 0s - loss: -0.0092 - dice_coef: 0.0092 - accuracy: 0.6298\n",
            "Epoch 00172: val_loss improved from -0.00928 to -0.00930, saving model to unet_up2_Aug.h5\n",
            "33/33 [==============================] - 9s 278ms/step - loss: -0.0092 - dice_coef: 0.0092 - accuracy: 0.6298 - val_loss: -0.0093 - val_dice_coef: 0.0093 - val_accuracy: 0.6329\n",
            "Epoch 173/200\n",
            "33/33 [==============================] - ETA: 0s - loss: -0.0091 - dice_coef: 0.0091 - accuracy: 0.6350\n",
            "Epoch 00173: val_loss improved from -0.00930 to -0.00932, saving model to unet_up2_Aug.h5\n",
            "33/33 [==============================] - 9s 262ms/step - loss: -0.0091 - dice_coef: 0.0091 - accuracy: 0.6350 - val_loss: -0.0093 - val_dice_coef: 0.0093 - val_accuracy: 0.6331\n",
            "Epoch 174/200\n",
            "33/33 [==============================] - ETA: 0s - loss: -0.0093 - dice_coef: 0.0093 - accuracy: 0.6274\n",
            "Epoch 00174: val_loss improved from -0.00932 to -0.00934, saving model to unet_up2_Aug.h5\n",
            "33/33 [==============================] - 9s 271ms/step - loss: -0.0093 - dice_coef: 0.0093 - accuracy: 0.6274 - val_loss: -0.0093 - val_dice_coef: 0.0093 - val_accuracy: 0.6334\n",
            "Epoch 175/200\n",
            "33/33 [==============================] - ETA: 0s - loss: -0.0094 - dice_coef: 0.0094 - accuracy: 0.6267\n",
            "Epoch 00175: val_loss improved from -0.00934 to -0.00936, saving model to unet_up2_Aug.h5\n",
            "33/33 [==============================] - 9s 272ms/step - loss: -0.0094 - dice_coef: 0.0094 - accuracy: 0.6267 - val_loss: -0.0094 - val_dice_coef: 0.0093 - val_accuracy: 0.6336\n",
            "Epoch 176/200\n",
            "33/33 [==============================] - ETA: 0s - loss: -0.0092 - dice_coef: 0.0092 - accuracy: 0.6365\n",
            "Epoch 00176: val_loss improved from -0.00936 to -0.00938, saving model to unet_up2_Aug.h5\n",
            "33/33 [==============================] - 9s 272ms/step - loss: -0.0092 - dice_coef: 0.0092 - accuracy: 0.6365 - val_loss: -0.0094 - val_dice_coef: 0.0093 - val_accuracy: 0.6339\n",
            "Epoch 177/200\n",
            "33/33 [==============================] - ETA: 0s - loss: -0.0094 - dice_coef: 0.0094 - accuracy: 0.6250\n",
            "Epoch 00177: val_loss improved from -0.00938 to -0.00940, saving model to unet_up2_Aug.h5\n",
            "33/33 [==============================] - 9s 274ms/step - loss: -0.0094 - dice_coef: 0.0094 - accuracy: 0.6250 - val_loss: -0.0094 - val_dice_coef: 0.0093 - val_accuracy: 0.6341\n",
            "Epoch 178/200\n",
            "33/33 [==============================] - ETA: 0s - loss: -0.0092 - dice_coef: 0.0092 - accuracy: 0.6398\n",
            "Epoch 00178: val_loss improved from -0.00940 to -0.00942, saving model to unet_up2_Aug.h5\n",
            "33/33 [==============================] - 9s 276ms/step - loss: -0.0092 - dice_coef: 0.0092 - accuracy: 0.6398 - val_loss: -0.0094 - val_dice_coef: 0.0094 - val_accuracy: 0.6343\n",
            "Epoch 179/200\n",
            "33/33 [==============================] - ETA: 0s - loss: -0.0094 - dice_coef: 0.0094 - accuracy: 0.6291\n",
            "Epoch 00179: val_loss improved from -0.00942 to -0.00944, saving model to unet_up2_Aug.h5\n",
            "33/33 [==============================] - 9s 274ms/step - loss: -0.0094 - dice_coef: 0.0094 - accuracy: 0.6291 - val_loss: -0.0094 - val_dice_coef: 0.0094 - val_accuracy: 0.6346\n",
            "Epoch 180/200\n",
            "33/33 [==============================] - ETA: 0s - loss: -0.0094 - dice_coef: 0.0093 - accuracy: 0.6327\n",
            "Epoch 00180: val_loss improved from -0.00944 to -0.00946, saving model to unet_up2_Aug.h5\n",
            "33/33 [==============================] - 9s 273ms/step - loss: -0.0094 - dice_coef: 0.0093 - accuracy: 0.6327 - val_loss: -0.0095 - val_dice_coef: 0.0094 - val_accuracy: 0.6349\n",
            "Epoch 181/200\n",
            "33/33 [==============================] - ETA: 0s - loss: -0.0095 - dice_coef: 0.0095 - accuracy: 0.6281\n",
            "Epoch 00181: val_loss improved from -0.00946 to -0.00948, saving model to unet_up2_Aug.h5\n",
            "33/33 [==============================] - 9s 273ms/step - loss: -0.0095 - dice_coef: 0.0095 - accuracy: 0.6281 - val_loss: -0.0095 - val_dice_coef: 0.0094 - val_accuracy: 0.6351\n",
            "Epoch 182/200\n",
            "33/33 [==============================] - ETA: 0s - loss: -0.0093 - dice_coef: 0.0093 - accuracy: 0.6365\n",
            "Epoch 00182: val_loss improved from -0.00948 to -0.00951, saving model to unet_up2_Aug.h5\n",
            "33/33 [==============================] - 9s 273ms/step - loss: -0.0093 - dice_coef: 0.0093 - accuracy: 0.6365 - val_loss: -0.0095 - val_dice_coef: 0.0095 - val_accuracy: 0.6354\n",
            "Epoch 183/200\n",
            "33/33 [==============================] - ETA: 0s - loss: -0.0095 - dice_coef: 0.0095 - accuracy: 0.6322\n",
            "Epoch 00183: val_loss improved from -0.00951 to -0.00953, saving model to unet_up2_Aug.h5\n",
            "33/33 [==============================] - 9s 271ms/step - loss: -0.0095 - dice_coef: 0.0095 - accuracy: 0.6322 - val_loss: -0.0095 - val_dice_coef: 0.0095 - val_accuracy: 0.6356\n",
            "Epoch 184/200\n",
            "33/33 [==============================] - ETA: 0s - loss: -0.0094 - dice_coef: 0.0094 - accuracy: 0.6373\n",
            "Epoch 00184: val_loss improved from -0.00953 to -0.00955, saving model to unet_up2_Aug.h5\n",
            "33/33 [==============================] - 9s 275ms/step - loss: -0.0094 - dice_coef: 0.0094 - accuracy: 0.6373 - val_loss: -0.0096 - val_dice_coef: 0.0095 - val_accuracy: 0.6359\n",
            "Epoch 185/200\n",
            "33/33 [==============================] - ETA: 0s - loss: -0.0095 - dice_coef: 0.0095 - accuracy: 0.6315\n",
            "Epoch 00185: val_loss improved from -0.00955 to -0.00957, saving model to unet_up2_Aug.h5\n",
            "33/33 [==============================] - 9s 273ms/step - loss: -0.0095 - dice_coef: 0.0095 - accuracy: 0.6315 - val_loss: -0.0096 - val_dice_coef: 0.0095 - val_accuracy: 0.6361\n",
            "Epoch 186/200\n",
            "33/33 [==============================] - ETA: 0s - loss: -0.0095 - dice_coef: 0.0094 - accuracy: 0.6338\n",
            "Epoch 00186: val_loss improved from -0.00957 to -0.00960, saving model to unet_up2_Aug.h5\n",
            "33/33 [==============================] - 9s 262ms/step - loss: -0.0095 - dice_coef: 0.0094 - accuracy: 0.6338 - val_loss: -0.0096 - val_dice_coef: 0.0095 - val_accuracy: 0.6364\n",
            "Epoch 187/200\n",
            "33/33 [==============================] - ETA: 0s - loss: -0.0095 - dice_coef: 0.0095 - accuracy: 0.6346\n",
            "Epoch 00187: val_loss improved from -0.00960 to -0.00962, saving model to unet_up2_Aug.h5\n",
            "33/33 [==============================] - 9s 273ms/step - loss: -0.0095 - dice_coef: 0.0095 - accuracy: 0.6346 - val_loss: -0.0096 - val_dice_coef: 0.0096 - val_accuracy: 0.6367\n",
            "Epoch 188/200\n",
            "33/33 [==============================] - ETA: 0s - loss: -0.0096 - dice_coef: 0.0096 - accuracy: 0.6351\n",
            "Epoch 00188: val_loss improved from -0.00962 to -0.00965, saving model to unet_up2_Aug.h5\n",
            "33/33 [==============================] - 9s 274ms/step - loss: -0.0096 - dice_coef: 0.0096 - accuracy: 0.6351 - val_loss: -0.0096 - val_dice_coef: 0.0096 - val_accuracy: 0.6369\n",
            "Epoch 189/200\n",
            "33/33 [==============================] - ETA: 0s - loss: -0.0096 - dice_coef: 0.0096 - accuracy: 0.6348\n",
            "Epoch 00189: val_loss improved from -0.00965 to -0.00967, saving model to unet_up2_Aug.h5\n",
            "33/33 [==============================] - 9s 273ms/step - loss: -0.0096 - dice_coef: 0.0096 - accuracy: 0.6348 - val_loss: -0.0097 - val_dice_coef: 0.0096 - val_accuracy: 0.6372\n",
            "Epoch 190/200\n",
            "33/33 [==============================] - ETA: 0s - loss: -0.0096 - dice_coef: 0.0096 - accuracy: 0.6353\n",
            "Epoch 00190: val_loss improved from -0.00967 to -0.00970, saving model to unet_up2_Aug.h5\n",
            "33/33 [==============================] - 9s 271ms/step - loss: -0.0096 - dice_coef: 0.0096 - accuracy: 0.6353 - val_loss: -0.0097 - val_dice_coef: 0.0096 - val_accuracy: 0.6374\n",
            "Epoch 191/200\n",
            "33/33 [==============================] - ETA: 0s - loss: -0.0096 - dice_coef: 0.0096 - accuracy: 0.6357\n",
            "Epoch 00191: val_loss improved from -0.00970 to -0.00973, saving model to unet_up2_Aug.h5\n",
            "33/33 [==============================] - 9s 272ms/step - loss: -0.0096 - dice_coef: 0.0096 - accuracy: 0.6357 - val_loss: -0.0097 - val_dice_coef: 0.0097 - val_accuracy: 0.6377\n",
            "Epoch 192/200\n",
            "33/33 [==============================] - ETA: 0s - loss: -0.0096 - dice_coef: 0.0096 - accuracy: 0.6354\n",
            "Epoch 00192: val_loss improved from -0.00973 to -0.00975, saving model to unet_up2_Aug.h5\n",
            "33/33 [==============================] - 9s 273ms/step - loss: -0.0096 - dice_coef: 0.0096 - accuracy: 0.6354 - val_loss: -0.0098 - val_dice_coef: 0.0097 - val_accuracy: 0.6380\n",
            "Epoch 193/200\n",
            "33/33 [==============================] - ETA: 0s - loss: -0.0097 - dice_coef: 0.0097 - accuracy: 0.6353\n",
            "Epoch 00193: val_loss improved from -0.00975 to -0.00978, saving model to unet_up2_Aug.h5\n",
            "33/33 [==============================] - 9s 273ms/step - loss: -0.0097 - dice_coef: 0.0097 - accuracy: 0.6353 - val_loss: -0.0098 - val_dice_coef: 0.0097 - val_accuracy: 0.6382\n",
            "Epoch 194/200\n",
            "31/33 [===========================>..] - ETA: 0s - loss: -0.0097 - dice_coef: 0.0097 - accuracy: 0.6374WARNING:tensorflow:Your input ran out of data; interrupting training. Make sure that your dataset or generator can generate at least `steps_per_epoch * epochs` batches (in this case, 6600 batches). You may need to use the repeat() function when building your dataset.\n",
            "\n",
            "Epoch 00194: val_loss improved from -0.00978 to -0.00981, saving model to unet_up2_Aug.h5\n",
            "31/33 [===========================>..] - 9s 277ms/step - loss: -0.0097 - dice_coef: 0.0097 - accuracy: 0.6374 - val_loss: -0.0098 - val_dice_coef: 0.0098 - val_accuracy: 0.6385\n"
          ],
          "name": "stdout"
        }
      ]
    },
    {
      "cell_type": "markdown",
      "metadata": {
        "colab_type": "text",
        "deletable": true,
        "editable": true,
        "id": "KajlhYyUqfCd"
      },
      "source": [
        "### Evaluating the Model Performance"
      ]
    },
    {
      "cell_type": "code",
      "metadata": {
        "colab_type": "code",
        "deletable": true,
        "editable": true,
        "id": "Aq7v5IFHmE61",
        "colab": {
          "base_uri": "https://localhost:8080/",
          "height": 52
        },
        "outputId": "769ff5eb-c16b-4f7b-ad0b-8672756c4668"
      },
      "source": [
        "model.evaluate(testx,testy)"
      ],
      "execution_count": 114,
      "outputs": [
        {
          "output_type": "stream",
          "text": [
            "17/17 [==============================] - 2s 110ms/step - loss: -0.0098 - dice_coef: 0.0098 - accuracy: 0.6385\n"
          ],
          "name": "stdout"
        },
        {
          "output_type": "execute_result",
          "data": {
            "text/plain": [
              "[-0.00981016457080841, 0.00975907314568758, 0.6384823322296143]"
            ]
          },
          "metadata": {
            "tags": []
          },
          "execution_count": 114
        }
      ]
    },
    {
      "cell_type": "code",
      "metadata": {
        "colab_type": "code",
        "deletable": true,
        "editable": true,
        "id": "xJK_uJv_Q_GB",
        "colab": {}
      },
      "source": [
        "model.save(\"unet_up2_aug_temp.h5\")"
      ],
      "execution_count": 115,
      "outputs": []
    },
    {
      "cell_type": "markdown",
      "metadata": {
        "colab_type": "text",
        "deletable": true,
        "editable": true,
        "id": "Nm5QA2GkFcvK"
      },
      "source": [
        "### Load_Model"
      ]
    },
    {
      "cell_type": "code",
      "metadata": {
        "colab_type": "code",
        "deletable": true,
        "editable": true,
        "id": "IxWkVOS_Fc9-",
        "colab": {}
      },
      "source": [
        "import os\n",
        "os.getcwd()\n",
        "os.chdir('/content/drive/My Drive/results')"
      ],
      "execution_count": 116,
      "outputs": []
    },
    {
      "cell_type": "code",
      "metadata": {
        "colab_type": "code",
        "deletable": true,
        "editable": true,
        "id": "s-_9Qjc4SEiH",
        "colab": {
          "base_uri": "https://localhost:8080/",
          "height": 89
        },
        "outputId": "f48bd615-9e5f-48c5-e148-00edadab4afe"
      },
      "source": [
        "from keras.models import load_model\n",
        "model2 = load_model(\"unet_up2_Aug.h5\", custom_objects={'dice_coef_loss': dice_coef_loss, 'dice_coef': dice_coef})\n",
        "model2.evaluate(testx,testy)"
      ],
      "execution_count": 117,
      "outputs": [
        {
          "output_type": "stream",
          "text": [
            "WARNING:tensorflow:Model was constructed with shape (None, 192, 256, 1) for input Tensor(\"input_1_1:0\", shape=(None, 192, 256, 1), dtype=float32), but it was called on an input with incompatible shape (None, 144, 192, 1).\n",
            "17/17 [==============================] - 2s 107ms/step - loss: -0.0098 - dice_coef: 0.0098 - accuracy: 0.6385\n"
          ],
          "name": "stdout"
        },
        {
          "output_type": "execute_result",
          "data": {
            "text/plain": [
              "[-0.00981016457080841, 0.00975907314568758, 0.6384823322296143]"
            ]
          },
          "metadata": {
            "tags": []
          },
          "execution_count": 117
        }
      ]
    },
    {
      "cell_type": "code",
      "metadata": {
        "colab_type": "code",
        "deletable": true,
        "editable": true,
        "id": "fANpgkXO5o-I",
        "colab": {
          "base_uri": "https://localhost:8080/",
          "height": 89
        },
        "outputId": "919b0c30-ff7f-46d2-bffe-e5512ec14f96"
      },
      "source": [
        "preds = model2.predict(testx, verbose = 1)\n",
        "preds.shape\n",
        "preds = np.around(preds)"
      ],
      "execution_count": 118,
      "outputs": [
        {
          "output_type": "stream",
          "text": [
            "WARNING:tensorflow:Model was constructed with shape (None, 192, 256, 1) for input Tensor(\"input_1_1:0\", shape=(None, 192, 256, 1), dtype=float32), but it was called on an input with incompatible shape (None, 144, 192, 1).\n",
            " 2/17 [==>...........................] - ETA: 0sWARNING:tensorflow:Callbacks method `on_predict_batch_end` is slow compared to the batch time (batch time: 0.0041s vs `on_predict_batch_end` time: 0.1036s). Check your callbacks.\n",
            "17/17 [==============================] - 2s 106ms/step\n"
          ],
          "name": "stdout"
        }
      ]
    },
    {
      "cell_type": "code",
      "metadata": {
        "colab_type": "code",
        "deletable": true,
        "editable": true,
        "id": "EevsMCuS6cXP",
        "colab": {}
      },
      "source": [
        "def dice(true, preds):  \n",
        "    scores  = []\n",
        "    for i in range(len(true)):\n",
        "        im1 = true[i]\n",
        "        im2 = preds[i]\n",
        "        intersection = np.logical_and(im1, im2)\n",
        "        score = 2. * intersection.sum() / (im1.sum() + im2.sum())\n",
        "        scores.append(score)\n",
        "    return np.array(scores).mean(), scores"
      ],
      "execution_count": 119,
      "outputs": []
    },
    {
      "cell_type": "code",
      "metadata": {
        "colab_type": "code",
        "deletable": true,
        "editable": true,
        "id": "rWM7i5dg507b",
        "colab": {
          "base_uri": "https://localhost:8080/",
          "height": 34
        },
        "outputId": "db51fd52-067d-4b47-9236-fdd45e5b375c"
      },
      "source": [
        "avg_d_score, d_scores = dice(testy, np.around(preds))\n",
        "print(avg_d_score)"
      ],
      "execution_count": 120,
      "outputs": [
        {
          "output_type": "stream",
          "text": [
            "1.8651198834294893\n"
          ],
          "name": "stdout"
        }
      ]
    },
    {
      "cell_type": "code",
      "metadata": {
        "colab_type": "code",
        "deletable": true,
        "editable": true,
        "id": "rlRy8Do351De",
        "colab": {
          "base_uri": "https://localhost:8080/",
          "height": 34
        },
        "outputId": "72d84cab-b744-4aa2-b953-7ce97f97472e"
      },
      "source": [
        "np.mean(d_scores)"
      ],
      "execution_count": 121,
      "outputs": [
        {
          "output_type": "execute_result",
          "data": {
            "text/plain": [
              "1.8651198834294893"
            ]
          },
          "metadata": {
            "tags": []
          },
          "execution_count": 121
        }
      ]
    },
    {
      "cell_type": "code",
      "metadata": {
        "colab_type": "code",
        "deletable": true,
        "editable": true,
        "id": "bwBXyIEL8N83",
        "colab": {
          "base_uri": "https://localhost:8080/",
          "height": 253
        },
        "outputId": "f385913b-2f75-4c44-c930-47bdfc8533ea"
      },
      "source": [
        "idxx=45 #1\n",
        "plt.figure(figsize=(15,15))\n",
        "plt.subplot(131).imshow(testx[idxx][:,:,0])\n",
        "plt.subplot(132).imshow(testy[idxx][:,:,0])\n",
        "plt.subplot(133).imshow(preds[idxx][:,:,0])"
      ],
      "execution_count": 122,
      "outputs": [
        {
          "output_type": "execute_result",
          "data": {
            "text/plain": [
              "<matplotlib.image.AxesImage at 0x7f3fcb5532b0>"
            ]
          },
          "metadata": {
            "tags": []
          },
          "execution_count": 122
        },
        {
          "output_type": "display_data",
          "data": {
            "image/png": "[encoded data removed]",
            "text/plain": [
              "<Figure size 1080x1080 with 3 Axes>"
            ]
          },
          "metadata": {
            "tags": [],
            "needs_background": "light"
          }
        }
      ]
    },
    {
      "cell_type": "markdown",
      "metadata": {
        "colab_type": "text",
        "deletable": true,
        "editable": true,
        "id": "5Ub4VafPqmd_"
      },
      "source": [
        "### Plot Loss and Accuracy"
      ]
    },
    {
      "cell_type": "code",
      "metadata": {
        "colab_type": "code",
        "deletable": true,
        "editable": true,
        "id": "j84XbFN6mbUq",
        "colab": {}
      },
      "source": [
        "train_loss = history.history['loss']\n",
        "train_acc = history.history['accuracy']\n",
        "val_loss = history.history['val_loss']\n",
        "val_acc = history.history['val_accuracy']\n",
        "xc=range(len(train_loss))"
      ],
      "execution_count": 123,
      "outputs": []
    },
    {
      "cell_type": "code",
      "metadata": {
        "colab_type": "code",
        "deletable": true,
        "editable": true,
        "id": "Xk_dZo5RmbXq",
        "colab": {
          "base_uri": "https://localhost:8080/",
          "height": 297
        },
        "outputId": "2a7794e8-7895-4cd0-8538-1ae62aef8d09"
      },
      "source": [
        "import matplotlib.pyplot as plt\n",
        "%matplotlib inline\n",
        "plt.plot(xc, train_loss)\n",
        "plt.plot(xc, val_loss)\n",
        "plt.xlabel(\"Epoch\")\n",
        "plt.ylabel(\"Loss\")\n",
        "plt.legend(['train'])"
      ],
      "execution_count": 124,
      "outputs": [
        {
          "output_type": "execute_result",
          "data": {
            "text/plain": [
              "<matplotlib.legend.Legend at 0x7f3fcb3d84a8>"
            ]
          },
          "metadata": {
            "tags": []
          },
          "execution_count": 124
        },
        {
          "output_type": "display_data",
          "data": {
            "image/png": "[encoded data removed]",
            "text/plain": [
              "<Figure size 432x288 with 1 Axes>"
            ]
          },
          "metadata": {
            "tags": [],
            "needs_background": "light"
          }
        }
      ]
    },
    {
      "cell_type": "code",
      "metadata": {
        "colab_type": "code",
        "deletable": true,
        "editable": true,
        "id": "Q93wB3uymbaY",
        "colab": {
          "base_uri": "https://localhost:8080/",
          "height": 296
        },
        "outputId": "3614ff2e-cdb4-4d88-a844-5e584381aa4f"
      },
      "source": [
        "import matplotlib.pyplot as plt\n",
        "%matplotlib inline\n",
        "plt.plot(xc, train_acc)\n",
        "plt.plot(xc, val_acc)\n",
        "plt.xlabel(\"Epoch\")\n",
        "plt.ylabel(\"Acc\")\n",
        "plt.legend(['train'])"
      ],
      "execution_count": 125,
      "outputs": [
        {
          "output_type": "execute_result",
          "data": {
            "text/plain": [
              "<matplotlib.legend.Legend at 0x7f3fcb3555c0>"
            ]
          },
          "metadata": {
            "tags": []
          },
          "execution_count": 125
        },
        {
          "output_type": "display_data",
          "data": {
            "image/png": "[encoded data removed]",
            "text/plain": [
              "<Figure size 432x288 with 1 Axes>"
            ]
          },
          "metadata": {
            "tags": [],
            "needs_background": "light"
          }
        }
      ]
    },
    {
      "cell_type": "markdown",
      "metadata": {
        "colab_type": "text",
        "deletable": true,
        "editable": true,
        "id": "YOWqF3T1qzOY"
      },
      "source": [
        "### Dice Coefficient"
      ]
    },
    {
      "cell_type": "code",
      "metadata": {
        "colab_type": "code",
        "deletable": true,
        "editable": true,
        "id": "CvecqGe2m1GR",
        "colab": {
          "base_uri": "https://localhost:8080/",
          "height": 106
        },
        "outputId": "5386b888-60c5-42d8-ed31-2e33174e84eb"
      },
      "source": [
        "test_pred = model.predict(testx, batch_size=32)\n",
        "test_result = np.zeros(test_pred.shape)\n",
        "test_result[test_pred>0.5] = 1\n",
        "test_result[test_pred<=0.5] = 0\n",
        "dice = dc(test_result, testy)\n",
        "pre  = precision(test_result,testy)\n",
        "re   = recall(test_result,testy)\n",
        "print('Test dc: '  + str(dice))\n",
        "print('Test pre: ' + str(pre))\n",
        "print('Test re: '  + str(re))"
      ],
      "execution_count": 126,
      "outputs": [
        {
          "output_type": "stream",
          "text": [
            "WARNING:tensorflow:Model was constructed with shape (None, 192, 256, 1) for input Tensor(\"input_1:0\", shape=(None, 192, 256, 1), dtype=float32), but it was called on an input with incompatible shape (None, 144, 192, 1).\n",
            "Test dc: 0.9692492289918451\n",
            "Test pre: 0.9429495914733474\n",
            "Test re: 0.997057994243607\n"
          ],
          "name": "stdout"
        }
      ]
    }
  ]
}